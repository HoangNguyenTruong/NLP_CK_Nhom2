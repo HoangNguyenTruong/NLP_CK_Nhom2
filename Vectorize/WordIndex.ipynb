{
 "cells": [
  {
   "cell_type": "markdown",
   "metadata": {
    "id": "0xEtKU20kT3t"
   },
   "source": [
    "# __1. Nhập thư viện__"
   ]
  },
  {
   "cell_type": "code",
   "execution_count": 31,
   "metadata": {},
   "outputs": [],
   "source": [
    "# # Connect to gg drive\n",
    "# from google.colab import drive\n",
    "# drive.mount('/content/drive')"
   ]
  },
  {
   "cell_type": "code",
   "execution_count": 32,
   "metadata": {},
   "outputs": [],
   "source": [
    "# !pip install keras-tuner\n",
    "# !pip install scikeras\n",
    "# !pip install underthesea\n",
    "# !pip install pyvi\n",
    "# !pip install import-ipynb"
   ]
  },
  {
   "cell_type": "code",
   "execution_count": 33,
   "metadata": {
    "colab": {
     "base_uri": "https://localhost:8080/"
    },
    "collapsed": true,
    "executionInfo": {
     "elapsed": 2070,
     "status": "ok",
     "timestamp": 1734288004775,
     "user": {
      "displayName": "Nguyễn Trương Hoàng",
      "userId": "04971599599493899416"
     },
     "user_tz": -420
    },
    "id": "5mKcGyigtsEs",
    "outputId": "0a378fe9-90a2-4413-d5a9-dab074d19aeb"
   },
   "outputs": [
    {
     "name": "stderr",
     "output_type": "stream",
     "text": [
      "[nltk_data] Downloading package twitter_samples to\n",
      "[nltk_data]     C:\\Users\\Nguyen_Thanh_Vinh\\AppData\\Roaming\\nltk_data..\n",
      "[nltk_data]     .\n",
      "[nltk_data]   Package twitter_samples is already up-to-date!\n",
      "[nltk_data] Downloading package stopwords to\n",
      "[nltk_data]     C:\\Users\\Nguyen_Thanh_Vinh\\AppData\\Roaming\\nltk_data..\n",
      "[nltk_data]     .\n",
      "[nltk_data]   Package stopwords is already up-to-date!\n",
      "[nltk_data] Downloading package averaged_perceptron_tagger_eng to\n",
      "[nltk_data]     C:\\Users\\Nguyen_Thanh_Vinh\\AppData\\Roaming\\nltk_data..\n",
      "[nltk_data]     .\n",
      "[nltk_data]   Package averaged_perceptron_tagger_eng is already up-to-\n",
      "[nltk_data]       date!\n",
      "[nltk_data] Downloading package wordnet to\n",
      "[nltk_data]     C:\\Users\\Nguyen_Thanh_Vinh\\AppData\\Roaming\\nltk_data..\n",
      "[nltk_data]     .\n",
      "[nltk_data]   Package wordnet is already up-to-date!\n"
     ]
    }
   ],
   "source": [
    "import numpy as np\n",
    "import tensorflow as tf\n",
    "import matplotlib.pyplot as plt\n",
    "import seaborn as sns\n",
    "from sklearn.decomposition import PCA\n",
    "import pandas as pd\n",
    "from nltk.tokenize import TweetTokenizer\n",
    "from nltk.stem import WordNetLemmatizer\n",
    "lemmatizer = WordNetLemmatizer()\n",
    "from nltk.corpus import wordnet\n",
    "import underthesea\n",
    "\n",
    "import string\n",
    "import re\n",
    "import nltk\n",
    "from underthesea import word_tokenize, pos_tag\n",
    "from pyvi import ViTokenizer, ViPosTagger\n",
    "nltk.download('twitter_samples')\n",
    "nltk.download('stopwords')\n",
    "nltk.download('averaged_perceptron_tagger_eng')\n",
    "nltk.download('wordnet')\n",
    "\n",
    "\n",
    "from sklearn.model_selection import RandomizedSearchCV\n",
    "from sklearn.metrics import classification_report, roc_auc_score, roc_curve, confusion_matrix\n",
    "from sklearn.metrics import accuracy_score, precision_score, recall_score\n",
    "\n"
   ]
  },
  {
   "cell_type": "code",
   "execution_count": 34,
   "metadata": {},
   "outputs": [],
   "source": [
    "import import_ipynb\n",
    "import MLTunning as MLT"
   ]
  },
  {
   "cell_type": "markdown",
   "metadata": {
    "id": "zsLHG33AkT3y"
   },
   "source": [
    "# __2. Vectorize - word indexing__"
   ]
  },
  {
   "cell_type": "code",
   "execution_count": 35,
   "metadata": {
    "id": "cLjN2pgJkT3y"
   },
   "outputs": [],
   "source": [
    "def process_tweet(tweet):\n",
    "    # Tách từ và gán nhãn từ loại\n",
    "    tweet_tokens = pos_tag(word_tokenize(tweet, format='text'))\n",
    "\n",
    "    # Xử lý từng từ\n",
    "    tweets_clean = []\n",
    "    for word, pos in tweet_tokens:\n",
    "        if word not in string.punctuation:\n",
    "            # Gán nhãn từ loại phù hợp\n",
    "            lemma_word = lemmatizer.lemmatize(word, pos_tag_convert_vietnamese(pos)) # Chuyển về dạng gốc của từ, nếu dùng cho Tiếng Việt thì không cần. Chỉ cần POS tag và chọn từ quan trọng.\n",
    "            tweets_clean.append(lemma_word)\n",
    "\n",
    "    return tweets_clean\n",
    "def pos_tag_convert_vietnamese(tag):\n",
    "    \"\"\"\n",
    "    Chuyển đổi nhãn từ loại của Tiếng Việt sang các nhãn tương ứng trong WordNet\n",
    "    \"\"\"\n",
    "    if tag.startswith('A'):  # Tính từ\n",
    "        return wordnet.ADJ\n",
    "    elif tag.startswith('V'):  # Động từ\n",
    "        return wordnet.VERB\n",
    "    elif tag.startswith('N'):  # Danh từ\n",
    "        return wordnet.NOUN\n",
    "    elif tag.startswith('R'):  # Trạng từ\n",
    "        return wordnet.ADV\n",
    "    else:\n",
    "        return wordnet.NOUN"
   ]
  },
  {
   "cell_type": "code",
   "execution_count": 36,
   "metadata": {
    "id": "J-r1U5aSkT3z"
   },
   "outputs": [],
   "source": [
    "def build_vocabulary(corpus):\n",
    "    vocab = {'': 0, '[UNK]': 1}\n",
    "\n",
    "    for tweet in corpus:\n",
    "        for word in tweet:\n",
    "            if word not in vocab:\n",
    "                vocab[word] = len(vocab)\n",
    "\n",
    "    return vocab"
   ]
  },
  {
   "cell_type": "code",
   "execution_count": 37,
   "metadata": {
    "id": "T5kLlQbjkT3z"
   },
   "outputs": [],
   "source": [
    "def max_length(training_x, validation_x):\n",
    "\n",
    "    max_len = -1\n",
    "    for tweet in training_x:\n",
    "        if max_len < len(tweet): max_len = len(tweet)\n",
    "\n",
    "    for tweet in validation_x:\n",
    "        if max_len < len(tweet): max_len = len(tweet)\n",
    "\n",
    "    return max_len"
   ]
  },
  {
   "cell_type": "code",
   "execution_count": 38,
   "metadata": {
    "id": "DE4i3z93kT30"
   },
   "outputs": [],
   "source": [
    "def padded_sequence(tweet, vocab_dict, max_len, unk_token='[UNK]'):\n",
    "    unk_ID = vocab_dict[unk_token]\n",
    "    tensor_l = []\n",
    "\n",
    "    for word in tweet:\n",
    "\n",
    "        word_ID = vocab_dict[word] if word in vocab_dict else unk_ID\n",
    "        tensor_l.append(word_ID)\n",
    "\n",
    "    padded_tensor = tensor_l + [0] * (max_len - len(tensor_l))\n",
    "\n",
    "    return padded_tensor"
   ]
  },
  {
   "cell_type": "markdown",
   "metadata": {
    "id": "ae5TzYTWkT30"
   },
   "source": [
    "# __4. Hyperparameter tunning - DL__"
   ]
  },
  {
   "cell_type": "code",
   "execution_count": 39,
   "metadata": {
    "id": "eYzubnhgmEWu"
   },
   "outputs": [],
   "source": [
    "num_words = 0\n",
    "max_len = 0"
   ]
  },
  {
   "cell_type": "code",
   "execution_count": 72,
   "metadata": {
    "id": "aBZBvC6jkT32"
   },
   "outputs": [],
   "source": [
    "import keras_tuner as kt\n",
    "import os\n",
    "from tensorflow.keras.models import Sequential\n",
    "from tensorflow.keras.layers import Embedding, LSTM, Dropout, GlobalAveragePooling1D, Dense\n",
    "from tensorflow.keras.optimizers import Adam\n",
    "\n",
    "def build_model(hp):\n",
    "    model = Sequential()\n",
    "    embedding_dim = 16\n",
    "    model.add(Embedding(input_dim=num_words, output_dim=embedding_dim, input_length=max_len))\n",
    "\n",
    "    for _ in range(hp.Int('num_lstm_layers', 1, 3)):\n",
    "        model.add(LSTM(hp.Int('lstm_units', 32, 128, step=32), return_sequences=True))\n",
    "        model.add(Dropout(0.5))\n",
    "\n",
    "    model.add(GlobalAveragePooling1D())\n",
    "    model.add(Dense(1, activation='sigmoid'))\n",
    "\n",
    "    model.compile(\n",
    "        loss='binary_crossentropy',\n",
    "        optimizer=Adam(hp.Float('learning_rate', 1e-4, 1e-2, sampling='log')),\n",
    "        metrics=['accuracy']\n",
    "    )\n",
    "    return model"
   ]
  },
  {
   "cell_type": "markdown",
   "metadata": {
    "id": "SJxIdbPrkT32"
   },
   "source": [
    "# __5. Phân tích đánh giá câu dài - data full__"
   ]
  },
  {
   "cell_type": "markdown",
   "metadata": {
    "id": "nVLBQ34bkT32"
   },
   "source": [
    "### ___5.1. Đọc và tiền xử lý dữ liệu___"
   ]
  },
  {
   "cell_type": "code",
   "execution_count": 41,
   "metadata": {},
   "outputs": [
    {
     "data": {
      "text/html": [
       "<div>\n",
       "<style scoped>\n",
       "    .dataframe tbody tr th:only-of-type {\n",
       "        vertical-align: middle;\n",
       "    }\n",
       "\n",
       "    .dataframe tbody tr th {\n",
       "        vertical-align: top;\n",
       "    }\n",
       "\n",
       "    .dataframe thead th {\n",
       "        text-align: right;\n",
       "    }\n",
       "</style>\n",
       "<table border=\"1\" class=\"dataframe\">\n",
       "  <thead>\n",
       "    <tr style=\"text-align: right;\">\n",
       "      <th></th>\n",
       "      <th>content_comments</th>\n",
       "      <th>comment_eng</th>\n",
       "      <th>sentiment</th>\n",
       "      <th>word_tokenize</th>\n",
       "    </tr>\n",
       "  </thead>\n",
       "  <tbody>\n",
       "    <tr>\n",
       "      <th>0</th>\n",
       "      <td>thay đổi coment tăng  size hãy làm như bạn muố...</td>\n",
       "      <td>Change the cmt to increase 1 size. Please do a...</td>\n",
       "      <td>0</td>\n",
       "      <td>thay_đổi coment tăng size hãy làm như bạn muốn...</td>\n",
       "    </tr>\n",
       "    <tr>\n",
       "      <th>1</th>\n",
       "      <td>quần dày mỗi lần size nhỏ nhắn tin cửa hàng đổ...</td>\n",
       "      <td>thick pants\\nEvery time the size is small, mes...</td>\n",
       "      <td>0</td>\n",
       "      <td>quần dày mỗi lần size nhỏ_nhắn tin cửa_hàng đổ...</td>\n",
       "    </tr>\n",
       "    <tr>\n",
       "      <th>2</th>\n",
       "      <td>đã nhận được đóng gói màu đúng mẫu đúng sau sẽ...</td>\n",
       "      <td>Received the goods...shop packaged quickly...r...</td>\n",
       "      <td>1</td>\n",
       "      <td>đã nhận được đóng_gói màu đúng mẫu đúng sau sẽ...</td>\n",
       "    </tr>\n",
       "    <tr>\n",
       "      <th>3</th>\n",
       "      <td>đã nhận được đóng gói sizesẽ khả năng quay lại...</td>\n",
       "      <td>Received the goods...shop packaged quickly...r...</td>\n",
       "      <td>1</td>\n",
       "      <td>đã nhận được đóng_gói sizesẽ khả_năng quay lại...</td>\n",
       "    </tr>\n",
       "    <tr>\n",
       "      <th>4</th>\n",
       "      <td>hình ảnh nhận xu và quan đơn giản thôi mua nhi...</td>\n",
       "      <td>The picture of receipt of coin and quan is sim...</td>\n",
       "      <td>0</td>\n",
       "      <td>hình_ảnh nhận xu và quan đơn_giản thôi mua nhi...</td>\n",
       "    </tr>\n",
       "  </tbody>\n",
       "</table>\n",
       "</div>"
      ],
      "text/plain": [
       "                                    content_comments  \\\n",
       "0  thay đổi coment tăng  size hãy làm như bạn muố...   \n",
       "1  quần dày mỗi lần size nhỏ nhắn tin cửa hàng đổ...   \n",
       "2  đã nhận được đóng gói màu đúng mẫu đúng sau sẽ...   \n",
       "3  đã nhận được đóng gói sizesẽ khả năng quay lại...   \n",
       "4  hình ảnh nhận xu và quan đơn giản thôi mua nhi...   \n",
       "\n",
       "                                         comment_eng  sentiment  \\\n",
       "0  Change the cmt to increase 1 size. Please do a...          0   \n",
       "1  thick pants\\nEvery time the size is small, mes...          0   \n",
       "2  Received the goods...shop packaged quickly...r...          1   \n",
       "3  Received the goods...shop packaged quickly...r...          1   \n",
       "4  The picture of receipt of coin and quan is sim...          0   \n",
       "\n",
       "                                       word_tokenize  \n",
       "0  thay_đổi coment tăng size hãy làm như bạn muốn...  \n",
       "1  quần dày mỗi lần size nhỏ_nhắn tin cửa_hàng đổ...  \n",
       "2  đã nhận được đóng_gói màu đúng mẫu đúng sau sẽ...  \n",
       "3  đã nhận được đóng_gói sizesẽ khả_năng quay lại...  \n",
       "4  hình_ảnh nhận xu và quan đơn_giản thôi mua nhi...  "
      ]
     },
     "execution_count": 41,
     "metadata": {},
     "output_type": "execute_result"
    }
   ],
   "source": [
    "file_path = r'C:\\\\Users\\\\Nguyen_Thanh_Vinh\\\\Downloads\\\\NopThay\\\\preprocessed_data.xlsx'\n",
    "df = pd.read_excel(file_path)\n",
    "df.head()"
   ]
  },
  {
   "cell_type": "markdown",
   "metadata": {
    "id": "BBHS2VevkT33"
   },
   "source": [
    "### ___5.2. text vectorizer - word index - Full___"
   ]
  },
  {
   "cell_type": "code",
   "execution_count": 42,
   "metadata": {
    "colab": {
     "base_uri": "https://localhost:8080/",
     "height": 459
    },
    "executionInfo": {
     "elapsed": 603,
     "status": "ok",
     "timestamp": 1734288051903,
     "user": {
      "displayName": "Nguyễn Trương Hoàng",
      "userId": "04971599599493899416"
     },
     "user_tz": -420
    },
    "id": "_6ROIIRzkT33",
    "outputId": "1e405c1a-73bf-4b4e-e06b-c3e8e1a7d2a5"
   },
   "outputs": [
    {
     "data": {
      "text/plain": [
       "['thay_đổi coment tăng size hãy làm như bạn muốn bạn có muốn điện_thoại của mình tăng lên kích_cỡ không đàn hồi dày tui ziper vừa size xin_lỗi',\n",
       " 'quần dày mỗi lần size nhỏ_nhắn tin cửa_hàng đổi size lớn hơn nhưng cửa_hàng không trả đang làm_ăn rất tệ',\n",
       " 'đã nhận được đóng_gói màu đúng mẫu đúng sau sẽ khả_năng quay lại ủng_hộ các bạn ủng_hộ',\n",
       " 'đã nhận được đóng_gói sizesẽ khả_năng quay lại ủng_hộ cửa_hàng lần sauhãy ghé ủng_hộ cửa_hàng nhé',\n",
       " 'hình_ảnh nhận xu và quan đơn_giản thôi mua nhiều lần rồi nhưng lần này vải có_vẻ mỏng hơn lần trước thì mua ở đâu nhỉ',\n",
       " 'nếu bạn đang bị quầng thâm và bọng mắt như tôi thì hãy đi điều_trị ngay đây tôi từng bị stres vì đôi mắt thâm_quầng và bọng_mắt khủng_khiếp tôi sinh ra đã mắc bệnh này ngủ sớm cũng gây ra ngủ quá nhiều cũng gây ra_mắt lúc_nào cũng đen_😞 nhìn rất khó cũng đã thử mua loại kem này kem nọ về bôi nhưng không hiệu_quả nên không đi_nữa bác_sĩ quyết_tâm chữa khỏi cho yên_tâm may_mắn được một người bạn giới_thiệu đến phòng_khám bác_sĩ nhung kết_quả này sau tháng có được coi là thành_công trọn_vẹn còn bị như mình thì nên đi điều_trị ngay nhé',\n",
       " 'đã nhận được đóng_gói sizesẽ khả_năng quay lại ủng_hộ cửa_hàng lần saucác bạn ủng_hộ',\n",
       " 'đã nhận được đóng_gói màu đúng mẫu đúng sau sẽ khả_năng quay lại ủng_hộ các bạn ủng_hộ',\n",
       " 'chất vải thì ổn như quảng_cáo nhưng số kg thì không giống nhau ai đặt_hàng sẽ bị trừ một khoản nhỏ nếu muốn ôm thì không sao nếu rộng thì trừ kg',\n",
       " 'thiết_kế đẹp phù_hợp khi chơi thể_thao tuy_nhiên chiếc quần này được thiết_kế ôm vừa vặn nên dù tăng size vẫn có cảm_giác chật',\n",
       " 'chất vải mềm_mại và thoải_mái quần_short hoàn_hảo cho thời_tiết nóng_bức',\n",
       " 'hàng nhận được như mô_tả vải_bền và không xù sẽ mua thêm ❤',\n",
       " 'chất vải mềm mịn_form khá đẹp ôm mặt khá thoải_mái khi trời nóng',\n",
       " 'chuyển phát nhanh chất_lượng xứng_đáng với giá tiền người gửi hàng rất thân_thiện',\n",
       " 'quần đẹp_hình chỉ để nhận xu thôi 👌',\n",
       " 'chất vải mềm_mại và thoải_mái quần_short hoàn_hảo cho thời_tiết nóng_bức',\n",
       " 'hàng nhận được như mô_tả vải_bền và không xù sẽ mua thêm ❤',\n",
       " 'chất vải mềm mịn_form khá đẹp ôm mặt khá thoải_mái khi trời nóng',\n",
       " 'chuyển phát nhanh chất_lượng xứng_đáng với giá tiền người gửi hàng rất thân_thiện',\n",
       " 'quần đẹp hình_ảnh chỉ nhằm mục_đích nhận xu thôi 👌',\n",
       " 'đóng_gói sản_phẩm cẩn_thận chuyển phát nhanh chất_lượng sản_phẩm ổn',\n",
       " 'quần ok giá hợp_lý giá ok sẽ ủng_hộ lần sau',\n",
       " 'quần ok giá hợp_lý giá ok sẽ ủng_hộ lần sau',\n",
       " 'áo vừa vặn đường may khá gọn_gàng nhưng vải hơi mỏng và nóng',\n",
       " 'đã nhận được hàng trong thế_giới rộng_lớn hãy là người tiêu_dùng thông_thái',\n",
       " 'đóng_gói sản_phẩm cẩn_thận chuyển phát nhanh chất_lượng sản_phẩm ổn',\n",
       " 'quần ok giá hợp_lý giá ok sẽ ủng_hộ lần sau',\n",
       " 'quần ok giá hợp_lý giá ok sẽ ủng_hộ lần sau',\n",
       " 'áo vừa vặn đường may khá gọn_gàng nhưng vải hơi mỏng và nóng',\n",
       " 'đã nhận được hàng trong thế_giới rộng_lớn hãy là người tiêu_dùng thông_thái',\n",
       " 'vừa vặn và chất_lượng tuyệt_vời tôi thích các tùy chọn màu_sắc có sẵn',\n",
       " 'túi có khóa kéo tiện_lợi đựng điện_thoại thích chất vải dày_dặn mát_mẻ',\n",
       " 'sản_phẩm đúng kích_thước thiết_kế đẹp phù_hợp với thể_thao',\n",
       " 'sản_phẩm vừa_vặn nhưng chất vải kém và nóng chấp_nhận được trong tầm giá',\n",
       " 'đẹp nhẹ thoải_mái nói_chung là ổn dùng lâu_dài đeo thoải_mái',\n",
       " 'sản_phẩm này giống như cửa_hàng đã đưa thông_tin về nó và đây là hình_ảnh',\n",
       " 'túi có khóa kéo tiện_lợi đựng điện_thoại thích chất vải dày_dặn mát_mẻ',\n",
       " 'nhìn_chung khá ổn có túi_khóa kéo tiện_lợi để điện_thoại giá_cả hợp_lý',\n",
       " 'túi có khóa kéo tiện_lợi đựng điện_thoại thích chất vải dày_dặn mát_mẻ',\n",
       " 'túi có khóa kéo tiện_lợi đựng điện_thoại chất vải mềm_mại và thoải_mái',\n",
       " 'quần short thời_trang và sành_điệu quần_short thời_trang và sành_điệu',\n",
       " 'quần short thời_trang và sành_điệu quần_short thoải_mái và thời_trang',\n",
       " 'chất_liệu vải co_dãn mịn đẹp size hơi chật nên tăng lên size màu_sắc_đẹp',\n",
       " 'chiều cân ở đây đáng tin_cậy miễn_phí vận_chuyển_giao hàng nhanh',\n",
       " 'sản_phẩm này giống như cửa_hàng đã đưa thông_tin về nó và đây là hình_ảnh',\n",
       " 'quần đẹp vải dày_mát đã mua nhiều lần sẽ tiếp_tục ủng_hộ',\n",
       " 'quần_short hoàn_hảo cho thời_tiết nóng_bức quần short thoải_mái và thời_trang',\n",
       " 'quần short thoải_mái và thời_trang quần_short hoàn_hảo cho thời_tiết nóng_bức',\n",
       " 'quần đẹp đúng như mô_tả giao hàng nhanh vừa vặn sẽ ủng_hộ lần sau',\n",
       " 'quần_short hoàn_hảo cho thời_tiết nóng_bức hoàn_hảo cho việc tập gym hoặc chạy bộ',\n",
       " 'chất_liệu vải mềm_mại và thoải_mái chất_liệu vải mềm_mại và thoải_mái chất_liệu vải mềm_mại và thoải_mái',\n",
       " 'tôi thích các tùy chọn màu_sắc có sẵn tôi thích các tùy chọn màu_sắc có sẵn',\n",
       " 'tôi thích các tùy chọn màu_sắc có sẵn tôi thích các tùy chọn màu_sắc có sẵn',\n",
       " 'quần short thời_trang và sành_điệu quần_short hoàn_hảo cho thời_tiết nóng_bức',\n",
       " 'lần đầu mua hàng ở shop khá hài_lòng về sản_phẩm hình_thức đẹp đường chỉ nhỏ',\n",
       " 'túi có khóa kéo tiện_lợi đựng điện_thoại quần_short thoải_mái và thời_trang',\n",
       " 'thiết_kế tuyệt_vời phù_hợp khi chơi thể_thao hoàn_hảo khi tập gym hoặc chạy bộ',\n",
       " 'thiết_kế tuyệt_vời phù_hợp cho thể_thao vừa vặn và chất_lượng tuyệt_vời',\n",
       " 'tôi thích các tùy chọn màu_sắc có sẵn tôi thích các tùy chọn màu_sắc có sẵn',\n",
       " 'quần short thoải_mái và thời_trang vải mềm_mại và thoải_mái hình_ảnh chỉ mang tính_chất tham_khảo',\n",
       " 'chất_lượng ổn so với giá tiền vải mặc thoải_mái vừa vặn chất vải mềm_mại và thoải_mái',\n",
       " 'vừa vặn và chất_lượng tuyệt_vời vải mềm_mại và thoải_mái thích vải dày và mát',\n",
       " 'túi có khóa kéo tiện_lợi đựng điện_thoại quần_short thời_trang và sành_điệu',\n",
       " 'thiết_kế tuyệt_vời phù_hợp khi chơi thể_thao quần_short thoải_mái và thời_trang',\n",
       " 'thích chất vải dày_dặn mát_mẻ chất vải mềm_mại và thoải_mái hoàn_hảo khi tập gym hoặc chạy bộ',\n",
       " 'quần khá đẹp giao đúng size đúng màu vừa vặn vải mỏng mát giao hàng nhanh sao',\n",
       " 'quần_short hoàn_hảo cho thời_tiết nóng_bức thiết_kế tuyệt_vời thích_hợp cho thể_thao',\n",
       " 'quần_ổn trong tầm giá đường may đẹp túi có khóa kéo quần màu đen vải hơi mỏng',\n",
       " 'thiết_kế tuyệt_vời phù_hợp khi chơi thể_thao quần_short hoàn_hảo cho thời_tiết nắng_nóng',\n",
       " 'vải mềm_mại và thoải_mái vừa vặn và chất_lượng tuyệt_vời vừa vặn và chất_lượng tuyệt_vời',\n",
       " 'văn_bản và hình_ảnh bạn sao_chép sẽ tự_động xuất_hiện ở đây trượt các mục trong để xóa chúng',\n",
       " 'quần vải cũng được nhưng có dây buộc bên trong để đeo quanh bụng thích_hợp đi tập_gym hoặc chạy bộ',\n",
       " 'quần khá đẹp giao đúng size đúng màu vừa vặn vải mỏng mát giao hàng nhanh sao',\n",
       " 'thích chất vải dày_dặn mát_mẻ quần_short thoải_mái và thời_trang chất vải mềm_mại và thoải_mái',\n",
       " 'thanh_text và hình_ảnh bạn sao_chép sẽ tự_động xuất_hiện ở đây trượt_mục để xóa chúng',\n",
       " 'túi có khóa kéo tiện_lợi đựng điện_thoại thiết_kế tuyệt_vời phù_hợp khi chơi thể_thao',\n",
       " 'túi khóa kéo tiện_lợi cho điện_thoại túi khóa kéo tiện_lợi cho điện_thoại',\n",
       " 'thiết_kế đẹp thích_hợp khi chơi thể_thao túi có khóa kéo tiện_lợi đựng điện_thoại',\n",
       " 'thiết_kế tuyệt_vời phù_hợp với thể_thao thiết_kế tuyệt_vời phù_hợp với thể_thao',\n",
       " 'thích chất vải dày_dặn mát_mẻ hoàn_hảo khi tập gym hoặc chạy bộ hoàn_hảo khi tập gym hoặc chạy bộ',\n",
       " 'quần_short hoàn_hảo cho thời_tiết nóng quần_short thời_trang và phong_cách hình_ảnh cho tiền xu',\n",
       " 'phù_hợp và chất_lượng tuyệt_vời tôi thích các tùy chọn màu_sắc có sẵn_ảnh mang tính_chất_minh họa',\n",
       " 'đã nhận hàng giao hàng nhanh đóng_gói cẩn_thận chất_lượng tốt so với giá tiền 🖲_️ 💵',\n",
       " 'thích chất vải mát và dày vừa vặn và chất_lượng tuyệt_vời tôi thích các lựa_chọn màu_sắc có sẵn',\n",
       " 'vừa vặn và chất_lượng vải mềm_mại và thoải_mái tôi thích các tùy chọn màu_sắc có sẵn',\n",
       " 'quần short thoải_mái và thời_trang thích chất vải dày và mát_hoàn_hảo cho phòng tập hoặc chạy bộ',\n",
       " 'quần short thời_trang và sành_điệu chất_liệu vải mềm_mại và thoải_mái quần short thoải_mái và thời_trang',\n",
       " 'quần dày_dặn cho mọi người chất_lượng ổn nhưng kết_bạn chồng có vừa không tối nay sẽ thử đây là hình_thức nhỏ hay sao',\n",
       " 'tôi đã nhận hàng và giao đúng màu đúng size đúng kiểu_dáng hàng tôi đặt_hàng vừa rẻ vừa đẹp mặc rất thoải_mái và chất vải cũng thoải_mái tôi cho cửa_hàng sao',\n",
       " 'túi có khóa kéo tiện_lợi để điện_thoại tôi thích màu_sắc lựa_chọn có sẵn quần short thời_trang sành_điệu size nhỏ',\n",
       " 'vừa vặn và chất_lượng tuyệt_vời quần_short hoàn_hảo cho thời_tiết nóng thiết_kế tuyệt_vời thích_hợp cho thể_thao',\n",
       " 'yêu chất vải dày và mát_thiết_kế tuyệt_vời phù_hợp khi chơi thể_thao hoàn_hảo khi tập gym hoặc chạy bộ tôi thích các tùy chọn màu_sắc có sẵn',\n",
       " 'giao hàng đúng túi có khóa kéo tiện_lợi để đựng điện_thoại vừa vặn và chất_lượng',\n",
       " 'chất vải mềm_mại thoải_mái thích chất vải dày_dặn mát_mẻ quần_short thời_trang sành_điệu thiết_kế đẹp thích_hợp chơi thể_thao',\n",
       " 'hoàn_hảo cho phòng tập_thể_dục hoặc chạy bộ quần_short thời_trang và phong_cách quần_short thoải_mái và thời_trang chất_liệu vải mềm_mại và thoải_mái hoàn_hảo cho phòng tập_thể_dục hoặc chạy bộ',\n",
       " 'vải mềm_mại và thoải_mái giống như vải mát và dày thiết_kế tuyệt_vời phù_hợp cho thể_thao thiết_kế tuyệt_vời phù_hợp cho thể_thao vải mềm_mại và thoải_mái vải mềm_mại và thoải_mái',\n",
       " 'quần short thời_trang và sành_điệu túi_khóa kéo tiện_lợi cho điện_thoại túi khóa kéo tiện_lợi cho điện_thoại',\n",
       " 'chất_liệu vải mềm_mại và thoải_mái quần short thoải_mái và thời_trang quần_short thời_trang và sành_điệu',\n",
       " 'quần short thời_trang và sành_điệu túi có khóa kéo tiện_lợi để đựng điện_thoại quần_short thời_trang và sành_điệu quần_short thời_trang và sành_điệu',\n",
       " 'tôi thích các tùy chọn màu_sắc có sẵn hoàn_hảo cho phòng tập_thể_dục hoặc chạy bộ hoàn_hảo cho phòng tập_thể_dục hoặc chạy bộ',\n",
       " 'vừa vặn và chất_lượng túi có khóa kéo tiện_lợi cho điện_thoại của tôi túi có khóa kéo tiện_lợi cho điện_thoại của tôi',\n",
       " 'thiết_kế tuyệt_vời tuyệt_vời cho thể_thao thiết_kế tuyệt_vời tuyệt_vời cho thể_thao vừa vặn và chất_lượng tuyệt_vời',\n",
       " 'chất_liệu vải mềm_mại và thoải_mái túi có khóa kéo tiện_lợi đựng điện_thoại thiết_kế tuyệt_vời thích_hợp khi chơi thể_thao',\n",
       " 'súp bí_ngô có xương không_chỉ có nhiều chất dinh_dưỡng mà_còn rất ngon và dễ nấu hãy cùng tham_khảo cách nấu món súp bí_đỏ đơn_giản cho bữa cơm gia_đình · giờ',\n",
       " 'thiết_kế tuyệt_vời thích_hợp cho thể_thao túi khóa kéo tiện_lợi cho điện_thoại của tôi yêu chất vải dày_dặn và mát_mẻ túi khóa kéo tiện_lợi cho điện_thoại của tôi túi_khóa kéo tiện_lợi cho điện_thoại của tôi',\n",
       " 'quần_short hoàn_hảo cho thời_tiết nóng_bức vừa vặn và chất_lượng tuyệt_vời hoàn_hảo khi tập gym hoặc chạy bộ',\n",
       " 'quần short thoải_mái và thời_trang quần_short thoải_mái và thời_trang tôi thích các tùy chọn màu_sắc có sẵn',\n",
       " 'hoàn_hảo cho việc tập gym hoặc chạy bộ hoàn_hảo cho việc tập gym hoặc chạy bộ hoàn_hảo cho việc tập gym hoặc chạy bộ',\n",
       " 'vừa vặn và chất_lượng tuyệt_vời hoàn_hảo cho việc tập gym hoặc chạy bộ quần_short hoàn_hảo cho thời_tiết nóng_bức quần short thoải_mái và thời_trang',\n",
       " 'quần short thoải_mái và thời_trang quần_short thoải_mái và thời_trang vừa vặn và chất_lượng thích chất vải dày và mát',\n",
       " 'tôi yêu các tùy chọn màu_sắc có sẵn hoàn_hảo cho việc tập gym hoặc chạy bộ thiết_kế tuyệt_vời phù_hợp cho thể_thao quần_short thời_trang và phong_cách',\n",
       " 'súp bí_ngô có xương không_chỉ có nhiều chất dinh_dưỡng mà_còn rất ngon và dễ nấu hãy cùng tham_khảo cách nấu món súp bí_đỏ đơn_giản cho bữa cơm gia_đình · giờ',\n",
       " 'súp bí_ngô có xương không_chỉ có nhiều chất dinh_dưỡng mà_còn rất ngon và dễ nấu hãy cùng tham_khảo cách nấu món súp bí_đỏ đơn_giản cho bữa cơm gia_đình · giờ',\n",
       " 'mình kg mua size_l nhưng bị chật vì xem bình_luận trước thấy quần rộng quá nên không mua vì tiếc chuyển phát nhanh',\n",
       " 'vải mềm_mại và thoải_mái size l vừa vặn một_chút quần_short thoải_mái và thời_trang tôi thích các tùy chọn màu_sắc có sẵn',\n",
       " 'đã nhận hàng đúng ổn 👍 👍_👍 👍_👍 👍_👍 👍_👍 👍_👍 👍_👍 👍_👍 👍_👍 👍_👍 👍_👍 👍_👍 👍_👍 👍_👍 👍_👍 👍_👍 👍_👍 👍_👍 như cửa_hàng quảng_cáo tốt tốt tốt',\n",
       " 'chất_liệu co_giãn mịn khi chạm vào và co_giãn size mình mua lớn hơn size cho thoải_mái màu_sắc_đẹp giống_hình thiết_kế hấp hàng nhanh giá khá rẻ nhưng chất_lượng tốt mọi người nên mua nó',\n",
       " 'tôi thích các tùy chọn màu_sắc có sẵn hoàn_hảo cho phòng tập_thể_dục hoặc chạy bộ thiết_kế tuyệt_vời phù_hợp cho thể_thao vải mềm_mại và thoải_mái thiết_kế tuyệt_vời phù_hợp cho thể_thao',\n",
       " 'thích chất vải dày_dặn mát_mẻ thiết_kế đẹp thích_hợp chơi thể_thao quần_short hoàn_hảo cho thời_tiết nóng_bức vải mềm_mại và thoải_mái',\n",
       " 'chiều cao cân nặng cạp quần có đai nên dễ_dàng điều_chỉnh nhắn_tin cho cửa_hàng trước hoặc tăng lên size cho chắc_chắn nhé sẽ không lớn hơn đâu',\n",
       " 'lần đầu_tiên trong đời glas ly_thủy tinh_bọc da sang_trọng bán k một cái nhà em chỉ kbộ cái hóa ra chưa tới k một cái là mình có cốc_đẳng_cấp cốc thủy tinh_bọc da sang thước_tích liệu có nắp đậy kín bao_da sang uống nước có nắp đậy kín không lo đổ nước',\n",
       " 'lần đầu_tiên trong đời thúy tinh_ly thủy tinh_bọc da sang_trọng bán_k mỗi cái nhà em chỉ kbộ cái giá chưa tới k một chiếc mà cốc rất thủy tinh_bọc da sang thước_tích liệu có nắp đậy kín nội_thất_bọc da sang uống nước có nắp đậy kín nên bạn không lo bị đổ nước',\n",
       " 'lần đầu_tiên trong đời thúy tinh_ly thủy tinh_bọc da sang_trọng bán_k mỗi cái nhà em chỉ kbộ cái giá chưa tới k một chiếc mà cốc rất thủy tinh_bọc da sang thước_tích liệu có nắp đậy kín nội_thất_bọc da sang uống nước có nắp đậy kín nên bạn không lo bị đổ nước',\n",
       " 'chất vải rất tốt và rất đẹp_phí vận_chuyển luôn k chấp_nhận được nói_chung là quần_đẹp đáng tiền',\n",
       " 'utc là khái_niệm về thời_gian thường được nhắc đến trong nhiều lĩnh_vực như hàng_không tiền điện_tử',\n",
       " 'vải mềm_mại và thoải_mái tôi thích các tùy chọn màu_sắc có sẵn quần short thời_trang và phong_cách thiết_kế tuyệt_vời tuyệt_vời cho thể_thao túi zip tiện_lợi cho điện_thoại của tôi quần_short thoải_mái và thời_trang',\n",
       " 'takaki 諸伏_高明 khi đọc bật âm_phát âm đọc kanji dựa trên phát_âm tiếng trung là shofuku koumei rất gần với cách đọc tiếng_nhật của gia cát_lượng cát_lượng là người đã góp_công xây_dựng nền_móng vững_chắc cho nước thục thời tam_quốc_đúng như tên gọi của mình takaki cũng góp_phần giúp nagano không rơi vào tay lực_lượng thám_tử như ở tokyo 👀 anh ta còn cố_tình để râu cho giống khong_minh nếu sinh cùng thời_điểm thì sẽ là anh_em hay gì đó 😌',\n",
       " 'chất_liệu thước_hơi nhỏ so với size l màu_sắc đúng với kế cao_cân với mẫu giao hàng nhanh nhìn_chung là ổn',\n",
       " 'quần_short hoàn_hảo cho thời_tiết nóng_bức thích vải dày và mát quần_short thời_trang và sành_điệu quần_short thoải_mái và thời_trang',\n",
       " 'quần short thời_trang và sành_điệu thích chất vải dày_dặn mát_mẻ túi có khóa kéo tiện_lợi đựng điện_thoại thiết_kế tuyệt_vời thích_hợp khi chơi thể_thao',\n",
       " 'vải mềm_mại và thoải_mái hoàn_hảo cho việc tập gym hoặc chạy bộ tôi thích các lựa_chọn màu_sắc có sẵn',\n",
       " 'vừa vặn và chất_lượng tuyệt_vời túi có khóa kéo tiện_lợi cho điện_thoại của tôi vải mềm_mại và thoải_mái',\n",
       " 'chào_mừng bạn đến với khay nhớ tạm của gboard mọi văn_bản bạn sao_chép sẽ được lưu ở đây',\n",
       " 'quần short thoải_mái và thời_trang vừa vặn và chất_lượng vải mềm_mại và thoải_mái túi có khóa kéo tiện_lợi cho điện_thoại của tôi',\n",
       " 'quần short thoải_mái và thời_trang hoàn_hảo để tập gym hoặc chạy bộ chất_liệu vải mềm_mại và thoải_mái quần_short hoàn_hảo cho thời_tiết nóng_bức',\n",
       " 'quần đẹp như hình mình đã mua loại quần này nhiều lần và mới mua thêm đôi nữa vải dày và thoáng_khí nhìn_chung tôi rất hài_lòng',\n",
       " 'dây đeo vai mỏng anh ấy nhỏ_bé mua nó với cùng kích_cỡ và tôi nhận được nó mọi người đều phàn_nàn khi lựa_chọn đừng mua nữa',\n",
       " 'quần short thời_trang và phong_cách tôi thích các tùy chọn màu_sắc có sẵn quần short thoải_mái và phong_cách hoàn_hảo cho phòng tập_thể_dục hoặc chạy bộ',\n",
       " 'thiết_kế tuyệt_vời tuyệt_vời khi chơi thể_thao hoàn_hảo khi tập gym hoặc chạy bộ tôi thích các tùy chọn màu_sắc có sẵn vừa vặn và chất_lượng tuyệt_vời',\n",
       " 'sản_phẩm tốt đúng mô_tả thời_gian giao hàng đầy_đủ sẽ ủng_hộ lần sau',\n",
       " 'chào_mừng bạn đến với khay nhớ tạm của gboard mọi văn_bản bạn sao_chép sẽ được lưu ở đây',\n",
       " 'chào_mừng đến với bảng tạm gboard mọi văn_bản bạn sao_chép sẽ được lưu tại đây',\n",
       " 'thiết_kế tuyệt_vời phù_hợp với thể_thao quần_short thời_trang và phong_cách vải mềm_mại và thoải_mái túi khóa kéo tiện_lợi cho điện_thoại của tôi',\n",
       " 'hình_ảnh mang tính_chất nhận xu vải quần rẻ đẹp đã mua nhiều lần của cửa_hàng và sẽ tiếp_tục ủng_hộ khi có cơ_hội',\n",
       " 'hình_ảnh nhận xu vải đẹp rẻ mình đã mua của cửa_hàng nhiều lần và sẽ tiếp_tục ủng_hộ khi có dịp',\n",
       " 'hình_ảnh dùng để nhận xu vải quần_đẹp và rẻ đã mua nhiều lần từ cửa_hàng và sẽ tiếp_tục ủng_hộ khi có cơ_hội',\n",
       " 'quần_short hoàn_hảo cho thời_tiết nóng quần_short thời_trang và phong_cách quần_short hoàn_hảo cho thời_tiết nóng thiết_kế tuyệt_vời phù_hợp cho thể_thao tôi thích các tùy chọn màu_sắc có sẵn',\n",
       " 'hoàn_hảo cho việc tập gym hoặc chạy bộ hoàn_hảo cho việc tập gym hoặc chạy bộ hoàn_hảo cho việc tập gym hoặc chạy bộ hoàn_hảo cho việc tập gym hoặc chạy bộ hoàn_hảo cho việc tập gym hoặc chạy bộ',\n",
       " 'túi có khóa kéo tiện_lợi để điện_thoại mình thích màu lựa_chọn có sẵn chất vải mềm_mại thoải_mái',\n",
       " 'quần short thoải_mái và thời_trang thích chất vải mát và dày vải mềm_mại và thoải_mái túi khóa kéo tiện_lợi để đựng điện_thoại tôi thích các tùy chọn màu_sắc có sẵn vừa vặn và chất_lượng tuyệt_vời thiết_kế tuyệt_vời phù_hợp với thể_thao quần_short hoàn_hảo cho thời_tiết hàng tốt và uy_tín_⭐ ️ tôi đã mua lại khi nhận được hàng',\n",
       " 'thích chất vải dày_dặn mát_mẻ thiết_kế đẹp phù_hợp với thể_thao mình thích các màu có sẵn mình thích các màu có sẵn',\n",
       " 'thái_độ của cửa_hàng_không tốt ngày và lần không phản_hồi không lịch_sự vải_mát và dày quần_short thời_trang và phong_cách vải mềm_mại và thoải_mái quần_short hoàn_hảo cho thời_tiết nóng',\n",
       " 'tôi thích các tùy chọn màu_sắc có sẵn_túi có khóa kéo tiện_lợi cho điện_thoại quần_short thoải_mái và thời_trang',\n",
       " 'túi có khóa kéo tiện_lợi đựng điện_thoại yêu chất vải dày_dặn mát_mẻ chất vải mềm_mại và thoải_mái quần short thời_trang và sành_điệu cửa_hàng tốt ⭐ ️',\n",
       " 'vừa vặn và chất_lượng túi có khóa kéo tiện_lợi cho điện_thoại của tôi thích chất vải dày và mát',\n",
       " 'thiết_kế tuyệt_vời thích_hợp khi chơi thể_thao chất vải mềm_mại và thoải_mái hoàn_hảo khi tập gym hoặc chạy bộ',\n",
       " 'hoàn_hảo cho việc tập gym hoặc chạy bộ thích chất vải dày_dặn và mát_mẻ túi có khóa kéo tiện_lợi để đựng điện_thoại',\n",
       " 'quần short thoải_mái và thời mềm_mại và thoải_gói cẩn_kế tuyệt_hợp cho thể_short hoàn_hảo cho thời_tiết nóng_bức',\n",
       " 'chất_liệu vải mềm_mại và thoải_mái quần short thoải_mái và thời_trang hoàn_hảo khi tập gym hoặc chạy bộ thiết_kế tuyệt_vời thích_hợp cho thể_thao quần_short thời_trang và phong_cách vừa_vặn và chất_lượng tuyệt_vời',\n",
       " 'tôi thích các tùy chọn màu_sắc có sẵn quần short thời_trang và phong_cách thích chất_liệu vải dày và mát',\n",
       " 'sữa tắm hương_dưỡng ẩm làm mềm dẫn làm ướt cơ_thể để một lượng sữa tắm thích_hợp vào lòng tay và dùng mặt bông để tạo bọt mềm_masage toàn_thân mặt dây_chuyền phút đổ sạch rửa sạch với lưu_ý sản_phẩm được dành cho để sử_dụng bên ngoài tránh tiếp_xúc với mắt và ngừng sử_dụng nếu có dấu_hiệu bất_thường xuất để ở nơi khô_tránh ánh_sáng nhiệt_độ cao và để ngoài tầm tay của trẻ_em',\n",
       " 'quần short thời_trang và phong_cách vừa_vặn và chất_lượng tuyệt_vời túi có khóa kéo tiện_lợi để đựng điện_thoại hoàn_hảo khi tập gym hoặc chạy bộ',\n",
       " 'thích chất vải dày_dặn mát_mẻ quần_short hoàn_hảo cho thời_tiết nóng_bức quần short thoải_mái và thời_trang',\n",
       " 'quần short thời_trang và sành_điệu quần_short hoàn_hảo cho thời_tiết nóng_bức yêu chất vải dày và mát quần_short thoải_mái và thời_trang',\n",
       " 'túi có khóa kéo tiện_lợi cho điện_thoại của tôi thiết_kế tuyệt_vời hoàn_hảo cho thể_thao vừa vặn và tay_nghề tuyệt_vời chất_liệu vải mềm_mại và thoải_mái',\n",
       " 'từ hơi chất vải dày_dặn mát_kế tuyệt_hợp khi chơi_thể thaocó_túi khóa kéo tiện_lợi đựng điện_thoại',\n",
       " 'tôi thích các tùy chọn màu_sắc có sẵn_túi có khóa kéo tiện_lợi cho điện_thoại quần_short thời_trang và phong_cách hoàn_hảo khi tập gym hoặc chạy bộ',\n",
       " 'quần short thời_trang và sành_điệu quần_short thoải_mái và thời_trang chất_liệu vải mềm_mại và thoải_mái quần_short hoàn_hảo cho thời_tiết nóng_bức',\n",
       " 'quần_short hoàn_hảo cho thời_tiết nóng_thích chất vải mát và dày hoàn_hảo cho phòng tập_thể_dục hoặc chạy bộ tôi thích các tùy chọn màu_sắc có sẵn',\n",
       " 'tôi thích các tùy chọn màu_sắc có sẵn hoàn_hảo cho phòng tập_thể_dục hoặc chạy bộ vừa_vặn và chất_lượng tuyệt_vời quần_short hoàn_hảo cho thời_tiết nóng tôi thích các tùy chọn màu_sắc có sẵn',\n",
       " 'thiết_kế tuyệt_vời tuyệt_vời cho thể_thao tôi thích các lựa_chọn màu_sắc có sẵn thích chất_liệu vải dày và mát_túi zip tiện_lợi cho điện_thoại của tôi',\n",
       " 'ngày bán thương_sóc quần_áo toàn_mại đặc_biệt mừng ngày thương_hiệu tại lazada duy_nhất ngày mua ngay sản_phẩm chăm_sóc quần_áo để nhận ưu_đãi lớn 💸 giảm_giá lên tới 💸 tặng_mã giảm_giá giảm_giá thêm 🚚 miễn_phí vận_chuyển theo chính_sách của mua combo túi tặng quà túi giặt_omo trong tiện_lợi hộp gia_vị hộp tờ giấy thơm_gian tặng quà và mã giảm_giá có_hạn ✔ ️ nước xả vải comfort natural pure hương_hoa lily of_the valey kiwi_tươi với mùi hương_hoa và trái_cây nhẹ_nhàng được các chuyên_gia nước hoa chọn_lọc lưu_hương trên quần_áo lên đến giờ ✔_️ nước xả vải comfort_gentle với thành_phần từ thực_vật và chiết xuất yến_mạch nhẹ_nhàng chăm_sóc và tăng gấp đôi độ mềm_mại cho quần_áo ✔ ️ nước giặt omo matic hương_hoa oải_hương thư_giãn dành cho máy giặt cửa trước với tác_động kép làm sạch quần_áo và bảo_vệ lồng_giặt với chất tẩy_rửa có nguồn_gốc từ thực_vật giúp dễ_dàng loại_bỏ vết bẩn công_nghệ proclea',\n",
       " 'quần short thoải_mái và thời_trang túi khóa kéo tiện_lợi đựng điện_thoại thiết_kế tuyệt_vời phù_hợp khi chơi thể_thao',\n",
       " 'quần short thời_trang và sành_điệu quần_short hoàn_hảo cho thời_tiết nóng_bức quần short thoải_mái và thời_trang vừa vặn và chất_lượng',\n",
       " 'chất_liệu vải mềm_mại và thoải_mái thích chất_liệu vải dày và mát quần_short thời_trang và sành_điệu vừa_vặn và chất_lượng',\n",
       " 'rất tốt rất tốt nên mua ở cửa_hàng này bạn sẽ không phải thất_vọng đâu 👌',\n",
       " 'tôi thích các lựa_chọn màu_sắc có sẵn thích chất vải dày và mát_chất vải mềm_mại và thoải_mái quần short rất phù_hợp cho thời_tiết nóng_bức',\n",
       " 'quần short thoải_mái và thời_trang túi khóa kéo tiện_lợi cho điện_thoại của tôi vừa vặn và chất_lượng tuyệt_vời',\n",
       " 'hoàn_hảo cho phòng tập_thể_dục hoặc chạy bộ túi_khóa kéo tiện_lợi cho điện_thoại của tôi túi_khóa kéo tiện_lợi cho điện_thoại của tôi thiết_kế tuyệt_vời phù_hợp cho thể_thao',\n",
       " 'ngày bán thương_sóc quần_áo toàn_diện ưu_đãi đặc_biệt mừng lễ_hội thương_hiệu tại lazada chỉ trong ngày mua ngay sản_phẩm chăm_sóc quần_áo để nhận ưu_đãi lớn 💸 giảm_giá lên tới 💸 tặng_mã giảm_giá giảm thêm 🚚 miễn_phí vận_chuyển theo chính_sách của mua túi combo nhận ngay quà túi giặt_viên omo trong tiện_lợi hộp gia_vị hộp tờ giấy thơm tặng và mã giảm_giá có_hạn ✔ ️ nước xả vải pure natural comfort hương fresh lily of_the valey_kiwi với hương_thơm nhẹ_nhàng của hoa và trái_cây được chuyên_gia nước hoa chọn_lọc kỹ_càng lưu_hương trên quần_áo lên đến xả comfort_soft and_soft với thành_phần từ thực_vật và chiết xuất yến_mạch nuôi_dưỡng làn da và tăng gấp đôi độ mềm_mại cho quần_áo ✔ ️ nước giặt omo matic hương_hoa oải_hương thư_giãn dành cho máy giặt cửa trước với tác_dụng kép làm sạch quần_áo và bảo_vệ lồng_giặt với các hoạt_chất tẩy_rửa có nguồn_gốc từ thực_vật giúp dễ_dàng loại_bỏ vết bẩn công_nghệ proclea',\n",
       " 'mua về cho bố mặc không biết có nóng hay không giao đúng màu và size',\n",
       " 'mua cho bố mặc không biết có nóng không giao đúng màu và size',\n",
       " 'mua cho bố mặc không biết có nóng không giao đúng màu và size',\n",
       " 'quần hơi nhỏ nên phải tăng lên một size nhé các bạn',\n",
       " 'nan',\n",
       " 'chất_liệu ổn so với tầm giá kích_thước tiêu_chuẩn màu_sắc giao theo yêu_cầu thiết_kế hấp_dẫn ca phát nhanh sản_phẩm đúng như mô_tả nhân_viên giao hàng vui_vẻ nhiệt_tình',\n",
       " 'cửa_hàng giao đúng mẫu đúng size đúng sản_phẩm rất hài_lòng sản_phẩm đúng như hình ai mặc vào sẽ thấy mê chỉ có_điều vải hơi mỏng thôi nhưng không sao vẫn cho sao nhé shop',\n",
       " 'chất_liệu tuyệt_vời kích_thước theo tiêu_chuẩn màu_sắc_đẹp thiết_kế hấp_dẫn ca phát nhanh nhân_viên vui_vẻ nhiệt_tình',\n",
       " 'chất_liệu thun co_giãn thiết_kế đẹp sản_phẩm đáng tiền các bạn nên mua',\n",
       " 'chất vải rất dày và co_giãn quá rẻ cho một sản_phẩm tốt thế này',\n",
       " 'giao hàng nhanh đẹp và thoáng mát nên mua lớn hơn size để lấy đúng size hơi chật_tặng cửa_hàng sao nhé',\n",
       " 'quần_short hoàn_hảo cho thời_tiết nóng nực_túi có khóa kéo tiện_lợi cho điện_thoại thiết_kế tuyệt_vời tuyệt_vời khi chơi thể_thao',\n",
       " 'giao hàng nhanh đẹp và thoáng mát nên mua lớn hơn size để lấy đúng size hơi chật_tặng cửa_hàng sao nhé',\n",
       " 'chất_liệu tuyệt_vời kích_thước theo tiêu_chuẩn màu_sắc_đẹp thiết_kế hấp_dẫn ca phát nhanh nhân_viên vui_vẻ nhiệt_tình',\n",
       " 'thích chất vải dày_dặn mát_mẻ quần_short thoải_mái và thời_trang_thiết_kế tuyệt_vời phù_hợp khi chơi thể_thao',\n",
       " 'mặt sau hơi chật',\n",
       " 'rẻ và đẹp nhưng nó sẽ thổi_lực của bạn',\n",
       " 'chặt',\n",
       " 'vải hơi mỏng nếu vải dày hơn thì sản_phẩm sẽ rất tuyệt_túi nhỏ người mua nên chọn lớn hơn size khi đeo trông gọn_gàng và đẹp_mắt cửa_hàng giao hàng nhanh_chóng',\n",
       " 'tem xl kg sao chật_thế nhỉ',\n",
       " 'mặt sau hơi chật',\n",
       " 'tôi thường mặc quần_xl nhưng tôi đặt mua quần_xl ở cửa_hàng này và chúng quá nhỏ rất chật nếu bạn muốn mua vui_lòng tăng lên size chất_lượng cũng tốt ống quần_hơi nhỏ',\n",
       " 'kích_thước hơi nhỏ',\n",
       " 'nói_chung là cửa_hàng mix_size nhưng vì chất_lượng vải khá tốt nên mình cho sao',\n",
       " 'quá nhỏ',\n",
       " 'quần slim giống như quần_bơi size xl nhưng nhỏ quá ai mua nhớ tăng lên size nhé',\n",
       " 'giao hàng_không đúng',\n",
       " 'mặt sau hơi chật',\n",
       " 'đã nhận hàng nhìn kĩ mà thấy chán size xl nhỏ như ml chất_liệu dưới mức bình_thường mặc nóng nhưng không mát như quảng_cáo nhưng giá lại rẻ nên không thành vấn_đề điều duy_nhất là kích_thước là tào_lao',\n",
       " 'không co_giãn lạnh mua theo bảng size kg mà kg mới mặc được thất_vọng',\n",
       " 'quần chật mặc_dù mình lấy size lớn nhất mặc chúng khiến phần thân dưới của tôi lộ ra tôi từ_bỏ',\n",
       " 'đúng màu size không chuẩn chất_liệu chỉ là vải_thun co_giãn bình_thường không lạnh',\n",
       " 'form quần quá nhỏ nên mình tăng lên size cho chắc_chắn',\n",
       " 'vải tệ quá',\n",
       " 'ghi rõ xl số kg đặt_hàng_không vừa cửa_hàng ngơ_ngác không hiểu mục_đích viết là gì',\n",
       " 'giao sai_kích_thước',\n",
       " 'giao sai hàng thất_vọng',\n",
       " 'giao sai_kích_thước',\n",
       " 'kích_thước nhỏ chất_liệu nóng',\n",
       " 'kích_thước nhỏ chất_liệu nóng',\n",
       " 'giao hàng_không đúng',\n",
       " 'đã nhận hàng nhìn kĩ mà thấy chán size xl nhỏ như ml chất_liệu dưới mức bình_thường mặc nóng nhưng không mát như quảng_cáo nhưng giá lại rẻ nên không thành vấn_đề điều duy_nhất là kích_thước quá tệ',\n",
       " 'đúng màu size không chuẩn chất_liệu chỉ là vải_thun co_giãn bình_thường không lạnh',\n",
       " 'quần kém chất_lượng dễ bị rách',\n",
       " 'đặt quần nhưng chỉ giao cửa_hàng đã đền_bù chất vải ổn đường may chắc_chắn nhưng kiểu_dáng không đẹp phần đáy quần_ngắn khiến quần_trông như bị nhăn',\n",
       " 'một bên dây đen một bên dây xanh',\n",
       " 'mua quần_quần thủng túi_giá sao',\n",
       " 'vải có độ đàn hồi dây thun giày ổn so với giá nhưng sai tôi nghĩ nó nhỏ người ta mua nhiều hơn sai rồi',\n",
       " 'chất_liệu kém chất_lượng',\n",
       " 'vải thô quá',\n",
       " 'kinh_doanh lừa_đảo sạc cái nhưng gửi chỉ nhưng gọi cho cửa_hàng thì không bắt máy',\n",
       " 'đặt giao xl chán không ủng_hộ shop',\n",
       " 'size nhỏ hơn size chuẩn nếu yêu_cầu trả lại sẽ bỏ_qua cho khách_hàng quá thất_vọng',\n",
       " 'chất vải dày và đẹp như hình tuy_nhiên tôi nặng kg và chọn size xl theo hướng_dẫn của cửa_hàng thì là kg nhưng hơi chật nên mình nhắn_tin xin đổi size nhưng cửa_hàng chỉ thấy mà không phản_hồi',\n",
       " 'sản_phẩm quá tệ',\n",
       " 'quảng_cáo một_chiều giao hàng khác quần_xl cho người kg đến kg nhưng mình kg mà không vừa ngay cả cháu trai kg cũng không mặc được chất vải rất tốt',\n",
       " 'quần size_xl nhưng rất nhỏ như size_l của quần bình_thường vải mỏng nhưng với giá đó thì không_thể đòi_hỏi nhiều hơn',\n",
       " 'đã đổi xl thành xl giúp mình đổi với',\n",
       " 'không như quảng_cáo',\n",
       " 'bạn vào nhanh nhé',\n",
       " 'đặt_hàng plus_size nhưng chật quá chỉ dành cho người tuổi đường may xấu không đáng tiền mua đóng_gói cẩn_thận giao hàng nhanh dành cho cửa_hàng bình dân_nghèo',\n",
       " 'mặt sau hơi chật',\n",
       " 'quần rộng và dài quá shopoi',\n",
       " 'giao hàng nhanh đóng_gói tốt vải thun bình_thường in logo sọc chắc giặt vài lần sẽ không bền_lười buộc dây nhìn ảnh sản_phẩm không có dây buộc chỉ cần quất lần là mở được dây đai_ẩn bên trong túi khiến mình không_thể nhét điện_thoại vào được',\n",
       " 'chất_liệu chất_liệu ổn không có gì để phàn_nàn nhưng kim và chỉ quá tệ_cm mũi quá thưa khi cọ_xát sẽ bị rách có những mũi không bị vắt sổ nữa size nhỏ quá mình mặc quần_size nhưng size xl vẫn chật kiểu_dáng ổn',\n",
       " 'kích_thước không phải quần_short giống quần_short hơn',\n",
       " 'chỉ kg nhưng vẫn săn chắc',\n",
       " 'giao quần trắng giống_hệt nhau có nhiều đốm vàng bẩn',\n",
       " 'size nhỏ hơn size bình_thường xin_lỗi nhưng giống l chật vải mỏng nên giá vừa_phải với chủ nhưng lại không đẹp không rẻ',\n",
       " 'quần được may lỗi viền đáy xấu đến mức phồng ra ngoài',\n",
       " 'chất vải ổn nhưng mình mua màu cùng mẫu nhưng chất_lượng khác nhau màu xanh đẹp hơn màu trắng',\n",
       " 'trong hình đăng chỉ sọc trắng là chỉ thêu nhưng sản_phẩm nhận được là chỉ in ép người mua hãy chú_ý mình mua vì thấy hình mà ai mà ngờ được',\n",
       " 'quần size xin_lỗi mà_lại nhỏ bằng size m mình mặc size_l mà mua xin_lỗi mà vẫn chật quá',\n",
       " 'thông_thường có quá nhiều thứ còn sót lại',\n",
       " 'mình k theo nhà_sản_xuất mà size xin_lỗi chật quá',\n",
       " 'không hài_lòng',\n",
       " 'quần kém chất_lượng dễ bị rách',\n",
       " 'hàng_không như hình_kích_thước và trọng_lượng không đạt tiêu_chuẩn vì chúng nhỏ hơn nhiều và túi nhỏ ở phía trước máy thì luộm_thuộm nhìn xấu_xí đừng mua',\n",
       " 'lũ khốn các người là những kẻ lừa_đảo',\n",
       " 'mình nặng kg cao m mình đặt size l theo hướng_dẫn nhưng chật quá',\n",
       " 'đặt quần_đen mà giao màu đen và xanh quần_đen dày và quần_mỏng màu xanh',\n",
       " 'không hài_lòng lắm quần không có độ co_giãn quần chưa mặc lần nào mà trầy quá hahaha',\n",
       " 'sản_phẩm bình_thường túi bị rách bạn nhận được những gì bạn phải trả',\n",
       " 'quần short thể_thao nam túi_khóa kéo chất vải thun dày đẹp nhưng size xin_lỗi hơi nhỏ không mặc được',\n",
       " 'quần hơi nhỏ',\n",
       " 'chỉ thấy nó một lần thôi',\n",
       " 'kích_cỡ quần không đúng mình mua size m nói là kg nhưng con trai mình kg mà vẫn chật quá tiếc quá mua về mà không mặc được',\n",
       " 'hình_thức xấu_thừa chỉ kích_thước không chuẩn',\n",
       " 'đặt màu xám_nhạt nhưng lại nhận được màu xanh đậm đen xanh đậm sau tuần đặt_hàng thì cửa_hàng tự_động hủy đơn hàng khi tôi đặt_hàng lại nó được giao với màu khác sản_phẩm rẻ nên mình không muốn gửi lại mất uy_tín của cửa_hàng nếu không có hàng vui_lòng nhắn_tin cho mình biết_điều này thật đáng thất_vọng',\n",
       " 'giao hàng_không đúng kích_cỡ nho nêu trên và sản_phẩm không đúng sản_phẩm tôi đặt',\n",
       " 'chất_lượng sản_phẩm ổn nhưng không bao_giờ giao hàng đúng hẹn khi có người mua',\n",
       " 'đen k dao không vương_miện',\n",
       " 'mình mua áo nhưng chỉ nhận được áo size m thiếu áo size tuổi',\n",
       " 'mua màu đen và xám lần đầu_tiên trong mùa giải và rất thất_vọng chán',\n",
       " 'các đường may rất khủng_khiếp có sợi thừa ở khắp mọi nơi',\n",
       " 'chất_liệu vải mỏng không thấm mồ_hôi size sai size mình mua về bị trừ size nhưng vẫn không vừa kiểu_dáng cửa_hàng hứa sẽ trả lại sau tết thay_đổi kích_thước sau tết nhắn_tin nhiều lần nhưng không trả_lời cửa_hàng_không đáng tin_cậy',\n",
       " 'lần đầu mua hàng thất_vọng',\n",
       " 'sản_phẩm không như mong_đợi',\n",
       " 'áo xl từ k vừa vặn nhưng nhỏ không như mô_tả nặng khoảng kg mới vừa cửa_hàng không uy_tín nếu bạn ghé quán một lần thì sẽ không có lần thứ hài nhé ổn h',\n",
       " 'giao hàng_không đúng màu đã đặt 🙄',\n",
       " 'tôi nặng kg tôi thường mặc áo nặng đến kg nhưng áo nhỏ lại không vừa vì_vậy xin vui_lòng lưu_ý',\n",
       " 'tôi muốn trả lại hàng',\n",
       " 'đặt áo nhưng chỉ giao áo nhắn_tin không thấy ai trả_lời hy_vọng cửa_hàng sẽ giải_quyết hoàn tiền cho mình áo',\n",
       " 'không hài_lòng bán hàng lấy tiền và không quan_tâm đến người mua nhắn_tin hỏi_thăm nhưng mình là khách_hàng thường_xuyên kích_thước nhỏ quá vứt đi',\n",
       " 'khi ai đó mua một thứ gì đó mới từ cửa_hàng họ mong_đợi nó phải mới và sạch_sẽ tuy_nhiên điều này đã không xảy ra với đơn đặt_hàng của tôi tôi nhận được chiếc áo bị bẩn như dính dầu_máy khó có_thể giặt sạch được tôi không hài_lòng với người bán và vì anh ta đóng_gói áo không đúng cách nên tôi nhận được nó quá nhàu',\n",
       " 'hãy làm_việc của bạn bằng trái_tim bạn của tôi nếu size đó bán hết thì thôi đặt_hàng size l nhận size s cắt nhãn và hướng_dẫn mọi người cách mặc vừa vặn tôi đã ra_lệnh tương_tự hài lần không tin_tưởng',\n",
       " 'không biết kinh_doanh coi_thường khách_hàng chỉ biết lấy tiền kích_thước nhỏ vứt đi',\n",
       " 'đặt đá xanh đậm giao màu xanh',\n",
       " 'mua màu này cửa_hàng giao màu khác người mua nên cân_nhắc cửa_hàng này bán nhé',\n",
       " 'áo rất xấu cổ bị xù và giao sai màu rất thất_vọng khi nhận được sản_phẩm',\n",
       " 'mua hàng giao thiếu hàng mà không giải_quyết được vấn_đề',\n",
       " 'đã mua hàng ở cửa_hàng nhiều lần và lần nào cũng tốt lần này mình gửi hàng đến nhà bạn nhưng lại nhận lại một chiếc áo có vết mực xanh không biết sau khi giặt có bị bong ra không bao_bì bên ngoài cũ và ố vàng mình muốn nhắn_tin trao_đổi nhưng anh ấy bảo không sao đâu k thôi chỉ cần tránh cửa_hàng',\n",
       " 'đặt màu đen đỏ và xanh trơn giao sai mẫu màu xanh viền trắng hàng hóa không giống như trong hình',\n",
       " 'chất_liệu vải rách giá rẻ',\n",
       " 'đúng mô_tả không giống mô_tả cửa_hàng rất mỏng như một tờ giấy',\n",
       " 'màu_sắc vải bị bẩn nên màu xấu',\n",
       " 'hàng giá rẻ nhé mọi người đó là một trò lừa_đảo đơn hàng đầu_tiên gửi hàng chính hãng nhưng sau nhiều người đánh_giá lại gửi hàng giả',\n",
       " 'sản_phẩm rất mỏng đường may kém không hỗ_trợ trả tiền nếu khách_hàng_không hài_lòng',\n",
       " 'đúng với mô_tả không chính_xác',\n",
       " 'quần rất mỏng_xl nhưng chắc_chắn giống size l chất vải cực_kỳ_tệ thất_vọng',\n",
       " 'có_thể nói là tôi chưa bao_giờ mua thứ rác_rưởi như_vậy ở đâu cả phí tiền quá đặt cái xl và một cái ngắn hơn cái kia cm hãy thử nó nó là xl bạn ngốc quá',\n",
       " 'nó mỏng như silip thật là lãng_phí thời_gian và tiền_bạc',\n",
       " 'chất_lượng vải xấu quần size m nhưng nhìn như nhỏ',\n",
       " 'hàng_không như mong_đợi rất thất_vọng vải mỏng đường chỉ chưa đứt hẳn thời_gian vận_chuyển lâu hơn thở_dài chán quá',\n",
       " 'hàng_không như mong_đợi rất thất_vọng vải mỏng đường chỉ chưa đứt hẳn thời_gian vận_chuyển lâu hơn thở_dài chán quá',\n",
       " 'quá gầy',\n",
       " 'form quần xấu vải xấu giá đắt mặc thì nóng_tệ thật không nên mua nếu bạn có ống rộng thì chấp_nhận được',\n",
       " 'hàng mỏng quá không nên mua người bán không cho_phép trả lại rất tệ',\n",
       " 'đặt màu đen thành màu hồng khi nhắn_tin thì không phản_hồi giao hàng mất hơn ngày cửa_hàng làm_việc tệ quá hàng có đẹp đến đâu thì cách làm_việc này cũng không bao_giờ quay trở_lại nữa',\n",
       " 'hàng bị bóc trước khi nhận là hàng kém chất_lượng mọi người cân_nhắc mua nhé',\n",
       " 'không có gì để khen về chiếc quần họ thật xấu_xí vải mỏng quá',\n",
       " 'vải mỏng và thất_vọng',\n",
       " 'vải mỏng xấu kinh_khủng',\n",
       " 'quần quá dài vải không như mong_đợi quần_đẹp rất thất_vọng không đúng mô_tả và không đáng mô_tả',\n",
       " 'giao hàng quá lâu_xl lúc_nào cũng nhỏ nhưng vẫn quá nhỏ thiết_kế quá tệ',\n",
       " 'mua quần và nhận áo miễn_phí mua_sắm',\n",
       " 'nó mỏng và bị rách chẳng khác_gì một đống giẻ rách',\n",
       " 'hàng giao bị rách nhắn_tin cho cửa_hàng nhưng không muốn phản_hồi',\n",
       " 'quần không giống mô_tả tin tôi đi giống quần nữ_sinh cấp rất mỏng và không tôn_dáng chút nào bạn tôi nói tôi mặc quần giống như các cô ở quê mặc nếu bỏ tiền ra mua quần bà_ba thì với mức giá này thì không đáng đâu chắc phải làm giẻ rách tạm_biệt cửa_hàng',\n",
       " 'quần mỏng và chất_lượng kém',\n",
       " 'chiếc quần thậm_chí còn mỏng hơn cả bộ_đồ ngủ mà bà tôi mặc thất_vọng quá vận_chuyển lâu quá sao không nói nhiều',\n",
       " 'thất_vọng quần như quần bà ngoại vải mỏng vải cực mỏng không nên mua',\n",
       " 'bạn nhận được những gì bạn phải trả chất_liệu mỏng hãy suy_nghĩ kỹ trước khi mua',\n",
       " 'sản_phẩm dành cho nam trông giống như con gái vải mỏng đến mức không_thể tả được xấu như mẹ nó vậy bạn không nên mua nó nếu không bạn sẽ mất tiền những thương_hiệu sao đó đều là hàng giả tôi nghĩ vậy',\n",
       " 'quần không giống như trong hình chất_liệu không tốt',\n",
       " 'quán kinh_doanh vớ_vẩn không giống như hình',\n",
       " 'hàng giao_thiếu nhưng mình chủ_quan không quay video và sẽ edit bình_luận khi cửa_hàng kiểm_tra lại',\n",
       " 'vải mỏng và nhăn tôi không thích nó chút nào',\n",
       " 'quần quá mỏng chất_lượng vải_tệ sẽ ngừng mua hàng ở cửa_hàng này mua lần đầu quá thất_vọng',\n",
       " 'nói_chuyện chán quá mở nó ra và nhìn thấy thứ gì đó mà bạn thậm_chí không buồn nhìn vào mỏng và nhỏ_xíu không khác_gì quần nữ',\n",
       " 'quần không giống trong ảnh vải mỏng và đường may không đẹp lắm',\n",
       " 'vải có_vẻ rẻ quá thà mua khăn tắm để làm quần thoải_mái hơn',\n",
       " 'vải vụn vải rẻ_tiền không nên mua',\n",
       " 'không giống',\n",
       " 'màu_sắc đúng với hình_ảnh',\n",
       " 'quần xấu đường may mỏng thừa chỉ nhiều vải thô thật_sự không hài_lòng lắm mình đợi nửa tháng mới nhận được',\n",
       " 'không đúng',\n",
       " 'chất vải siêu mỏng mặc vào có cảm_giác như không mặc nhìn như mất cả lớp quần_tiếc quá đây là lần đầu_tiên phải đánh_giá thế_này tưởng quốc_tế cửa_hàng chất_lượng nhưng kém hơn hàng vn',\n",
       " 'sản_phẩm không đúng với mô_tả',\n",
       " 'hơi mỏng và giao hàng lâu nên cân_nhắc trước khi mua',\n",
       " 'chỉ có rất nhiều dư_thừa',\n",
       " 'chiếc quần_mỏng như tờ giấy và bị rách',\n",
       " 'trông không giống như hình_ảnh mua hơi to quá',\n",
       " 'sản_phẩm mỏng chất_liệu thoáng_mát nhưng dây đeo quá lỏng_lẻo khiến việc phối_đồ trở_nên khó_khăn cũng khiến người mặc trông lúng_túng',\n",
       " 'cửa_hàng kinh_doanh chán lắm quần khác hoàn_toàn với ảnh mẫu và khác hẳn quần mình mua ở cửa_hàng trước_đây rõ_ràng là trước_đây tôi đã mua một chiếc quần khác ở cửa_hàng nhưng khi nhận được lần này thì đó là một chiếc quần khác cửa_hàng thậm_chí còn không hoàn_trả sản_phẩm cho tôi khi tôi nhắn_tin tôi không buồn_nhắn lại nữa',\n",
       " 'quần chán quá thấy trang_facebok đẹp thế_mà sao lại mua nhỉ 🥹_xl mà vẫn bé nhìn cái quần chị_em mình chỉ ngồi cười',\n",
       " 'mới mặc nhưng bị rách gầy',\n",
       " 'giao lại là quần nữ',\n",
       " 'người vô_trách_nhiệm',\n",
       " 'chất vải xấu như áo_mưa',\n",
       " 'hàng đã về với chủ',\n",
       " 'xấu như quần bà_già',\n",
       " 'giao hàng lâu sai sản_phẩm',\n",
       " 'mỏng như lá quần không nên mua',\n",
       " 'không đáng mua',\n",
       " 'rất tệ rất tệ',\n",
       " 'vải xấu quá nhìn như quần_nữ',\n",
       " 'hình_thức không giống như trong hình xấu',\n",
       " 'khi giao hàng thì sản_phẩm bị rách và bị lỗi',\n",
       " 'quần mỏng chất_liệu kém và giao sai mẫu',\n",
       " 'chất vải khá bóng vải mỏng chỉ thừa nhiều',\n",
       " 'vải quá mỏng rất thất_vọng giao hàng quá lâu',\n",
       " 'quần rất ngắn_xl nhưng vẫn ngắn',\n",
       " 'quần chất_lượng kém',\n",
       " 'bệnh cùi',\n",
       " 'quần như tờ giấy',\n",
       " 'không có sự giống nhau trong hình_ảnh',\n",
       " 'quần mỏng',\n",
       " 'gầy quá không dám mặc',\n",
       " 'vải mỏng màu xấu',\n",
       " 'màu hơi bạc',\n",
       " 'không tệ như mong_đợi',\n",
       " 'tào_lao',\n",
       " 'xấu',\n",
       " 'thích c gần mẹ nhé',\n",
       " 'đừng mua nó',\n",
       " 'thích c',\n",
       " 'vải hoàn_hảo',\n",
       " 'quần xấu_xí',\n",
       " 'không giống như trên hình_ảnh',\n",
       " 'đáng vứt vào thùng rác',\n",
       " 'không giống mẫu',\n",
       " 'giao sai mặt_hàng',\n",
       " 'đúng với mô_tả không',\n",
       " 'mỏng như quần đi mưa',\n",
       " 'giống giao quần_mỏng như tờ giấy',\n",
       " 'không mua thì phí tiền',\n",
       " 'quá gầy',\n",
       " 'chất_liệu mỏng',\n",
       " 'không hài_lòng',\n",
       " 'quần_áo đã nhận được rất thích dịch_vụ khách_hàng đề_nghị kích_thước vừa_phải màu_sắc rất tích_cực không có sự khác_biệt về màu_sắc xứng_đáng được giới_thiệu',\n",
       " 'trưng_bày mỏng hoa_bách_hợp rất đẹp chất_liệu vải chất_lượng cũng rất tốt mọi người có_thể nhanh tay giá_cả phải_chăng mua lại không giới_hạn',\n",
       " 'quần mặc rất thoải_mái chất vải mềm_mại thoáng_mát đặc_biệt thích_hợp mặc mùa hè quần được thiết_kế hợp_lý kiểu_dáng ôm gọn khoe đường_cong cơ_thể các chi_tiết được hoàn_thiện tốt đường_nét gọn_gàng không dễ bắt bóng màu_sắc đa_dạng và dễ kết_hợp và chất_liệu lụa đá hút ẩm tốt không dễ dính rất thích_hợp khi chơi thể_thao và mặc hàng ngày tóm_lại quần là món đồ mùa hè tiết_kiệm chi_phí',\n",
       " 'rất thoải_mái không xấu màu không ra màu quần chất_lượng tốt rất thoải_mái khi mặc vào mùa hè vải mịn rất tốt rất mỏng và cũng rất thoáng_khí',\n",
       " 'chất_liệu tốt mặc rất thoải_mái tuy cổ_quần không quá chật nhưng lại dễ cởi hơn quần khá ổn',\n",
       " 'mặc đẹp giá hợp_lý vừa vặn form đẹp nói_chung nên mua với giá này sẽ tiếp_tục ủng_hộ cửa_hàng',\n",
       " 'mặc rất ok_giá hợp_lý form đẹp nhìn_chung tôi khuyên bạn nên mua ở mức giá này mình sẽ tiếp_tục ủng_hộ cửa_hàng này',\n",
       " 'thời_gian giao hàng khá nhanh chất_lượng sản_phẩm tuyệt_vời chất_liệu khá tốt nhìn rất đẹp trên hình sẽ tiếp_tục ủng_hộ cửa_hàng lâu_dài trong thời_gian tới',\n",
       " 'mình mua cho bạn nhưng vải mỏng như ô đáng_giá',\n",
       " 'quần rất thoáng_mát không_thể thích_hợp hơn để mặc mùa hè chất vải cực tốt mặc rất mát lại không có dây buộc',\n",
       " 'này gu tôi nói cái quần này đáng_giá đấy từng đường kim_mũi chỉ đều rất chắc_chắn và đẹp_mắt tư_vấn nhiệt_tình và hài_hước 😂 kiểm_tra nó đi thưa ngài mình đã mua lần thứ 💚 💙',\n",
       " 'tôi nói hãy nhận chiếc quần_xám và làm hài_lòng cái bụng của bạn chất vải dày_dặn co_giãn thoải_mái và rất mềm_mại cửa_hàng chăm_sóc khách_hàng rất cẩn_thận hỏi đáp giúp bạn chọn size phù_hợp và đẹp tôi rất thích nó cửa_hàng mặc đồ đi chụp ảnh cho quán 😀',\n",
       " 'mình đã mua nhiều lần với nhiều sản_phẩm của cửa_hàng vì cửa_hàng gửi hàng nhanh đóng_gói cẩn_thận và kỹ_lưỡng chất_lượng rất tốt mà giá lại rẻ_quần có thiết_kế trẻ trung_chất_liệu mềm_mại co_giãn đường may chắc_chắn cửa_hàng tư_vấn mình mua quần đúng size và màu quần đi học đi chơi đi làm đều đẹp',\n",
       " 'mình đã mua đồ của bagy khá nhiều lần rồi trong tủ_đồ của mình hầu_hết đều có đồ của bagy hàng của cửa_hàng giao nhanh đóng_gói cẩn_thận cẩn_thận thiết_kế của quần_hợp thời_trang chất_liệu co_giãn nên mặc không bị gò_bó cửa_hàng tư_vấn nhiệt_tình nên mình mua đúng size và màu_sắc đi đâu cũng mặc_quần của cửa_hàng',\n",
       " 'mình đã mua nhiều lần với nhiều sản_phẩm của cửa_hàng vì cửa_hàng gửi hàng nhanh đóng_gói cẩn_thận chất_lượng quá tốt mà giá lại rẻ_quần có thiết_kế trẻ trung_chất_liệu mềm_mại co_giãn và đường may chắc_chắn cửa_hàng tư_vấn nên mua quần đúng size và màu_sắc quần đi học đi chơi đi làm đều ổn',\n",
       " 'quần baby đúng như mô_tả của cửa_hàng nhận hàng đúng lúc mình cần quần này rất tuyệt_sản_phẩm rất hài_lòng quần_mặc mát và thoải_mái cửa_hàng giao hàng nhanh đóng_gói chắc_chắn nhưng giá_cả phải_chăng quá rẻ trên thị_trường giá lại đắt hơn rất nhiều chất_lượng chuẩn bạn nên mua sản_phẩm này',\n",
       " 'chất_lượng của sản_phẩm hoàn_thiện là rất tốt có_thể chi_trả đối_với tôi ống_quần vẫn vừa_vặn với cơ_thể không rộng lắm nếu bạn muốn mặc rộng_rãi vui_lòng chọn lớn hơn size chất vải khá ok trên cả sự mong_đợi giao hàng nhanh sao',\n",
       " 'chất_liệu dày',\n",
       " 'màu_sắc tiêu_chuẩn',\n",
       " 'đúng với mô_tả chính_xác như mô_tả',\n",
       " 'chất_lượng tốt form quần_đẹp phù_hợp giá tiền',\n",
       " 'chất_liệu vải dày mềm mịn',\n",
       " 'màu đen',\n",
       " 'đúng mô_tả đúng sản_phẩm',\n",
       " 'đẹp quá_dáng chuẩn vải dày vừa_phải mát mình m kg tư_vấn rất nhiệt_tình đ',\n",
       " 'mình cao m kg mặc size vừa vặn mình vốn eo_thon từ bé nên phải đeo thêm đai lưng còn lại thì okela chất vải dày_dặn thoáng mát có đai eo chắc_chắn mặc rất thoải_mái nếu giảm xuống size thì vẫn vừa nhưng khi ngồi xuống hông và mông sẽ ngay_lập_tức tát vào mông cửa_hàng tư_vấn và chọn size đúng ✌',\n",
       " 'phải nói là rất hài_lòng chất vải mềm mịn_mặc vô_cùng thoải_mái và có độ co_giãn tốt kết_hợp áo màu sẽ tối_đa hóa ping quán còn có thư cảm_ơn gửi tới khách_hàng rất chân_thật từ lúc nhắn_tin mua cho đến khi nhận được hàng cảm_ơn cửa_hàng vì sản_phẩm chất_lượng này',\n",
       " 'quần rất đẹp mọi người ạ vải rất đẹp_sờ vào rất thích giao hàng nhanh cửa_hàng tư_vấn rất chu_đáo đường may rất đẹp và cẩn_thận mặc với áo_phông thì siêu_đẹp sẽ tiếp_tục ủng_hộ shop luôn_luôn',\n",
       " 'cho đến bây_giờ tôi vẫn luôn mặc quần_âu có người giới_thiệu nên tôi thử chuyển sang kiểu quần_bagy tôi thực_sự thích sản_phẩm tôi đã thử vải dày và đẹp ảnh còn lại là trước khi trang_phục được ghép lại nhưng trông rất đẹp cảm_ơn cửa_hàng đã không làm tôi thất_vọng',\n",
       " 'cửa_hàng giao hàng nhanh đóng_gói cẩn_thận tỉ_mỉ mình đã mua nhiều sản_phẩm của cửa_hàng và thấy sản_phẩm rất chất_lượng quần có thiết_kế hiện_đại ống rộng nên rất thoải_mái chất vải co_giãn nên không bị bó_sát khi mặc quần thích_hợp đi làm đi_học và đi chơi cửa_hàng tư_vấn nhiệt_tình để mình chọn được màu_sắc và size mình mong_muốn',\n",
       " 'quần rất đẹp trước_đây mình có mua ở cửa_hàng lần nhưng size không đúng size cửa_hàng tư_vấn rất nhiệt_tình nên rất thích 😊_quần rẻ lắm mà chất_lượng quá tuyệt_vời 🤩 đường may chắc_chắn mặc lên cực đẹp mua_sắm tại_sao',\n",
       " 'sản_phẩm đúng như cửa_hàng mô_tả chất_lượng tuyệt_vời vải đẹp và mịn mặc rất thoải_mái mình đã khả_năng quay lại mua lần thứ và vẫn rất hài_lòng cửa_hàng giao hàng nhanh và tư_vấn nhiệt_tình nhưng giá lại rẻ các bạn nên mua quần_ống rộng nam bagy này nhé_chúc cửa_hàng ngày_càng phát_triển thịnh_vượng cảm_ơn cửa_hàng nhiệt_tình',\n",
       " 'quần đẹp lắm quần có phom_dáng và độ rủ đẹp đúng phong_cách hàn_quốc lần đầu mua hàng của cửa_hàng và rất thích sẽ tiếp_tục ủng_hộ 👌',\n",
       " 'mình mua quần_t của cửa_hàng để mặc đi học vải rất đẹp đường may chắc_chắn hình_dáng vừa_phải rộng_rãi và thoải_mái dễ di_chuyển và chạy mình mua quần_t nên chỉ có_thể nói là chất_lượng tuyệt_vời',\n",
       " 'lần nào nhận hàng của cửa_hàng cũng cảm_thấy vô_cùng hài_lòng 😍 cửa_hàng jbagy nổi_tiếng trên thị_trường ai cũng biết vì sản_phẩm ở đây giá hợp_lý và đẹp còn chiếc quần này thì đúng size mình mặc vải đẹp xịn ít co_giãn đường may tỉ_mỉ cửa_hàng chu_đáo nhiệt_tình ❤',\n",
       " 'cửa_hàng giao hàng nhanh đóng_gói cẩn_thận và chu_đáo mình đã mua nhiều sản_phẩm của cửa_hàng này từ quần đến áo tất_cả đều chất_lượng rất tốt_quần có thiết_kế hiện_đại chất_liệu mềm_mại đường may chắc_chắn mình thấy quần phù_hợp với mọi loại áo_quần phù_hợp để đi chơi đi làm và thậm_chí là đi học cảm_ơn shop',\n",
       " 'yêu cái bụng chưa mua được chiếc quần nào đẹp như thế_này chẳng có gì để phàn_nàn cả vải mát_dáng rộng thùng_thình đường may đều dù bạn hay tuổi size_mặc thì đẹp nhưng không sao gầy quá mặc y_như mẫu 😂 chất_lượng thì có gì phải phàn_nàn nhưng giá thì quá rẻ so với chất_lượng có chê gì đâu 😂',\n",
       " 'giá rất rẻ nhưng bạn lại có được một chiếc quần chất_lượng rất cao_chất vải của giày không bị nhăn cắt thẳng thì rất ổn mình m nặng kg mặc size',\n",
       " 'ổn lúc đầu mình nhầm áo_dài với áo_ngắn nhưng cửa_hàng cũng trả lại rất nhanh',\n",
       " 'quần dày đẹp so với giá tiền đáng mua nên form cũng ổn lần đầu mua hàng của shop rất hài_lòng giao hàng nhanh mới đặt hôm trước mà hôm sau đã nhận được sẽ ủng_hộ cửa_hàng lần nữa',\n",
       " 'nếu có_thể đánh_giá cho chiếc quần_bagy thì tôi sẽ cho sản_phẩm cực_kỳ tuyệt_vời mình đã mua hàng ở shope rất nhiều nhưng chưa có sản_phẩm nào khiến mình hoàn_toàn hài_lòng tôi hài_lòng với dịch_vụ tư_vấn và giao hàng của shop nhanh_chóng đóng_gói cẩn_thận mà giá lại quá rẻ mình sẽ ủng_hộ cửa_hàng lâu_dài cảm_ơn',\n",
       " 'vải rất mịn mình mua làm_quà nên không biết thế_nào chăm_sóc khách_hàng ở quán rất ổn và thái_độ rất chu_đáo dễ_chịu chất_lượng sản_phẩm có_vẻ tốt hy_vọng người_yêu mình thích nó ehe',\n",
       " 'chất dày_dặn mặc thoải_mái phông chữ đẹp mình m kg mặc rất thoải_mái nhưng màu kem cùng size với màu đen nhưng rộng hơn kiểu màu đen rất vừa_vặn nếu thích vừa vặn hơn thì nên giảm size giao hàng siêu nhanh',\n",
       " 'mua lần sản_phẩm vải tốt mặc rất thoải_mái mịn và chắc co_giãn nhẹ rất tốt vải đẹp vải không nhăn rất thẳng không cần_ủi vẫn giữ vải đó là rất nhiều tiền',\n",
       " 'quần và áo có form đẹp vải dày_dặn đường may chắc_chắn cửa_hàng tư_vấn nhiệt_tình tôi đã mua rất nhiều quần và cửa_hàng này có chất_lượng tốt nhất tôi sẽ là khách_hàng thường_xuyên của cửa_hàng này vì tôi làm công_nhân bộ_phận thường xuân mặc_quần và áo sơ_mi nói_chung chất_lượng sản_phẩm tốt giao hàng khá nhanh sao cho shop mọi người nên mua nha',\n",
       " 'quần đẹp phô_trương hình_dáng của bạn chất vải dày_dặn có mùi thơm nhẹ đường may tỉ_mỉ và rất chắc_chắn cửa_hàng tư_vấn rất nhiệt_tình mjk m nặng kg mặc size vừa vặn mjk sẽ đặt_hàng nhiều hơn nói_chung là sản_phẩm ngon_bổ rẻ nên các bạn yên_tâm mua nhé 👍',\n",
       " 'tôi rất hài_lòng với việc mua hàng ở mọi khía_cạnh vải dày và có độ cứng nhẹ loại vải này dùng để may vest nên mặc lên rất thích sang chảnh nên mình đi chen_chúc mua về mặc vải không nhăn và không nhăn từ đó thật tuyệt chiếc quần này chắc có_giá trên k khi đến cửa_hàng đấy nên mua nhé 🥰',\n",
       " 'nói_chung giao hàng nhanh đóng_gói tốt sản_phẩm giống mô_tả đường may đẹp form đẹp vải tốt bạn nên mua nó',\n",
       " 'quần đẹp chất_liệu vải dày_dặn co_giãn nhẹ với đường may tỉ_mỉ chắc_chắn rất đáng đồng_tiền cửa_hàng này đưa ra lời khuyên thú_vị và điều_chỉnh kích_thước mjk phù_hợp với bản in mình sẽ tiếp_tục ủng_hộ 😍',\n",
       " 'chất_lượng vải khá tốt_co giãn nhẹ về khả_năng chống nhăn thì cần có thời_gian về hình_dáng cơ_thể đối_với tôi nó không quá khắt_khe kích_thước vừa vặn và ổn',\n",
       " 'chất vải khá tốt_hơi co_giãn phải mất thời_gian để chống lại nếp nhăn tôi không quá cầu_kỳ về hình_dáng kích_thước vừa vặn và thoải_mái khi mặc',\n",
       " 'quần đẹp lắm chị ơi tôi bán chiếc quần mà tôi có_thể mặc mà không cần phải bóp hay chỉnh_sửa gì cả chúng thay_đổi hình_dạng ngay_lập_tức khi tôi mặc chúng có_lẽ tôi sẽ mua thêm',\n",
       " 'giao hàng nhanh vải đẹp mẫu_mã ok màu_sắc ok viền đầy_đủ giá_cả ổn_định',\n",
       " 'nó vừa_vặn với cơ_thể trông đẹp hơn trong ảnh nhưng tôi nghĩ nếu phần mông được may to hơn một_chút thì sẽ ổn cho những cô gái có mông bạn mình mông nhỏ nhưng vừa_vặn nói_chung là giá_cả ổn quần đẹp sao',\n",
       " 'mình mua màu xám_nhạt và xám đậm chất_lượng quần_ok săn sale nên được_giá tốt k cảm_ơn cửa_hàng tôi sẽ mua thêm',\n",
       " 'quần đẹp phù_hợp với giá tiền nên mua nhé mọi người quần_đẹp phù_hợp với giá tiền khi tôi mặc nó ai cũng khen tôi đẹp tôi chắc_chắn tôi sẽ mua một cái khác',\n",
       " 'giao hàng nhanh đóng_gói kỹ chất_lượng tốt đúng số_lượng tư_vấn nhiệt_tình tùy size sai cửa_hàng hỗ_trợ trả tiền nhanh vải đẹp quần_đẹp đã mua nhiều lần',\n",
       " 'đúng mô_tả đóng_gói cẩn_thận chất_lượng tốt đã mua lần rồi vẫn ổn',\n",
       " 'bạn trai tôi mặc nó rất đẹp màu_sắc rất hoàn_hảo và hình_thức rất đẹp mọi người nên mua ngay không cần đắn_đo',\n",
       " 'cửa_hàng gói hàng cẩn_thận có hộp đàng_hoàng thể_hiện sự tôn_trọng với khách_hàng quần màu đẹp chất_lượng vải ok đối_với kiểu_dáng quần hãy chờ xem nó như_thế_nào trước khi mặc thử',\n",
       " 'quần đẹp và rất tốt tôi không nghĩ k lại cho quần tốt như thế_này nhưng cửa_hàng rất nhiệt_tình đổi size tôi đang đợi flash sale để mua thêm',\n",
       " 'cửa_hàng giao hàng nhanh đóng_gói sản_phẩm cẩn_thận vải đẹp quần_bó đường may cẩn_thận',\n",
       " 'quần làm bằng vải dày_kích_thước hoàn_hảo mông mình khá phẳng nhưng khi mặc vào trông vẫn khá đẹp',\n",
       " 'mình đã nhận được thường thì khi mua quần mình rất kén chọn phải xem từng cửa_hàng một rồi đánh_giá từng cái thì mới mua được đúng như dự_đoán mình mặc size vừa vặn quần cũng dày_dặn không biết có bền_màu hay không cửa_hàng cẩn_thận khi giao hàng và còn cắt bỏ hết những sợi chỉ thừa đáng_giá sao',\n",
       " 'quần vải đẹp rất ổn lâu lắm mới tìm được tiệm may vải đẹp form đẹp sẽ tiếp_tục ủng_hộ m kg size vừa đẹp',\n",
       " 'quần đẹp vải dày dặn_form cũng đẹp và đúng form số đo tham_khảo cũng đúng',\n",
       " 'mình mua tổng_cộng đen và xám cho chồng_chất vải đẹp và vừa_vặn với dáng quần không xù lông chồng tôi cao m nặng kg mặc size vừa vặn',\n",
       " 'quần đẹp và dễ_thương mặc dày_dặn đúng form chúng trông rất đẹp khi được cắt ở phía dưới cảm_ơn bạn đóng_gói cẩn_thận giao hàng nhanh lần sau sẽ ủng_hộ shop',\n",
       " 'quần form m vải rất đẹp mình mua đợt flash sale giá k chiếc quần tôn_dáng lắm mình cao vừa in size này nói_chung là đáng mua màu đen rộng hơn một_chút so với màu xám',\n",
       " 'đây là chất_liệu tự_nhiên nhất được nhiều người sử_dụng trong nhiều vật_dụng trên thế_giới loại vải này được sử_dụng để sản_xuất cả thời_trang nam và nữ và được nhiều người ưa_chuộng',\n",
       " 'vải coton là chất_liệu có khả_năng thấm_hút mồ_hôi mang lại sự thoải_mái cho người mặc với đặc_tính thấm_hút co_giãn tốt mẫu quần này luôn là giải_pháp hoàn_hảo cho phái mạnh việt_nam',\n",
       " 'mua cho chú nhưng ở xa nên đi thử sốc khi tôi mặc nó và nó vừa vặn_🥲 nhưng mình gửi cho anh ấy xem có vừa ý không nên yên_tâm chất vải dày dặn form quần_ok nếu có sai_sót là do mình chọn sai size 🥲_quần không có vấn_đề gì cả',\n",
       " 'chất_lượng vải rất tốt và đường khâu đẹp sẽ thường_xuyên ủng_hộ cửa_hàng 😙',\n",
       " 'quần đẹp quá mình thích lắm vải dày mặc lên đẹp lắm hehe',\n",
       " 'giá_cả hợp_lý mô_tả trung_thực tư_vấn nhiệt_tình giao hàng nhanh sản_phẩm đúng mẫu_mã đáng mua sẽ tiếp_tục ủng_hộ',\n",
       " 'giao hàng nhanh sản_phẩm đúng với mô_tả săn sale nên giá rẻ cảm_ơn cửa_hàng',\n",
       " 'áo rất đẹp các bạn mua ủng_hộ cửa_hàng nhé áo rất mát và vừa vặn cửa_hàng camon',\n",
       " 'chất vải mềm mịn giá_cả hợp_lý đúng hình_ảnh tuyệt_vời với mức giá này chất_liệu và sản_phẩm rất ưng_ý giống như quảng_cáo cảm_ơn shop_chúc bạn bán hàng tốt cung_cấp nhiều sản_phẩm cho người tiêu_dùng',\n",
       " 'mặc khá ổn chất_liệu mỏng vừa_phải phù_hợp với giá tiền nhìn_chung là có_thể mua được',\n",
       " 'đã nhận được hàng sản_phẩm rất đẹp giống mẫu giao hàng nhanh',\n",
       " 'cửa_hàng giao hàng siêu dễ_thương nhưng lần này cửa_hàng giao hàng nhanh và mình rất thích hàng đẹp lắm cho mình sao nhé',\n",
       " 'cửa_hàng rất nhiệt_tình trong việc tư_vấn giao hàng siêu_siêu nhanh mới đặt hôm_qua mà giờ đã có hàng cửa_hàng giao hàng đúng mẫu và đúng size chất_liệu đẹp và tốt sẽ ủng_hộ cửa_hàng dài dài',\n",
       " 'chuyển phát nhanh đóng_gói cẩn_thận giao đúng màu và đúng mẫu đã chọn rất phù_hợp giá_cả hợp_lý',\n",
       " 'rằng anh chưa nhìn thấy khuôn_mặt em anh đang cố_gắng trở_nên mạnh_mẽ nhưng sức_mạnh anh có đang dần mất đi sẽ không lâu nữa trước khi anh có em bên cạnh và chỉ ôm em trêu chọc em siết chặt em kể cho em nghe chuyện gì đã xảy ra tâm_trí tôi',\n",
       " 'chuyển phát nhanh đóng_gói cẩn_thận giao đúng màu và đúng mẫu đã chọn rất phù_hợp giá_cả hợp_lý',\n",
       " 'vải khá mềm và mỏng mua đợt sale nên chất_lượng phù_hợp với giá tiền',\n",
       " 'thiết_kế trẻ trung_năng_động phù_hợp với mọi hoàn_cảnh phong_cách cập_nhật theo xu_hướng mới nhất bạn nên lộn ngược áo khi giặt để tránh bị bong tróc bảng size chỉ mang tính tham_khảo tùy cơ_thể mỗi người và chất_liệu khác nhau vui_lòng hỏi cụ_thể nhiều màu_sắc phù_hợp với giới trẻ hiện_nay chất vải_thoáng mát mềm_mại và thấm hút mồ_hôi hàng việt được cập_nhật theo xu_hướng hot hit mới nhất',\n",
       " 'sản_phẩm giống_hình chất_lượng mỏng nhẹ giá rẻ nên không_thể đòi_hỏi nhiều rộng_rãi đóng_gói tốt giao hàng đúng dự_kiến \\u200b 👌',\n",
       " 'mặc khá ổn chất_liệu mỏng vừa_phải phù_hợp với giá_cả nói_chung bạn có_thể mua nó',\n",
       " 'áo phù_hợp với giá tiền từ vừa vặn với cơ_thể của tôi một_cách hoàn_hảo không quá dài trên mông của tôi màu hơi đậm hơn so với trong ảnh hình_ảnh trên áo là hình_thêu không có lỗi hoặc bất_cứ điều gì nếu có giảm_giá mình sẽ tiếp_tục ủng_hộ cửa_hàng hehe',\n",
       " 'cửa_hàng cho biết áo được in nhiệt chất_lượng cao khi nhận được áo tôi thấy hình_in rõ_ràng và chắc_chắn hy_vọng kéo_dài tốt',\n",
       " 'áo thun như mô_tả chất_liệu mát_dáng rộng không quá chật dễ mặc',\n",
       " 'giao hàng nhanh áo ổn',\n",
       " 'nên mua rất đẹp',\n",
       " 'giao hàng nhanh hàng đúng như mô_tả chủ cửa_hàng tư_vấn nhiệt_tình về kiểu_dáng nên mình cho cửa_hàng sao',\n",
       " 'giao hàng bình_thường nhưng áo nhận được mở ra rất tốt nhìn ổn chưa giặt nên chưa rõ sẽ khả_năng quay lại đánh_giá lại tạm cho cửa_hàng sao',\n",
       " 'kiểu_dáng dễ mặc giá_cả cũng tốt bên ngoài áo trông giống như hình nhìn_chung với mức giá như_vậy thì sản_phẩm khá tốt',\n",
       " 'áo quá đẹp chất_lượng không_thể tin được hình_in sắc nét mình đặt mua cái của shop vừa rẻ vừa đẹp chất coton không hề nóng_chút nào giao hàng cũng không nhanh lắm khuyên bạn nên mua mọi người',\n",
       " 'sản_phẩm rất đẹp giá_cả lại rất hợp_lý phù_hợp với sinh_viên mình thấy size m và size_l có chiều dài gần như nhau nên nếu bạn cao và gầy thì nên chọn m',\n",
       " 'mặc rộng_rãi vừa_phải vải mát và không dễ bị rách ncl unisex cửa_hàng này vải rất đẹp rẻ mà vải đẹp',\n",
       " 'ôi chúa ơi nếu bạn mua chiếc áo này bạn sẽ hối_hận nhân_viên tư_vấn siêu_nhiệt_tình và đáng yêu',\n",
       " 'áo đẹp quá mọi người ơi chất_lượng là tuyệt_vời bạn còn chờ gì nữa mua nó và đi mua_sắm',\n",
       " 'bạn mình nhờ mua nhưng công_nhận áo cũng ổn giá rẻ',\n",
       " 'áo đẹp đáng mua săn sale giá tốt anh_chàng này dày và ngầu',\n",
       " 'tư_vấn nhiệt_tình đóng_gói cẩn_thận chất_liệu thoáng_mát thích_hợp cho mùa hè nếu có cơ_hội sẽ tiếp_tục ủng_hộ',\n",
       " 'nó thật tuyệt_mình rất thích chất vải và cho cửa_hàng sao',\n",
       " 'dép đẹp mang thoải_mái hơi nhỏ so với bình_thường cảm_ơn cửa_hàng tôi sẽ ủng_hộ bạn sau',\n",
       " 'săn sale trên live được_giá tốt cho điện_thoại k mà_lại được áo chất cực tốt mình nặng kg mặc size s ổn lah lun nên mua he áo rất đẹp dày_dặn và nặng_nề',\n",
       " 'tôi rất hài_lòng với bộ trang_phục này chất vải mềm_mại đường may chắc_chắn phom_dáng rất đẹp mình đặt size m vừa vặn như in giao hàng nhanh cửa_hàng tư_vấn nhiệt_tình và chu_đáo rất đáng mua tôi thực_sự giới_thiệu bộ này cho bạn',\n",
       " 'chất vải rất đẹp chất_lượng tuyệt_vời mẫu mình mua có in hình_mặt sau mình cao m mặc size m để che mông lần sau tôi sẽ mua cái nhỏ hơn',\n",
       " 'cửa_hàng ơi thắt nơ cho mình nhé mình không rành lắm nên không biết buộc dây thế_nào bù lại các bạn nhắn_tin cho cửa_hàng gửi video hướng_dẫn nhé tự buộc mình đơn_giản và đẹp lắm hehe váy có kiểu_dáng đẹp và sang_trọng các bạn nên mua nhé',\n",
       " 'lần sau sẽ ủng_hộ thêm',\n",
       " 'sẽ mua lại lần sau',\n",
       " 'sản_phẩm đúng như quảng_cáo giá_cả hợp_lý con trai tôi thực_sự thích nó',\n",
       " 'vận_chuyển nhanh_chóng đóng_gói cẩn_thận',\n",
       " 'tôi đặt_hàng kích_thước nhỏ nhất nhưng nó rất vừa vặn vải đẹp và không quá mỏng tôi khuyên bạn nên mua nó',\n",
       " 'đẹp đúng mô_tả lần sau sẽ mua tiếp',\n",
       " 'tôi thực_sự thích chiếc áo sơ_mi thế_là mua liền cái khăn để đeo 😁',\n",
       " 'mình mua lần vì sản_phẩm quá đẹp form đẹp chất_liệu không quá dày cũng không quá mỏng mặc thoải_mái chiếc áo này nhẹ đến mức có cảm_giác như bạn không mặc nó trị_giá đồng',\n",
       " 'hình_ảnh và video chỉ nhằm mục_đích nhận sản_phẩm ok cửa_hàng nhiệt_tình_ok tư_vấn ok',\n",
       " 'chất_lượng không dễ sờn sản_phẩm rẻ và ok đáng tiền nên mua video_mag là tính_năng nhận xu',\n",
       " 'áo có form_dáng khá đẹp so với giá tiền chất vải không quá nóng_mặc vừa vặn và nói_chung là ổn',\n",
       " 'rất hài_lòng áo đẹp màu đẹp giá sinh_viên cũng đ cửa_hàng tư_vấn chuẩn và nhiệt_tình',\n",
       " 'sản_phẩm tốt giao hàng nhanh mẫu_mã đẹp đóng_gói cẩn_thận nhìn_chung hài_lòng nếu có dịp mình sẽ ủng_hộ tiếp',\n",
       " 'chất_lượng vải khá tốt từ áo đến body đều đang sale và cửa_hàng rất nhiệt_tình lần sau mình sẽ ghé tip cửa_hàng',\n",
       " 'giao hàng nhanh đóng_gói cẩn_thận rất thơm_áo rất dày_dặn chất_lượng in rất tốt_dáng áo đẹp màu_sắc đúng như hình_săn được giá rẻ mà_lại nhận được áo chất_lượng như thế_này nên rất hài_lòng',\n",
       " 'sản_phẩm đẹp vừa vặn',\n",
       " 'áo mình nhận được đẹp quá mọi người ạ hình_thức đẹp như ảnh in siêu rõ_ràng giảm_giá mùa thu và mùa hè là ok mình đã mua rất nhiều hàng của shop sản_phẩm đẹp và cửa_hàng cũng thân_thiện nhiệt_tình mình sẽ ủng_hộ cửa_hàng lâu_dài 🥰',\n",
       " 'thời_gian giao hàng rất nhanh sản_phẩm được đóng_gói cẩn_thận hình_ảnh nhằm mục_đích nhận xu nhưng phải nói là áo quá đẹp mọi người nên mua mà không nghĩ sẽ tốt đến thế',\n",
       " 'sản_phẩm cực_kỳ đẹp không có gì để phàn_nàn cửa_hàng tư_vấn nhiệt_tình và giao hàng nhanh đáng mua',\n",
       " 'bộ sản_phẩm đẹp tôn_dáng thoải_mái khi mua áo đơn_giản để mặc đi học hoặc đi làm và màu_sắc sạch_sẽ nên rất đáng mua',\n",
       " 'mới nhận được phản_hồi cho cửa_hàng kaka không có gì phàn_nàn về chất_lượng vải nên không cần bàn_cãi gì thêm cửa_hàng tư_vấn rất nhiệt_tình lần sau tiếp_tục ủng_hộ cửa_hàng nhé',\n",
       " 'không phải ngẫu_nhiên mà tôi khen_ngợi quán này không có gì vừa chất_lượng cao mà_lại cực_kỳ rẻ mình đã mua nhiều nơi rồi cửa_hàng này có_thể là điểm đến cuối_cùng của mình bán toàn đồ chất_lượng 😍',\n",
       " 'nên mua nhé mọi người nếu bạn thích thì tất_cả đều tốt rẻ và chất_lượng cũng tốt lần sau sẽ ủng_hộ cửa_hàng',\n",
       " 'áo đẹp quá nên mua mình đã mua cửa_hàng này nhiều lần rồi nó có uy_tín cửa_hàng dễ_thương và chu_đáo lắm chuyển phát nhanh tôi khuyến_khích điều đó',\n",
       " 'giao hàng nhanh đóng_gói đẹp giá tốt phù_hợp với sản_phẩm',\n",
       " 'áo rất đẹp nhé mọi người vải rất đẹp và chất_liệu rất mát_bạn nên mua về dùng thử tôi vừa nhận được nó',\n",
       " 'cửa_hàng giao hàng nhanh đóng_gói cẩn_thận chất_lượng phù_hợp với giá tiền sẽ ủng_hộ cửa_hàng nhiều hơn',\n",
       " 'chất vải đẹp đóng_gói đẹp giao hàng nhanh',\n",
       " 'giá này hợp_lý giao hàng nhanh cửa_hàng nhiệt_tình',\n",
       " 'chất_lượng vải khá tốt từ áo đến body đều đang sale và cửa_hàng rất nhiệt_tình lần sau tôi sẽ ghé thăm cửa_hàng tip',\n",
       " 'áo rất đẹp điểm cộng là giao hàng siêu nhanh đặt_hàng hôm sau là có hàng người giao hàng rất thân_thiện cửa_hàng đóng_gói cẩn_thận',\n",
       " 'ôi trời ngoài đời còn xinh hơn trong ảnh nữa vải rất tốt_đáng mua a 😍',\n",
       " 'quần đẹp nhé mọi người đây là lần đầu_tiên mình mua ở cửa_hàng này tôi thực_sự thích chiếc áo này vải rất mát nên sẽ ủng_hộ cửa_hàng lâu_dài 😋',\n",
       " 'quần rất đẹp áo dày_dặn đáng tiền nên mua về rất thích',\n",
       " 'quần rất đẹp nhé mọi người mình đã mua hàng của cửa_hàng nhiều lần rồi và không có gì phàn_nàn cả tôi luôn mặc chúng để đi chơi và đi học mọi người hỏi mua ở đâu ☺_️ yêu quá',\n",
       " 'mình rất thích áo form đẹp màu đẹp giá_cả cũng phù_hợp với sinh_viên đ cửa_hàng tư_vấn chính_xác nhiệt_tình',\n",
       " 'nhận hàng đẹp lắm mọi người ạ hình_thức đẹp như ảnh in siêu rõ_ràng giảm_giá mùa thu và mùa hè là ok mình đã mua rất nhiều hàng của shop sản_phẩm đẹp và cửa_hàng cũng thân_thiện nhiệt_tình mình sẽ ủng_hộ cửa_hàng lâu_dài 🥰',\n",
       " 'giao hàng nhanh đóng_gói cẩn_thận rất thơm_áo rất dày_dặn chất_lượng in rất tốt_dáng áo đẹp màu_sắc đúng như hình_săn được giá rẻ mà_lại nhận được áo chất_lượng như thế_này nên rất hài_lòng',\n",
       " 'quần_chất đẹp mình rất thích sao cho cửa_hàng',\n",
       " 'quần đẹp quá chất vải mềm mặc_mát đường may in cực_sắc nét cửa_hàng tư_vấn nhiệt_tình nói_chung là đi mua',\n",
       " 'không phải ngẫu_nhiên mà mình khen cửa_hàng này đâu không có món nào vừa chất_lượng cao vừa cực rẻ cả mình đã mua ở nhiều nơi rồi cửa_hàng này có_thể là điểm đến cuối_cùng của mình bán toàn hàng chất_lượng 😍',\n",
       " 'nhận hàng đẹp lắm mọi người ạ hình_thức đẹp như ảnh in siêu rõ_ràng giảm_giá mùa thu và mùa hè là ok mình đã mua rất nhiều hàng của shop sản_phẩm đẹp và cửa_hàng cũng thân_thiện nhiệt_tình mình sẽ ủng_hộ cửa_hàng lâu_dài 🥰',\n",
       " 'giao hàng nhanh đóng_gói cẩn_thận áo rất đẹp vải mềm nhìn rất đẹp',\n",
       " 'giao hàng nhanh đúng như mô_tả cửa_hàng cũng thân_thiện vui_vẻ mặc rất mát',\n",
       " 'ổn lần sau ủng_hộ mình nhé các bạn',\n",
       " 'giao hàng nhanh đóng_gói cẩn_thận không có gì phàn_nàn với mức giá này',\n",
       " 'áo đẹp dành cho người thích thể_thao chất vải thô rất đẹp phục_vụ học_tập cho học_sinh trong lớp đi chơi bạn có_thể bị bỏng_mắt với những gì bạn nhìn thấy',\n",
       " 'không biết nói sao hơn nhưng nhìn_chung là ổn so với giá không quá cao vải mỏng nhưng vẫn mềm_mại',\n",
       " 'chất_lượng phải tương_xứng với giá tiền cửa_hàng giao hàng nhanh và đóng_gói cẩn_thận',\n",
       " 'quần_áo rất đẹp và vải rất mát có cách nào ủng_hộ cửa_hàng tiếp không ạ',\n",
       " 'bộ_đồ rất mát và không hề nhăn_chút nào chất lụa mềm nhẹ màu đẹp giao hàng nhanh đóng_gói cẩn_thận rất hài_lòng cho cửa_hàng sao',\n",
       " 'giao hàng siêu nhanh luôn chất vải nhẹ mát form váy đúng như hình đúng kiểu_mẫu mình thích đẹp màu hoa_sắc nét rất dễ mặc đường may_ổn không có chỉ thừa nhãn mác_túi đầy_đủ nhãn_hiệu yên_tâm mua hàng nhé mọi người',\n",
       " 'chất_liệu mỏng_nhẹ co_giãn nhẹ mặc thoải_mái form rộng_rãi chất_lượng phù_hợp với giá tiền',\n",
       " 'đã nhận được sản_phẩm đẹp hơn trên ảnh rất nhiều cửa_hàng xác_nhận và giao hàng siêu nhanh túi quần khá rộng_rãi và thoải_mái mặc khá đẹp',\n",
       " 'giống như kiểu nó nhẹ như không mặc gì gọn_gàng mềm_mại và thoải_mái tôi kg và nó vừa_vặn một_cách tuyệt_vời đường khâu đẹp mua ở trung_tâm thương_mại nên rất uy_tín_súp đang được giảm_giá và rất hời',\n",
       " 'mình rất thích đúng mẫu_mã màu_sắc_đẹp thích_hợp cho mùa hè chất_liệu mát_mẻ chuyển phát nhanh hình_ảnh chỉ dành cho mục_đích nhận_dạng tiền xu',\n",
       " 'vừa nhận hàng mình đã nhận_xét ngay cửa_hàng giao hàng đẹp đóng_gói cẩn_thận mua đúng đợt sale nên rẻ mà_còn có quà cảm_ơn shop sẽ ủng_hộ bạn lâu_dài',\n",
       " 'quần_áo cực đẹp giao hàng nhanh giá ok vải mát_nhẹ đóng_gói kỹ và sạch_sẽ nói_chung là hài_lòng sẽ tiếp_tục ủng_hộ cửa_hàng',\n",
       " 'không còn nghi_ngờ gì nữa sản_phẩm của công_ty rất đẹp và tôi đã mua rất nhiều cảm_ơn cửa_hàng đơn hàng nhanh như gió',\n",
       " 'sản_phẩm rất đẹp màu_sắc cũng đẹp đường may chắc_chắn mình mặc rất thích giao hàng nhanh lần sau sẽ ủng_hộ shop',\n",
       " 'cửa_hàng dễ_thương quá hỏi nhiều cũng vui_vẻ tư_vấn mát và cực_nhẹ phù_hợp với giá tiền sản_phẩm tương_ứng với hình_ảnh và mô_tả lần sau tôi sẽ mua lại cho mẹ tôi nên mua nhé mọi người',\n",
       " 'màu đẹp chất đẹp dễ mặc chăm_sóc khách_hàng tốt hỗ_trợ trả tiền ổn ổn ổn',\n",
       " 'hàng đẹp tôi thực_sự thích vk màu này trông tươi_sáng và trẻ_trung vợ minh cao m nặng kg mặc size m vừa vặn',\n",
       " 'sản_phẩm rất đẹp rất đáng tiền các đường may_bền chắc không có sợi thừa chất vải mát_áo rộng_rãi mặc ở nhà rất thoải_mái',\n",
       " 'giao hàng nhanh đúng số_lượng chủng_loại kiểu_dáng quần_áo đẹp giá tốt giao hàng thân_thiện',\n",
       " 'sản_phẩm rất đẹp đáng tiền các đường may chắc_chắn không có sợi chỉ thừa chất vải mát_áo rộng_rãi thoải_mái khi mặc ở nhà',\n",
       " 'giao hàng nhanh đúng số_lượng chủng_loại kiểu_dáng quần_áo đẹp giá tốt giao hàng thân_thiện',\n",
       " 'chất vải dày dặn sờ vào rất mát_tạo cảm_giác thoải_mái khi mặc vải không nhăn màu đẹp nhưng mình không nghĩ vải này sẽ thấm mồ_hôi tôi sẽ mua một bộ khác',\n",
       " 'chất vải mềm_giặt không nhăn form_dáng thoải_mái',\n",
       " 'sản_phẩm rất đẹp sản_phẩm giống hình mình mua bộ và mua thêm bộ mặc rất mát vải lụa đẹp giao hàng nhanh đóng_gói ok lần sau sẽ mua tiếp',\n",
       " 'giao đúng sản_phẩm và kích_thước chất vải mát không_chỉ thừa nên đặt lớn hơn size để thoải_mái hơn chuyển phát nhanh thích rất nhiều',\n",
       " 'đồ đẹp màu_sắc vải nhẹ mặc_mát kiểu_dáng rộng_rãi thoải_mái thích_hợp mặc ở nhà vừa đẹp vừa gọn các bạn nên mua trực_tiếp tại cửa_hàng để được_giá tốt có nhiều mã giảm_giá',\n",
       " 'đã nhận được hàng rất nhanh đóng_gói cẩn_thận nói_chung là rất ưng_ý và sẽ ủng_hộ cửa_hàng lâu_dài',\n",
       " 'đã nhận được hàng sản_phẩm đẹp như hình vải tốt màu đẹp ảnh hơi tối và không đẹp như trong hình thêu_sắc nét đóng_gói và giao hàng nhanh',\n",
       " 'bộ ôm sát có vạt trước thêu hoa xinh_xắn quần dài tay_cạp co_giãn khá thoải_mái chất_liệu mát_màu nhẹ_nhàng rất hài_lòng giao hàng tốt khoảng ngày sau khi nhận được',\n",
       " 'đặt mà đã nhận giao hàng nhanh quá dù mình ở tỉnh giao đúng màu và size bộ_đồ được may bằng vải_lanh mát mình kg size_l vừa vặn tôi',\n",
       " 'đã nhận hàng cửa_hàng giao đúng size tư_vấn nhiệt_tình chất_lượng vải rất đẹp mọi người nên mua ủng_hộ cửa_hàng nhé khi tôi nhận được nó tôi đã giặt và ủi nó nó thật tuyệt ở tỉnh mình nhận được hàng trong ngày',\n",
       " 'vải đẹp thoáng mát và dày_dặn nhưng mình đặt size m mà áo lại giao size m nhưng quần lại là size xin_lỗi nên quần_dài và rộng quá',\n",
       " 'sản_phẩm dễ sử_dụng và phù_hợp với giá tiền',\n",
       " 'nhận_xét của bạn sẽ áp_dụng cho ý_kiến \\u200b của mọi người trong vòng vài ngày',\n",
       " 'giao hàng hương đóng_gói cẩn_thận quần_áo đẹp áo vừa vặn quần_hơi rộng tạm_thời được rồi',\n",
       " 'sản_phẩm quá đẹp và tuyệt_vời tôi không_thể mong_đợi gì hơn_nữa cảm_ơn nhà_cung_cấp nhà_sản_xuất cảm_ơn người bán cảm_ơn sàn thương_mại_điện_tử cảm_ơn nhà vận_chuyển đã cho tôi cơ_hội được sử_dụng một sản_phẩm tốt như thế_này',\n",
       " 'đã mua hàng của cửa_hàng nhiều lần chủ cửa_hàng nhiệt_tình và dễ_thương giao hàng nhanh hình_ảnh chỉ để nhận xu',\n",
       " 'cửa_hàng nhiệt_tình',\n",
       " 'đặt_hàng cho bạn nên không có hình_ảnh minh_họa cho sản_phẩm của shop rất đẹp_may cẩn_thận sẽ hỗ_trợ giao hàng rất nhanh',\n",
       " 'khi nhận hàng mình rất bất_ngờ vì màu ngọt nhẹ rất dễ_chịu chất_lượng vải sẽ đẹp hơn sau khi mặc nó nhẹ trên cơ_thể và không cảm_thấy nặng_nề',\n",
       " 'hình_ảnh mang tính_chất nhận coin và sẽ tiếp_tục hỗ_trợ khi có nhu_cầu',\n",
       " 'chất đẹp nhưng quần_hơi dài với người m như mình 😅',\n",
       " 'chất_lượng vải khá bình_thường với mức giá này ai biết được nhưng lần nào cũng có_thể là lý_do',\n",
       " 'đóng_gói cẩn_thận áo vừa vặn nhưng quần_hơi dài chất_lượng tuyệt_vời',\n",
       " 'mình mua của hãng này nhiều nên không có gì để nói về chất_liệu',\n",
       " 'chắc_chắn là tốt mọi người nên mua và sẽ ủng_hộ cửa_hàng lâu_dài',\n",
       " 'mua lúc sale giá tốt chất vải tốt form đẹp các sản_phẩm của cardina luôn là sự lựa_chọn của các quý cô công_sở nhẹ_nhàng sang_trọng và thanh_lịch tặng cửa_hàng ngàn sao 🤩',\n",
       " 'hình_ảnh chỉ cho thấy chất_lượng của đồng_xu nhưng nó trông rất đẹp bạn nên thử mua nó bao_bì chắc_chắn là đẹp',\n",
       " 'màu đẹp mẹ mình rất thích_mát và thoải_mái giao hàng nhanh',\n",
       " 'cũng rất thích_hợp làm_quà tặng cho những người bạn yêu_thương',\n",
       " 'đẹp quá đây là lần thứ mình mua rồi chất vải rất mát và dễ_chịu',\n",
       " 'giao hàng nhanh_bọc cẩn_thận đúng như mô_tả uy_tín giá_cả hợp_lý sẽ ủng_hộ tiếp',\n",
       " 'đã nhận được sản_phẩm chất_lượng ổn mặc rất thoải_mái và mát sẽ mua lại cảm_ơn cửa_hàng và đơn_vị vận_chuyển',\n",
       " 'giá hơi_chát so với chất_lượng',\n",
       " 'nhưng cửa_hàng giao hàng hơi chậm',\n",
       " 'áo quá ngắn và quần quá dài nói_chung là không vừa ý',\n",
       " 'mua bộ của shop giặt xong thì lem_nhem như thế_này tôi không thích nó lắm',\n",
       " 'chiếc áo bị rách',\n",
       " 'vải mỏng và nóng_mặc ở cửa_hàng khác mình mua k mà chất vải tốt hơn cửa_hàng này nhiều nên tránh xa',\n",
       " 'quá chán đ',\n",
       " 'làm_ăn lố_bịch lấy tiền không gửi hàng nói_dối lừa_đảo tin nhắn ngày phản_hồi',\n",
       " 'đặt mua bộ thể_thao nam giá k và cửa_hàng giao quần short nam',\n",
       " 'cửa_hàng_không kiểm_tra trước khi giao cho khách sản_phẩm bị bẩn có nhiều chỉ thừa_tưởng đặt qua shope mal chất_lượng sẽ tốt nhưng hóa ra lại tệ',\n",
       " 'vải mỏng nóng đường may sơ_sài có nhiều đường chỉ chưa cắt vải quần vẫn bị rách thất_vọng với hình_ảnh sản_phẩm được giao bằng cách này cách khác',\n",
       " 'khá thất_vọng vì form hơi chật vải mỏng form xấu',\n",
       " 'áo bị phai màu mình hỏi thì cửa_hàng cũng không thèm trả_lời',\n",
       " 'đặt size xin_lỗi nhưng nhận được size xl đã bị xóa thành xl cảm_thấy không hài_lòng với shop phải tốn thêm tiền để sửa',\n",
       " 'lần đầu mặc quần đã thấy túi bị rách',\n",
       " 'nếu bạn trả_lời như_vậy thì có vải đen chưa qua chế_biến được may bằng vải trắng chỉ cần ngâm nước là sẽ ra màu đừng nói là giặt bằng bột giặt',\n",
       " 'người giao hàng nói_chuyện không phù_hợp với khách_hàng',\n",
       " 'quần có vết ố vàng khá đậm vận_chuyển hơi lâu mình vô_tình bấm nhận hàng nên không đổi được',\n",
       " 'chiếc áo mở ra thì bẩn với rất nhiều vết mực_thừa và rất nhiều vết mực lớn và nhìn_chung là tệ',\n",
       " 'vải rất mỏng chất_lượng kém các bạn nên cân_nhắc trước khi mua như lúc mình mua size xin_lỗi thấy quần dài bằng nhau nhưng áo ngắn quá vải cả bộ rất mỏng xem qua vải quá mỏng nên bạn đừng bận_tâm mình không mặc được nên vứt nó đi mình thấy như_vậy là lãng_phí tiền nên bạn nên cân_nhắc',\n",
       " 'quần_áo rất mỏng dây kéo quần_rách buồn',\n",
       " 'màu_sắc đã nhạt dần và lan sang phần màu trắng',\n",
       " 'bán hàng lỗi cho khách_hàng',\n",
       " 'màu trong ảnh nhìn rất đẹp nhưng khi nhận hàng thì thấy chán tôi muốn thay_đổi phong_cách màu_sắc một_chút nhưng tôi hơi thất_vọng',\n",
       " 'nói thật đọc cái thẻ trong áo mà thấy ngứa_ngáy sao đánh_giá sao mà không được hoàn tiền sợ quá sợ quá sợ sao',\n",
       " 'chất_liệu mỏng không tốt',\n",
       " 'đặt màu trắng nhưng lại nhận được màu đen không giống màu lúc đặt',\n",
       " 'góc cảnh_báo ❌ các bạn không nên mua hàng của cửa_hàng này lý_do gửi sai sản_phẩm là không phản_hồi và không_thể giải_quyết vấn_đề cho khách_hàng đừng mua nó vì nó trông không giống_hình và nó quá lớn',\n",
       " 'quần không giống trong ảnh',\n",
       " 'bộ thun giống hình đường may không đẹp có rất nhiều chủ_đề bổ_sung bộ pyjama mình đặt giao thì chất_lượng cũng tệ đường may ẩu mình nhắn_tin cho cửa_hàng nhưng họ không trả_lời tôi không hài_lòng với cách bán hàng của shop',\n",
       " 'chất_lượng quần_áo rất tệ chỉ cần nhìn vào chúng thôi cũng khiến tôi cảm_thấy nóng_nực vô_cùng tôi đoán tôi không_thể mặc chúng vào mùa hè ai muốn mua thì nên suy_nghĩ_lại xin_lỗi cửa_hàng nhưng mình phải nói sự_thật',\n",
       " 'cửa_hàng giao nhầm hàng thiếu mua màu xám giao màu trắng mua màu xanh giao màu be được tặng quà nhưng chưa giao chất_lượng mỏng hơn hình',\n",
       " 'chất_lượng kém tôi đặt bộ cửa_hàng tính tiền tôi cho bộ cửa_hàng không cho tôi kiểm_tra hàng trước khi tôi vào nhà và mở ra thì thấy có bộ tôi yêu_cầu cửa_hàng đặt bộ tại_sao họ chỉ giao bộ tôi không thấy vấn_đề gì',\n",
       " 'trong hình thì quần_áo cùng màu nhưng khi nhận hàng thì quần lại cùng màu với áo vậy là sao',\n",
       " 'chuẩn_bị hàng mất nhiều thời_gian 😡_hủy hàng_không nhận thì làm_sao kinh_doanh được 🖕',\n",
       " 'cửa_hàng không giao sản_phẩm này cho mình nên mình không_thể đảm_bảo chất_lượng và cửa_hàng cũng không hoàn_tiền hay phản_hồi gì cả',\n",
       " 'sản_phẩm đặt nhầm có bộ giống_hệt nhau cửa_hàng có bộ dao giống_hệt nhau',\n",
       " 'cửa_hàng tệ đến mức giao nhầm hàng và hoàn_tiền rất phức_tạp cửa_hàng_không nhiệt_tình nhìn bao_nhiêu người bán_tưởng uy_tín mà chịu không nổi 😭',\n",
       " 'chất_lượng không giống như hình chất_lượng kém',\n",
       " 'tôi biết bạn nhận được những gì bạn phải trả nhưng bạn có_thể chấp_nhận rằng chất_lượng không đẹp và hình_dáng không thông_minh nhưng việc mua phải một chiếc quần chưa được may đường may là điều không_thể chấp_nhận được quá bất_cẩn',\n",
       " 'chất_liệu không thấm_hút khá buồn khi nhận được sản_phẩm',\n",
       " 'áo rất mỏng mặc_dù mua nhiều nhưng rất xấu nhắn_tin cho cửa_hàng lần thứ cửa_hàng cũng không trả_lời giao hàng lâu không nên mua',\n",
       " 'cửa_hàng giao thiếu hàng đặt giao nhắn_tin cho shop không có trl',\n",
       " 'cửa_hàng giao thiếu quần khi đặt set nhưng chỉ giao áo cửa_hàng_không buồn trả_lời',\n",
       " 'đường may xấu xoắn ở gấu áo viết chữ ở mỗi bên lưng áo không_thể giặt sạch',\n",
       " 'thực_sự rất tồi_tệ',\n",
       " 'vải rất mỏng không giống trong hình_mặc không mát lắm khá thất_vọng về cửa_hàng',\n",
       " 'cửa_hàng này làm_ăn rất kỳ_lạ họ đặt quần_áo_dài màu đen kèm theo ghi_chú dài sau đó giao quần_áo ngắn màu đen kèm theo ghi_chú ngắn tôi nhắn_tin không trả_lời tôi sẽ không mua lại nữa',\n",
       " 'mỏng quá shiper nhiệt_tình không nên mua',\n",
       " 'không đẹp không giống như trong ảnh đừng mua 🤙 🏻',\n",
       " 't mua bộ mà khi mở ra bộ thì quần bị rách trải_nghiệm rất tệ',\n",
       " 'chất_lượng quá tệ quần_áo quá rộng phải mất kg mới mặc vừa giao sai mẫu nhắn_tin không trả_lời tôi biết nó rẻ nhưng tôi không_thể mặc nó mãi được 👎',\n",
       " 'thiếu bộ quần_áovải màu đen nhưng lại được tặng size xám nt cửa_hàng không đền_bù không gửi thêm hàng_không trả_lời tin_nhắn của khách cửa_hàng làm_ăn tệ quá đừng mua nó để hỗ_trợ bất_cứ ai những kẻ lừa_đảo và vô_trách_nhiệm nếu không có hàng mình sẽ yêu_cầu khách hủy_đơn vì thiếu hàng nhưng anh này không nói gì mà giao hàng cho khách như_vậy những kẻ lừa_đảo khủng_khiếp không bồi_thường cho khách_hàng',\n",
       " 'tệ đến_nỗi tôi không_thể chịu được việc vải bị xù lên mặc_dù nó không bám nhiều bụi',\n",
       " 'đặt_hàng một cái ngắn và một cái dài nhưng lại gửi hài_cái ngắn kinh_doanh tệ',\n",
       " 'giống như hạt_dẻ không đáng mua chút nào vừa tốn tiền vừa lười trả lại sản_phẩm vải mỏng và lòi ra ngoài để lộ toàn_bộ áo giống như một miếng giẻ rách thật là lãng_phí tiền_bạc',\n",
       " 'hàng_không như hình_chất vải và màu_sắc rất tệ mọi người cân_nhắc 🙂 với mức giá gần k thì mình thấy không xứng_đáng',\n",
       " 'chất_liệu túi nilon cực_hot mà_lại không thấm nước nên mặc bí lắm',\n",
       " 'trừ sao vì cửa_hàng_không trả_lời tin nhắn thêm sao vì cửa_hàng tặng nhiều quà để lựa_chọn nhưng chỉ tặng và không giống trong danh_sách đó nếu cửa_hàng_không ghi_nhận quà sẽ không làm khách_hàng thất_vọng và sẽ được đánh_giá cao hơn bình_luận bao_gồm sản_phẩm nhưng chỉ nhận được sản_phẩm vải của sản_phẩm có_thể hơi khó_chịu khi mặc và có_thể có thừa chỉ',\n",
       " 'các loại vải mỏng thường phù_hợp để mặc tạm_thời',\n",
       " 'áo nâu đẹp hơn áo xám mình mua bộ áo xám rách mà cửa_hàng vẫn giao hàng',\n",
       " 'quán không_thể kinh_doanh như_vậy được tại_sao bạn lại đưa cho tôi chiếc áo_bẩn của bạn tôi sẽ không dừng lại nữa',\n",
       " 'chất_lượng và màu_sắc hơi thô bạn nhận được những gì bạn trả tiền mua cho một chiếc điện_thoại nhỏ để đeo ở nhà nhưng kích_thước rất lớn không như mô_tả bạn nên mua kích_thước',\n",
       " 'chất vải khá nóng mình mua bộ khác nhau nhưng bộ nào cũng thích form áo đẹp và tôn lên vóc_dáng của bạn',\n",
       " 'tôi có_thể tìm thấy nó với giá rẻ chất_liệu ấm_áp và bí_mật nó không thấm mồ_hôi mặc vào hơi xấu nhìn như con trai z',\n",
       " 'giao hàng nhanh nhưng sản_phẩm chưa tốt',\n",
       " 'nếu áo rộng quá như size x quan_giặt sẽ rộng quá và bụng bạn sẽ kêu',\n",
       " 'chất_liệu nóng chỉ thích_hợp mặc khi trời mát',\n",
       " 'chán quá chị mình cũng mua giá này mà lấy được bộ đẹp quá mình tưởng mấy bộ này đều giống nhau nên đặt mua nhưng thất_vọng quá có cái to có cái nhỏ có cái dài có cái ngắn vải mỏng vừa mặc vào là đường may bung ra hích',\n",
       " 'trong ảnh có túi nhưng ngoài đời lại không có túi trước khi tôi mua một bộ màu nâu không có túi bộ màu xám cũng không có túi giảm sao',\n",
       " 'giao hàng lâu thiếu hàng cửa_hàng mất ngày để đóng_gói',\n",
       " 'quần thun đơn đường may_kém không như hình vải cứng nóng',\n",
       " 'vải mỏng quá cửa_hàng ơi',\n",
       " 'dù không đặt nhiều kỳ_vọng vào mức giá trên nhưng có_lẽ lần sau tôi sẽ không đặt_hàng nữa',\n",
       " 'xấu quá tôi không mặc',\n",
       " 'vừa rách',\n",
       " 'quán đang kinh_doanh như quần_đùi người đặt_hàng hỏi và nhắn_tin không buồn trả_lời mặc_dù trạng_thái vẫn đang online giao hàng thiếu mình đặt bộ nhiều nhất bộ đắt tiền đẹp không giao những bộ còn lại cũng không giao lại bộ cố_gắng chỉ mặc_bộ thôi còn lại bộ cho cún ngủ chẳng biết nói sao nữa tệ thật mình đã chấp_nhận nhưng giờ nó phải mất mình một tuần nhắn_tin cho quán im đi và làm ngay đi mong các bạn_đọc được bình_luận của tôi và tránh phí tiền mà giận một người không muốn giao hàng muốn quỳ lạy 🙌 🏻',\n",
       " 'mình không có ý_kiến \\u200b gì về món hàng vì giá_cả món hàng đi với nhau như_thế giá còn tùy vào cách nhân_viên cửa_hàng xử_lý đơn hàng',\n",
       " 'đăng ảnh giao hàng khác và đừng khả_năng quay lại nữa',\n",
       " 'cửa_hàng giao cho mình một món đồ còn thiếu mình đã gửi đơn hàng nhưng vẫn chưa nhận được tiền mong cửa_hàng sẽ chuyển tiền hoặc nhắn_tin lại nói vậy im_lặng như_vậy là không tốt đâu 🙂',\n",
       " 'dù giá_trị sản_phẩm có rẻ thì bạn cũng không nên giao hàng cho khách như_vậy đã nhắn_tin nhưng không có phản_hồi mong cửa_hàng kinh_doanh có tâm hơn',\n",
       " 'đường may cực_kỳ cẩu_thả lúc mới mua về đã bung hết chỉ rồi mình khuyên bạn không nên mua',\n",
       " 'màu áo xấu và cổ áo bị bó vào nhau mua về không mặc được',\n",
       " 'rất nhiều chủ_đề dư_thừa đường may không chắc_chắn giao hàng bị gãy ở gấu quần_đũng quần tay_áo đừng mua',\n",
       " 'chiếc áo bị kéo xuống tận nách',\n",
       " 'vải rất mỏng lúc_nào cũng có cảm_giác mềm và sờn nên các bạn không nên mua',\n",
       " 'khi đeo vào nhìn không có_vẻ xấu chất_lượng mỏng nên giá rẻ là không_thể chấp_nhận được',\n",
       " 'quần trắng mỏng quá mình không mặc được nên mua màu khác',\n",
       " 'nhìn ảnh_tưởng có váy nhưng thay vào đó lại mua quần_đùi',\n",
       " 'sản_phẩm không giống hình to vải nóng và xù tôi xem_xét',\n",
       " 'không giống mô_tả cả áo và quần đều quá mỏng đừng mua màu này mình đặt size m nhưng nó to như size xl_tóm_lại là buồn',\n",
       " 'mình đặt bộ_chỉ có cái màu xanh không chữ là đúng màu và sản_phẩm còn lại khác màu hoặc khác mẫu nhưng bộ còn lại nhìn đẹp nên không sao',\n",
       " 'chất vải mờ mặc mùa hè hơi nóng vải đẹp giá_cả phù_hợp áo',\n",
       " 'giá rẻ nên chất_lượng áo không ấn_tượng chất vải mỏng_mát mùa hè nhưng quần mỏng quá lộ cả bên trong đường may cẩu_thả và giặt không cẩn_thận có_thể dễ_dàng khiến sợi chỉ bị bung ra bộ này có_lẽ sẽ bền hơn nếu bạn chỉ giặt tay',\n",
       " 'chỉ cần nhìn_hình cũng đủ biết nó như_thế_nào vải mỏng',\n",
       " 'nó mỏng và hình_in không đẹp sẽ nóng khi mặc',\n",
       " 'hình_ảnh chỉ nhằm mục_đích chấp_nhận tiền xu trong hình thì chất_liệu nhìn khá ổn nhưng khi nhận hàng thì vải nóng không thấm mồ_hôi khi nhét vào cũng không đẹp như trong hình khi mặc trơn nó trông khá đẹp_lộn_xộn nhưng với mức giá rẻ thì không_thể yêu_cầu gì hơn ngoài việc giao hàng nhanh',\n",
       " 'tuy_nhiên màu bên ngoài đậm hơn màu trong hình_quần bên ngoài không giống trong hình',\n",
       " 'vải hơi hợp mùa thu tay_áo ngắn và nhỏmỗi quần rộng_rãi rõ_ràng mình chỉ nặng kg 😇 khá thất_vọng',\n",
       " 'loại vải này chỉ giặt lần là bị nhăn chỉ giặt tay bằng vải nóng',\n",
       " 'cửa_hàng gửi nhầm mẫu mình không đặt áo lỗ đâu shop tôi chán cuộc_sống rồi thực_sự thất_vọng vẫn rộng thùng thình_🥲',\n",
       " 'không giống mô_tả cả áo và quần đều quá mỏng đừng mua màu này mình đặt size m nhưng nó to như size xl_tóm_lại là buồn',\n",
       " 'nói thật thì có_lẽ vì giá rẻ mà quần_mỏng gần như xuyên thấu chất vải cực_kỳ nóng và không phù_hợp mặc mùa hè',\n",
       " 'cửa_hàng bẩn thỉu',\n",
       " 'sai màu xấu quá',\n",
       " 'siêu siêu_mỏng không mỏng đâu không sao mỏng xuyên thấu các màu khác thì không biết nhưng set màu trắng này khoe hết nội_y đến mức khi mặc áo có_thể nhìn rõ cả quần và quần có túi nhỏ như_thế giống như có thêm một túi bên trong nên các lỗ thủng ở cả vải túi và vải quần đều lộ rõ tôi biết với mức giá như_vậy thì tôi cũng không mong_đợi nhiều nhưng tôi không nghĩ nó lại đắt đến thế và tôi cũng không_thể mặc được',\n",
       " 'vải xấu mình đã nhấn return nhưng shope không giải_quyết vứt nó đi như một cây sậy',\n",
       " 'đặt màu xám mà giao màu xanh quần rộng quá ah',\n",
       " 'quần_áo trở_lại vỡ_mộng chất_lượng vải khá tệ đặt màu xanh gửi màu đen không báo trước khách_hàng tự_ý đổi màu màu trên ảnh và màu nhận được quá khác nhau hic thực_sự tồi_tệ bộ đặt bây_giờ đã bị vứt đi không_thể mặc được',\n",
       " 'tôi đã mua hàng nhưng đã đặt thêm cái nữa vì cực_kì ghét thái_độ phục_vụ của quán mình đặt_hàng mà khoảng ngày là có hàng tôi thậm_chí còn không nói một lời nào về việc nó có trong kho hay không mình nhắn_tin thì ngày gì đó cũng không trả_lời khách dịch_vụ xứng_đáng sao',\n",
       " 'mình thực_sự thất_vọng mình bỏ ra hơn k để mua bộ này quần mình nhận vẫn còn bẩn nx',\n",
       " 'nếu màu xám hết hàng cửa_hàng có_thể liên_hệ khách_hàng để đổi màu đặt màu xám thành màu xanh lưu_ý áo mỏng không phải coton và cuối_cùng hãy chú_ý khi mua',\n",
       " 'hàng giao không giống mẫu không nên mua',\n",
       " 'sản_phẩm quá tệ chưa bao_giờ mình mua sản_phẩm nào_tệ đến thế vừa mỏng vừa rách',\n",
       " 'trong ảnh nhìn vải khá dày nhưng quần thì chán cá_nhân mình không thích phong_cách này nên hơi thất_vọng',\n",
       " 'đặt bộ thì giao sai_bộ đã bảo gửi bộ khác và gửi thêm tiền để làm_bộ nhưng không giao hàng yêu_cầu trả lại tiền mà không nói gì cả tháng trời không giải_quyết được nên vào đây đánh_giá sao vui_lòng kiểm_tra hàng và chấp_nhận nó không có giá_trị nhiều nhưng tôi thích nó nếu tôi đặt chỗ cho người khác nó sẽ hủy_hoại danh_tiếng của chính tôi mong cửa_hàng quan_tâm hơn',\n",
       " 'thất_vọng',\n",
       " 'mình bảo cửa_hàng hủy_đơn để đổi sang màu đen nhưng cửa_hàng_không cho vải mỏng quá nhìn xuyên thấu luôn',\n",
       " 'hàng xấu không_thể chấp_nhận được một bộ có túi màu trắng với lớp lót màu đỏ ở một bên và mặt kia màu trắng_bộ còn lại có cạp quần_trông như không có co_giãn dành cho người ngoại_cỡ',\n",
       " 'không đáng_giá quần_áo của bé không đúng màu hỏi cửa_hàng',\n",
       " 'vải mỏng và quá rộng nếu bạn không phản_hồi bạn sẽ không mua lần thứ hai mọi người nên cân_nhắc khi mua hàng',\n",
       " 'quần_áo xấu áo_dài như áo_nam mặc_dù quần vừa vặn',\n",
       " 'đặt màu sữa nhưng nhận được màu trắng rất xấu',\n",
       " 'vải mỏng quần vừa nhưng áo rộng quá',\n",
       " 'chất_liệu vải xấu và mỏng từ quần_áo không đẹp nói_chung là rẻ mọi người cân_nhắc kỹ khi mua nhé',\n",
       " 'chất_lượng rất tệ',\n",
       " 'giao nhầm mẫu xin_lỗi',\n",
       " 'xấu khác với mô_tả',\n",
       " 'đưa cho tôi chiếc áo sơ_mi ngắn chứ không phải chiếc váy',\n",
       " 'hàng hóa trông không đẹp và có chất_lượng kém',\n",
       " 'lúc nhận hàng thực_sự chán lắm mình cao m nặng kg mình đã nhờ cửa_hàng tư_vấn nhưng khi mặc vào tôi có cảm_giác như đang mặc một chiếc áo sơ_mi chiếc quần rộng và dài lớp lót_nỉ bên trong sợi bông bay nhiều 😡',\n",
       " 'nhưng mình mua bộ mà cửa_hàng gửi cho mình bộ mình nhắn_tin cho cửa_hàng thì cửa_hàng_không trả_lời tôi cũng biết một bộ quần_áo không có giá_trị bao_nhiêu nếu cửa_hàng_không gửi lại bộ quần_áo hoặc phần tiền kia cho tôi cũng không sao nhưng tôi cần_câu trả_lời và từ đó đến nay tôi chưa nhận được câu trả_lời nào cả tối hôm_qua cho đến bây_giờ ít_nhất hãy trả_lời để tôi có_thể biết dù tôi có gửi bao_nhiêu tin nhắn cũng không có ai trả_lời quần_áo thì ổn và đẹp nhưng nếu cửa_hàng kinh_doanh như thế_này thì mình sẽ không khả_năng quay lại lần thứ hài đâu',\n",
       " 'hơi mỏng áo_dài quá nói_chung là ổn',\n",
       " 'vải xấu mỏng mua về thấy sợi chỉ bị đứt và rách cửa_hàng không uy_tín',\n",
       " 'không biết mặc quần_ngắn nhưng cửa_hàng cũng không buồn phản_hồi phản_hồi',\n",
       " 'xấu vải mỏng nhiều sợi thừa khi mặc vào vải dính vào người toàn_thân trông như bẩn dù tôi đã giặt trước khi mặc giặt mấy lần rồi vẫn vậy đường may như thế_này giống như hàng vàng_mã mặc lần thứ là hỏng lãng_phí tiền',\n",
       " 'cửa_hàng giao thiếu hàng gọi điện nhắn_tin cũng không trả_lời',\n",
       " 'quán không tận_tâm phục_vụ không tốt cho khách_hàng tôi thấy chán quán',\n",
       " 'tôi đặt bộ thì nhận được bộ nhưng vẫn thanh_toán bộ',\n",
       " 'cửa_hàng giao hàng lâu mà hàng lại không giao',\n",
       " 'vải mỏng không đẹp',\n",
       " 'cửa_hàng giao_nhầm cho mình tôi đặt_hàng màu đen và trắng sao cửa_hàng lại cho mình màu nâu vậy mong cửa_hàng giải_quyết',\n",
       " 'hơi rộng',\n",
       " 'không đúng kích_thước so với kích_thước đặt_hàng tuy giao hàng nhanh nhưng không đúng yêu_cầu',\n",
       " 'cửa_hàng đóng_gói hơi lâu ai_ngờ lại giao_nhầm nhầm áo nhầm quần vải lại mỏng inbox ôm người đại_diện một lần nữa chán quá muốn nói có_lẽ mình sẽ bán đi một lần hay gì đó thôi 😢',\n",
       " 'cái áo xấu quá',\n",
       " 'làm_ăn gì any vậy',\n",
       " 'tại_sao bạn đặt quần_đen và áo trắng mà_lại giao màu đen',\n",
       " 'cửa_hàng giao_nhầm cho mình đồ đẹp nhưng không đẹp lắm',\n",
       " 'vải rất tê',\n",
       " 'của tôi giống như chiếc lá lúa',\n",
       " 'đặt_hàng gì giao hàng gì',\n",
       " 'áo mỏng cổ rộng quá không uốn_cong được khác xa_hình thất_vọng',\n",
       " 'cửa_hàng có hỗ_trợ đổi hàng cho mình không muốn lấy áo trắng ép áo đen huhu',\n",
       " 'không hài_lòng',\n",
       " 'cửa_hàng giao sai màu áo',\n",
       " 'xấu_xí 😡',\n",
       " 'đặt áo đen giao áo trắng',\n",
       " 'quần_áo quá mỏng quần quá nhỏ áo quá rộng và cổ_áo bị lỗi',\n",
       " 'sản_phẩm xấu chất_lượng kém in xấu sai_kích_thước rất thất_vọng',\n",
       " 'sản_phẩm trông không giống như hình_ảnh mọi người nên cân_nhắc khi mua hàngv',\n",
       " 'sản_phẩm xấu chất_lượng kém in xấu sai_kích_thước thực_sự thất_vọng',\n",
       " 'tiếc là vải siêu mỏng_rách và rách trải_nghiệm mua hàng siêu_tệ đáng',\n",
       " 'mô_hình không chính_xác',\n",
       " 'nó quá chật và các sợi chỉ sẽ bị lỏng khi bạn mặc nó',\n",
       " 'may tay_áo không đều',\n",
       " 'mua hàng tệ_phí tiền',\n",
       " 'không hài_lòng',\n",
       " 'quần_áo quá mỏng và xấu không giống mẫu',\n",
       " 'cổ quá mềm và không đẹp',\n",
       " 'đặt áo trắng bọc đen áo đen giao 👹 🤬',\n",
       " 'chất_lượng kém không đúng sản_phẩm',\n",
       " 'mua v thì phí tiền',\n",
       " 'cửa_hàng treo đầu dê bán thịt chó',\n",
       " 'giao sai sản_phẩm',\n",
       " 'hàng rất mỏng',\n",
       " 'vải mỏng size nhỏ',\n",
       " 'vải quá mỏng',\n",
       " 'xấu',\n",
       " 'quần_áo như',\n",
       " 'rất tệ',\n",
       " 'chắc chất_lượng kém',\n",
       " 'sản_phẩm tệ quá',\n",
       " 'vải thưa',\n",
       " 'rất tệ',\n",
       " 'chỉ trích',\n",
       " 'làm_ăn như mèo nôn quảng_cáo một thứ nhưng lại giao một thứ khác size xin_lỗi nhưng quần lại nhét vào bạn mong_đợi điều gì nhắn_tin đòi trả lại cũng không thèm mở_miệng trả_lời khách chưa thấy quán nào tệ như quán này',\n",
       " 'áo rất tệ_lưng áo có nhiều đốm đen giống như bị mốc vậy giặt xong cũng không sạch hơn_nữa viền áo được khâu bằng chỉ màu hồng trông rất không hợp mình sẽ đánh_giá cửa_hàng sao vì chất_lượng sản_phẩm quá tệ',\n",
       " 'tôi thực_sự khuyên bạn không nên mua nó vải xấu và hình đã bong tróc rồi',\n",
       " 'khác với mô_tả của dcd mua làm_quà mà không dám tặng haha \\u200b 🥲',\n",
       " 'lần đầu mua quần_áo của shop_tưởng cửa_hàng sẽ gửi mail cho mình yên_tâm nhưng khi nhận hàng thì phát_hiện quần bị thủng một lỗ màu không tươi như trong ảnh chất_liệu cũng ổn',\n",
       " 'vải nhàu_nát màu tối mẫu có màu trắng vàng nhưng bên ngoài có màu ngà và đục nói_chung là rất tệ may_mắn thay mình mua được lúc giảm_giá k nhưng giá gốc thì không đáng',\n",
       " 'có nhiều sợi thừa màu_sắc không giống ảnh chút nào mở sản_phẩm ra thất_vọng quá cứ tưởng như mình bị lừa 😭',\n",
       " 'hôm_nay tôi đã mua một chiếc áo sơ_mi làm_quà cho mẹ mình về nhà xem chất_lượng không_thể tin nổi_bộ k mà cổ_áo bị cong vải sờn hết chất_sờ vào có cảm_giác hơi nóng mình thấy giá quá đắt so với chất_lượng số_lượng',\n",
       " 'khi nhận hàng mình bất_cẩn không kiểm_tra kỹ mình giặt ngay rửa tay nhẹ_nhàng và chỉ có bộ này thôi khi gấp lại cho khô thì thấy quần bị rách như trong hình chất_liệu cực_kỳ nóng màu xỉn không đẹp như ảnh nói_chung là mua về để đó không dùng được',\n",
       " 'hôm_nay tôi đã mua một chiếc áo sơ_mi làm_quà cho mẹ mình về nhà xem chất_lượng không_thể tin nổi_bộ k mà cổ_áo bị cong vải sờn hết chất_sờ vào có cảm_giác hơi nóng mình thấy giá quá đắt so với chất_lượng số_lượng',\n",
       " 'sản_phẩm quá tệ so với giá khi mới nhìn vào lụa có cảm_giác mát_mẻ nhưng khi mặc vào lại rất nóng và khó_chịu mua áo_k ngoài chợ còn chất_lượng hơn bạn không nên mua sản_phẩm này tôi thực_sự khuyên bạn',\n",
       " 'chất_lượng ổn nhưng quần quá nhỏ size_l nhưng mặc như size s bảng thông_số không có vòng_eo nên chọn thế_nào',\n",
       " 'đừng bỏ ra k để mua sản_phẩm này nó chỉ đáng_giá k thôi shopmal chăm_sóc tệ quá',\n",
       " 'mình chưa bao_giờ đánh_giá cửa_hàng nào sao nhưng vì đây là thứ tôi mua cho mẹ tôi mình mua bộ cho mẹ mình không ở quê nên không biết chất_lượng vải về đến nhà sờ vào thì thực_sự thất_vọng về chất_lượng vải mẹ tôi mặc đi biển nhưng khi đi tắm thuốc_trừ_sâu cọ vào cổ đến mức đỏ_bừng rất buồn',\n",
       " 'mình thấy giá rất tốt so với chất_lượng mình sẽ mua bộ thứ',\n",
       " 'áo đẹp và chất_lượng vải cũng rất tốt cửa_hàng đóng_gói hàng cẩn_thận và giao hàng nhanh',\n",
       " 'đây là lần đầu_tiên mình mua hàng của cửa_hàng và khi mở ra đã nhận được hàng và thực_sự rất hài_lòng từ chất_lượng đến độ dày của sản_phẩm đều vượt quá sự mong_đợi chất vải coton_mềm và mát_kích_thước vừa_phải cửa_hàng giao hàng nhanh mình còn có_thể đặt_hàng với giá cực rẻ khi có mã giảm_giá ủng_hộ cửa_hàng sao',\n",
       " 'giá thì rẻ nhưng mình không nghĩ chất_lượng lại tốt đến thế mình cao_cm nặng kg mặc size xl nhé',\n",
       " 'chiều cao m cân nặng kg size xl mặc ở nhà nên thoải_mái hơn',\n",
       " 'sản_phẩm rất đẹp và đúng hình_thức nên các bạn hãy mua nhé mình đang cần gấp đặt_hàng chuyển phát nhanh trong vòng phút là có hàng',\n",
       " 'tôi rất thích nó chồng tôi kg mặc size m vừa vặn với tôi mình sẽ tiếp_tục mua và ủng_hộ',\n",
       " 'hàng đẹp chất đẹp và màu đẹp giá tốt giao hàng nhanh đặt sáng hôm_qua trưa nay đã nhận được',\n",
       " 'chuyển phát nhanh đóng_gói cẩn_thận cửa_hàng tư_vấn nhiệt_tình áo đẹp thoáng_khí giá_cả phải_chăng mọi người nên mua và mình cũng ủng_hộ cửa_hàng rất nhiều tặng cửa_hàng sao nhé',\n",
       " 'tôi rất thích nó chồng tôi kg mặc size m vừa vặn với tôi mình sẽ tiếp_tục mua và ủng_hộ',\n",
       " 'giao hàng rất nhanh hôm sau đã nhận được_giá thì rẻ nhưng mình không nghĩ chất_liệu và kiểu_dáng lại đẹp đến thế tôi đã mua nó cho bạn không sao đâu lsau hãy tiếp_tục ủng_hộ nhé',\n",
       " 'sản_phẩm rất đẹp_giá cũng rất tốt không có gì phải bàn_cãi và rất đáng mua',\n",
       " 'bộ đẹp vừa vặn không thừa sợi giao hàng siêu nhanh đóng_gói cẩn_thận',\n",
       " 'giao hàng nhanh mọi người ơi vải rất đẹp_dày dặn_bộ này đi ra ngoài áo với quần cũng không mặc được tv cửa_hàng ổn',\n",
       " 'mình mua để tặng người_yêu nên không có hình nhưng thấy người_yêu ăn_mặc đẹp quá nhìn qua thấy chất vải ổn mà giá_cả cũng hợp_lý',\n",
       " 'rất ok hoàn_hảorất ok hoàn_hảorất okhoàn hảo',\n",
       " 'đây là lần thứ mình đặt_hàng của shop mình rất hài_lòng đồ_mặc mát_mẻ phù_hợp mùa hè nhưng khá lịch_sự đi uống nhậu với bạn_bè cũng ok được deal_quần gió_k cũng rất ưng_ý ngoài_ra nhẹ_mát nói_chung là không có gì để phàn_nàn chúc cửa_hàng may_mắn và bán hàng tốt',\n",
       " 'bộ_đồ thể_thao mùa hè polo_chất thun mềm_mát giao hàng nhanh',\n",
       " 'rất hài_lòng giao hàng nhanh chất_lượng vải rất tốt lần sau có nhu_cầu mua lại sẽ ủng_hộ shop này khuyên nên mua',\n",
       " 'hơn lít như thế_này là được không cần phải xin hàng giờ',\n",
       " 'giao hàng nhanh sản_phẩm giống_hình màu_sắc và form áo rất hài_lòng vải không quá mỏng phù_hợp với giá tiền sản_phẩm đẹp xuất_sắc trong thời_gian tới mình sẽ ủng_hộ cửa_hàng nhiều hơn ♡',\n",
       " 'rất vừa_vặn và rất lịch_sự các bạn nên mua nhé',\n",
       " 'sản_phẩm đẹp vải dày đáng mua giao hàng nhanh sẽ ủng_hộ cửa_hàng tiếp_tục bằng hình_ảnh để nhận xu',\n",
       " 'giao đúng mặt_hàng hàng rất đẹp chính_xác sản_phẩm có cảm_giác mềm_mại và mịn_màng nó rất tuyệt tôi thích nó 😍 tôi thích nó sẽ ủng_hộ tip cửa_hàng cho hàng vào hộp và tặng làm_quà 😄',\n",
       " 'sản_phẩm rất đẹp vải rất đẹp và thoáng mát',\n",
       " 'đẹp quá lần đầu_tiên mình đặt mua đồ như thế_này mà giá lại rẻ',\n",
       " 'chất đẹp kiểu_dáng chuẩn màu đẹp giá hợp_lý giao hàng nhanh đ',\n",
       " 'mua cho em_trai nên không có ảnh nghe nói anh ấy vừa_vặn và có chất_lượng tốt mua đợt sale k áp_mã nhìn_chung giá_cả ổn sẽ ủng_hộ cửa_hàng nhiều hơn vào lần sau em_trai mình cao m nặng kg size_l vừa vặn',\n",
       " 'hình_ảnh và video chỉ nhằm mục_đích nhận xu',\n",
       " 'chất vải rất đẹp so với giá tiền đừng chỉ may chắc_chắn rẻ mà đẹp vô_cùng chuyển phát nhanh bạn nên mua nó sẽ ủng_hộ cửa_hàng lâu_dài',\n",
       " 'giao hàng rất nhanh_tưởng ngày giao hàng lâu nhưng ngày hôm sau đã có bộ rất đẹp và chất_lượng rất tốt hãy mua nó',\n",
       " 'quần_áo rất đẹp mọi người nên mua nhé giá lại rẻ lại rất mát_mẻ cảm_ơn cửa_hàng nhiều nhé đ các bạn nên ủng_hộ cửa_hàng nhé quần_áo đẹp quá',\n",
       " 'sản_phẩm rất đẹp đóng_gói cẩn_thận cửa_hàng tư_vấn nhiệt_tình dễ_thương bộ mình mua với giá này chưa đến k mình rất hài_lòng với chất_lượng như_vậy nếu không đòi_hỏi quá nhiều mà cần có về mặt chất_lượng về mặt thẩm_mỹ sản_phẩm này là dành cho bạn',\n",
       " 'màu đẹp ra hay không ra màu không quan_trọng nói_chung là đẹp',\n",
       " 'cửa_hàng giao hàng nhanh vải coton hơi nóng nhưng cầm nặng tay nên mua nhé',\n",
       " 'không quá dày nhưng mặc_mát và khá thoải_mái phù_hợp với giá tiền nên mua mình cao m nặng kg size m vừa vặn',\n",
       " 'sản_phẩm đẹp chất_lượng tốt vải mát mặc thoải_mái giá_cả hợp_lý',\n",
       " 'sản_phẩm có giá_thành rẻ nhưng chất_lượng ngoài mong_đợi nếu có dịp chắc_chắn sẽ khả_năng quay lại ủng_hộ shop đánh_giá sao giao hàng nhanh đóng_gói cẩn_thận mọi người nên mua hình chỉ để nhận xu học_giả cày đất mà rơi nước_mắt thay quần_áo của tôi xin vui_lòng địa_phương bạn đang làm gì thế bạn đi đâu mẹ ơi mẹ đã đi chưa',\n",
       " 'chất_liệu tốt nhìn thoáng mát_bộ đẹp xăng chỉ hơn nên mua lịch_sự sang_trọng mình kg kg mac xl muốn to hơn lấy xl',\n",
       " 'với giá k mà có được một bộ_đồ như thế_này thì rất hợp_lý vải mát giao hàng nhanh sao',\n",
       " 'đồ siêu_đẹp mình chưa mặc nên chưa biết thế_nào nhưng nó thật đẹp săn sale nên được_giá hợp_lý bạn nên mua nó',\n",
       " 'sản_phẩm tuyệt_vời đẹp vải mát mua nhé mọi người lần sau ủng_hộ cửa_hàng nhé 🥰',\n",
       " 'sản_phẩm quá đẹp và tuyệt_vời tôi không_thể mong_đợi gì hơn_nữa cảm_ơn nhà_cung_cấp nhà_sản_xuất cảm_ơn người bán cảm_ơn sàn thương_mại_điện_tử cảm_ơn nhà vận_chuyển đã cho tôi cơ_hội được sử_dụng một sản_phẩm tốt như thế_này 😎 bao_bì rất đẹp đúng như dự_đoán người bán đã bỏ rất nhiều tâm_huyết và cảm_xúc vào gói hàng chiếc hộp không có dấu_hiệu bị móp méo chứng_tỏ người vận_chuyển đã nhấc nó lên như một quả trứng và bắt được nó như một bông hoa cảm_ơn bạn vì tất_cả mọi thứ 😄 thời_gian vận_chuyển rất hợp_lý tôi đặt_hàng với tâm_trạng háo_hức chờ_đợi trải_nghiệm sản_phẩm và chờ_đợi không hề thấy mệt_mỏi có_thể thấy bên vận_chuyển đã không quan_tâm đến thời_tiết khoảng_cách để giao hàng cho tôi trong thời_gian ngắn nhất',\n",
       " 'khá tốt_hàng phù_hợp với giá tiền chuyển phát nhanh đang tìm chỗ bán nên giá hời nếu có dịp mình sẽ ủng_hộ cửa_hàng lần sau',\n",
       " 'tôi đã mua cái này như một món quà cho bố tôi bố tôi cao cm_hình in rất đẹp và vải thì tuyệt_vời tôi nói nó cực_kỳ đẹp chất vải thấm hút mồ_hôi tốt nó có độ đàn hồi tốt nói_chung là ổn',\n",
       " 'hình_ảnh chỉ mang tính tham_khảo',\n",
       " 'chất_lượng ok so với giá thì chất_lượng rất đáng mua',\n",
       " 'video hình_ảnh nhận xu thông_cảm cho cửa_hàng nhé đã mua hàng giao hàng nhanh đóng_gói cẩn_thận chất_lượng đẹp giá rẻ sẽ ủng_hộ lâu_dài ths',\n",
       " 'sản_phẩm ok_mát tại trung_tâm nên yên_tâm điểm không có nhưng đáng mua hình_ảnh video là để nhận xu',\n",
       " 'hàng rất đẹp mọi người nên mua nhé chất vải thoáng mát và đường may đều',\n",
       " 'trời ơi đẹp quá đẹp quá không còn dư bao_nhiêu đáng mua lắm mọi người ạ',\n",
       " 'mình mua tặng bố mình chất vải mát nhưng không nóng_tí nào nên mình sẽ mua k lần sau mua cho người như bố mình nhé mở hộp sản_phẩm ra xem bao_bì thế_nào sau nhé',\n",
       " 'giao hàng nhanh đóng_gói cẩn_thận dùng tốt',\n",
       " 'hình_ảnh chỉ mang tính_chất chấp_nhận tiền xu giao hàng nhanh sản_phẩm ổn',\n",
       " 'giao hàng nhanh chất mỏng hơn mình thấy vải không lộ ra ngoài chỉ có một_chút thừa thôi màu ở ngoài đậm hơn trong hình',\n",
       " 'quần_áo rất đẹp giao hàng nhanh khoảng ngày đóng_gói cẩn_thận màu_sắc và kiểu_dáng của quần_áo giống_hệt như ảnh chất_lượng có_vẻ không được ngầu lắm nhưng lại rẻ phù_hợp với giá tiền vải không nhất_thiết phải trơn tuy_nhiên đường may hơi lỏng_lẻo mặc vẫn ổn nên mình vẫn đánh_giá cửa_hàng sao',\n",
       " 'chất vải da cá_dày dặn mặc mát size_chuẩn hôm trước mua bộ dùng thử thấy đẹp quá hôm sau mua thêm bộ nữa',\n",
       " 'quần pha nilon giá đó thì vừa mình sẽ ủng_hộ mặc size chuẩn',\n",
       " 'sản_phẩm rất đẹp khi mở ra mình rất vui vì vải đẹp form cũng đẹp giá_cả cũng hợp_lý nên mua nhé mọi người hình_ảnh chỉ nhằm mục_đích nhận_dạng tiền xu đánh_giá cửa_hàng sao',\n",
       " 'hàng rất tốt nên mua nhà cực đẹp rất thích_hợp cho những người đàn_ông mạnh_mẽ đảm_đang việc nhà để giúp_đỡ chị_em đây là những người_yêu thể_thao nhất khi ăn xong họ đến đây đi đây_đó và con_người sống_sót sau khi sự_việc xảy ra một thời_gian dài',\n",
       " 'giao hàng nhanh vải mát đúng mẫu',\n",
       " 'chuyển phát nhanh cũng phù_hợp không biết mặc ban_ngày có nóng không nên mua sẽ khả_năng quay lại ủng_hộ khi cần áp_dụng mã_mya để có giá rẻ hơn giá gốc',\n",
       " 'hàng đẹp giao hàng nhanh chất_lượng là hoàn_hảo bạn nên đặt_hàng nó hàng này rất chất_lượng và ngon tôi sẽ mua nó một lần nữa ảnh không liên_quan mình không chụp nhưng đẹp quá',\n",
       " 'giao hàng nhanh đóng_gói cẩn_thận đúng hình giá rẻ nhưng chất_lượng hơi hot',\n",
       " 'giao hàng nhanh vải mỏng mát khá thích_hợp cho mùa hè này đáng_giá mình rất thích_bộ này nên mua nhé mọi người',\n",
       " 'đúng như mô_tả đúng màu đúng size giao hàng nhanh giá_cả hợp_lý rất hài_lòng',\n",
       " 'ổn lắm nha q w em rồi t y_u tôi o p anh s d f g giờ gì không l vậy x chị vậy b n m',\n",
       " 'quần mặc mát_giá rất ok mình m nặng kg mặc xin_lỗi cho vừa nhưng nên mua thêm size khác cho thoải_mái nhé ổn mình cho cửa_hàng sao',\n",
       " 'quần_ổn trong tầm_giá sẽ ủng_hộ cửa_hàng lần sau sẽ mua thêm màu nâu chuyển phát nhanh đóng_gói cẩn_thận',\n",
       " 'quần săn đang sale nên giá khá rẻ chất_lượng ổn giao hàng nhanh màu đẹp cửa_hàng uy_tín',\n",
       " 'sản_phẩm đẹp giá rẻ nên mua chuyển phát nhanh xinh_đẹp mua đi các bạn đánh_giá siêu tốt',\n",
       " 'giao hàng đóng_gói cẩn_thận sản_phẩm đẹp tốt_tiện lợi',\n",
       " 'giao hàng siêu nhanh mình đặt hôm_qua bây_giờ tôi đã có nó cửa_hàng đang bán giá tốt đó thật tuyệt_khi mặc bạn nên mua đúng kích_cỡ không cần giảm hoặc tăng nó đáng để mua trong giây',\n",
       " 'sản_phẩm giá rẻ chất_liệu mát với mức giá này thì không có gì để phàn_nàn',\n",
       " 'cửa_hàng giao hàng nhanh_chóng loại vải mà tổ_tiên anh mặc rất mát',\n",
       " 'giao hàng nhanh chất_lượng tốt mọi người nên mua ủng_hộ cửa_hàng lần sau nhé',\n",
       " 'hàng chất_lượng đóng_gói cẩn_thận giao hàng rất nhanh mọi người nên ủng_hộ hãy cho cửa_hàng sao để đảm_bảo uy_tín nhé không biết độ bền sẽ được bao_lâu chúc một ngày tốt_lành',\n",
       " 'chất_liệu này mỏng mát mình thấy mặc ở nhà cũng ổn không đẹp lắm nhưng lại rẻ nên mua về sử_dụng ở nhà cũng thoải_mái nên các bạn nên thử nhé',\n",
       " 'giao hàng khá nhanh ngày đã nhận được rồi và chất_lượng quần_ok phù_hợp với giá tiền nên sẽ ủng_hộ cửa_hàng nhiều hơn',\n",
       " 'đẹp quá vải dày dặn màu xám nhìn không xám cho lắm hơi xanh xanh',\n",
       " 'vải tổ ong mỏng nhẹ mát_mặc ở nhà cũng ok size_chuẩn vừa vặn giá quá rẻ đường may cũng khá ổn',\n",
       " 'hàng việt_nam chất_lượng cao_😂 cửa_hàng làm chất_liệu và hình_thức rất tốt trong tầm giá săn sale giá tốt thank cửa_hàng',\n",
       " 'sản_phẩm rất đẹp vừa vặn và thoải_mái chất_liệu khá ổn và không làm mình thất_vọng tôi rất hài_lòng và sẽ ủng_hộ nhiều',\n",
       " 'quần siêu_xinh có túi nhỏ mọi người nên mua thử nhé cửa_hàng lại hoàn_hảo nữa',\n",
       " 'giao hàng nhanh hình_ảnh giống hình mình đã dùng chắc_chắn sau_này sẽ dùng ở cửa_hàng',\n",
       " 'giao đúng size đúng màu vải dày vừa_phải nếu muốn dài tới đầu_gối thì nên đặt lớn hơn size',\n",
       " 'giao hàng nhanh sản_phẩm chất_lượng',\n",
       " 'quần đẹp chất_lượng phù_hợp với mô_tả chuyển phát nhanh shiper nhiệt_tình cám_ơn',\n",
       " 'chất thun tổ ong thoáng mát_logo trên quần được làm chưa đẹp mình mua màu xám đen nâu chất_liệu màu nâu đẹp hơn màu còn lại nói_chung với giá k là ổn',\n",
       " 'quần đẹp chất_lượng phù_hợp với mô_tả chuyển phát nhanh shiper nhiệt_tình cám_ơn',\n",
       " 'sản_phẩm chất_lượng tốt giao hàng nhanh đóng_gói cẩn_thận giá_cả phải_chăng hài_lòng với shop nếu cần sẽ mua tiếp',\n",
       " 'quần đẹp nhưng mình hơi bướng nên mặc ngắn mình cao m nặng kg nên lấy size l cho vừa',\n",
       " 'đã mua lần vải mát giá_cả phải_chăng nên mua mặc ở nhà ok sao',\n",
       " 'quần vừa vặn thoải_mái vải rất mát m kg vừa size m',\n",
       " 'giao hàng đúng hẹn sản_phẩm đầy_đủ vải rất đẹp tuy_nhiên đều size_l nhưng áo_dài tay có cổ và áo_nỉ có size khác nhau còn áo trắng viền đen có màu viền đen bên trên nên phải giặt vài lần mới thành_công giúp nhưng không hoàn_toàn các loại áo khác đều rất tốt',\n",
       " 'mình mua nhờ hỗ_trợ nên không rõ lắm tôi nghe bạn nói là được đủ số_lượng mình thấy cửa_hàng vẫn vận_chuyển rất nhanh cửa_hàng rất nhiệt_tình mọi người nên ghé quán nhé tôi đã chụp những bức ảnh và video khi tôi đang đi học nhưng tôi không có hình_ảnh bên ngoài nào cả mong mọi người thông_cảm',\n",
       " 'hình_ảnh và video không liên_quan nhưng sản_phẩm rẻ chất_lượng tốt đáng mua',\n",
       " 'bờ vai rất đẹp chuyển phát nhanh cửa_hàng nhiệt_tình giá_cả hợp_lý bạn nên mua nó hình_ảnh chỉ dành cho mục_đích nhận_dạng tiền xu',\n",
       " 'giá rẻ nhưng rất hài_lòng tiếc là chưa có ảnh cụ_thể nma cái quần đó ngầu quá \\U0001fae8',\n",
       " 'chất_lượng quá tuyệt_vời tôi khuyên bạn nên mua nó chất_lượng thực_sự tốt luôn giao hàng nhanh hơn dự_kiến',\n",
       " 'giao hàng nhanh sản_phẩm đúng với mô_tả sản_phẩm',\n",
       " 'đẹp quá flash sale k deal cực hời quần ok vải tổ ong hoặc da cá gì đó mặc cũng ok thanks cửa_hàng',\n",
       " 'hàng đúng mẫu quần đúng chất_lượng giá_cả hợp_lý và có điều_kiện làm nghề như thợ',\n",
       " 'tuyệt_vời wow bảng mắt siêu_đẹp nhìn sang chảnh mà giá lại rẻ nữa hãy thử thoa ánh vàng lấp_lánh lên đôi mắt xinh_đẹp lấp_lánh của bạn giới_thiệu sản_phẩm cực_kì ưng_ý mọi người nên mua nhé sao cho sản_phẩm và thời_gian giao hàng siêu nhanh',\n",
       " 'tôi thích kiểu_dáng của quần_nam nên đã mua chúng mỏng và thích_hợp để mặc vào mùa hè',\n",
       " 'sản_phẩm quần_áo rất đẹp hẹn gặp bạn ở cửa_hàng',\n",
       " 'vậy thì không sao hình_thức thì đẹp tuy_nhiên màu trắng sẽ lộ ra một_chút với giá này có mua được không quần thì oke hình_ảnh chỉ mang tính tham_khảo',\n",
       " 'quần không có túi sau như những nơi khác bán giống như mua ở chỗ khác đều có túi sau nhìn khá đẹp không cần phải trông chán ở đây',\n",
       " 'chất_liệu mát_co giãn tốt mua cái cho bà thử để bà đi tập_gym và bà khen nên tôi đặt thêm cái nữa cho ông mặc lại quần_áo nam chất đẹp form chuẩn các bạn nên mua nhé hình_ảnh dùng để nhận xu',\n",
       " 'giao hàng nhanh đóng_gói cẩn_thận giá hợp_lý nên mua',\n",
       " 'chất vải váy mỏng nhẹ cửa_hàng tư_vấn chọn size phù_hợp sao cho vừa vặn đẹp chất vải mát mặc thoải_mái nên không bị nóng đóng_gói cẩn_thận nên sẽ ủng_hộ sản_phẩm tiếp_theo',\n",
       " 'đóng_gói cẩn_thận giao hàng nhanh mình mua đặt ngay c nhé mặc mùa hè cho mát đường đi hơi buồn_tẻ nhưng khá okila',\n",
       " 'giao hàng siêu nhanh người giao hàng thân_thiện quần vừa vặn',\n",
       " 'quần giá rẻ đúng hình mình mặc đẹp lắm lần sau sẽ ủng_hộ shop giao hàng nhanh đóng_gói cẩn_thận',\n",
       " 'không còn từ nào để diễn_tả về chất_lượng của shop quá đẹp và dễ_thương mình mua ngay trong đợt sale sản_phẩm mình bỏ vào giỏ hàng bấy_lâu_nay giờ đã có_thể cầm trên tay lúc mua về cả gia_đình bạn_bè cứ khen chỗ nào mua rẻ mà đẹp quá xấu_hổ quá không biết mọi người thế_nào chứ mình thấy sản_phẩm bán ở cửa_hàng này cực_kỳ chất_lượng và giá_cả rất hợp_lý đây là lần thứ mình mua rồi sản_phẩm vẫn tốt như những ngày đầu',\n",
       " 'giao hàng nhanh đóng_gói cẩn_thận quần chất_lượng cũng rẻ_mặc cũng mát mua về sử_dụng là được nhé',\n",
       " 'với mức giá này thì chất_liệu ổn không có gì phải suy_nghĩ nếu bạn cần một chiếc quần với giá_cả phải_chăng thì chiếc quần này là ổn',\n",
       " 'đã nhận được món hàng chất_lượng ổn màu_sắc đúng như hình_ảnh',\n",
       " 'hàng đẹp chất_lượng tốt đã nhận được sản_phẩm rất hài_lòng sẽ ủng_hộ thêm nhiều sản_phẩm từ shop săn sale nên giá cực tốt nên mua nhé mọi người',\n",
       " 'chuyển phát nhanh chất_liệu vải đẹp rất phù_hợp từ cảm_ơn cửa_hàng',\n",
       " 'giao hàng nhanh vải đẹp mặc rất mát rất hài_lòng về sản_phẩm và giá_cả',\n",
       " 'sản_phẩm chất_lượng tốt lo_lắng cho đôi bốt của bạn đến_nỗi ngày_mai không có gì hãy đến đây bạn có biết ngày_mai tôi không có gì không',\n",
       " 'quần được may đẹp và làm bằng chất_liệu mát_mẻ nên mặc đi cafe hay đi dạo đều ổn',\n",
       " 'đã nhận được hàng phù_hợp với giá tiền lần sau ủng_hộ cửa_hàng nhé',\n",
       " 'cửa_hàng giao hàng rất nhanh đóng_gói cẩn_thận chất_lượng sản_phẩm ok mua đúng size cửa_hàng ghi nhưng quần_hơi chật ở eo_thanks shop',\n",
       " 'mát mặc ở nhà cũng được với giá đó thì mua về mặc ở nhà cũng ổn',\n",
       " 'chuyển phát nhanh sau khi đặt_hàng tôi nhận được hàng được đóng_gói cẩn_thận chất_lượng tốt mình sẽ khả_năng quay lại ủng_hộ cửa_hàng',\n",
       " 'hình_ảnh mang tính_chất tham_khảo quần_đẹp đúng mô_tả shiper thân_thiện cửa_hàng chuẩn_bị hàng nhanh',\n",
       " 'chuyển phát nhanh sau khi đặt_hàng tôi nhận được hàng được đóng_gói cẩn_thận chất_lượng tốt mình sẽ khả_năng quay lại ủng_hộ cửa_hàng',\n",
       " 'mình là người khá kén chọn trong việc mua_sắm nhưng cửa_hàng này làm mình rất vui khi mua_sắm đó là một thành_công lớn của shop tôi không ca_ngợi cửa_hàng này một_cách vô_ích các mặt_hàng đều có chất_lượng tốt và giá cực_kỳ rẻ',\n",
       " 'không sao đâu màu trắng sẽ không quá mỏng để lộ qua quần màu nâu giống màu trà sữa hơn bố mình cao_cm và nặng kg để tham_khảo',\n",
       " 'chất_lượng giá khá ok tôi không biết sau_này sẽ mặc nó như_thế_nào',\n",
       " 'giao hàng nhanh đóng_gói chắc_chắn',\n",
       " 'form vừa vặn không thích thì tăng lên size chất_lượng đẹp',\n",
       " 'chất thun co_giãn hơi mỏng màu_sắc và hoa_văn khác hoàn_toàn với hình trên shope màu nâu nhìn ghê quá sản_phẩm rất khác so với ảnh mẫu và mô_tả nhưng giá thấp nên bạn cứ chấp_nhận mọi người không nên mua',\n",
       " 'haiz cửa_hàng giao sai màu',\n",
       " 'rất thất_vọng tôi mua ở cửa_hàng một chiếc quần đen thấy chất_lượng ổn nên đặt thêm cái nữa thì giao hàng khác hẳn quần cũ lần này vải có lớp mỏng và giá quá cao không biết là do nhập hàng hay do sale nên cửa_hàng gửi cho mình quần_giả nhưng khuyên không nên mua tin tôi đi tôi sẽ mua tip một lần nhưng tôi sẽ thất_vọng lắm rõ_ràng là vải đen_dày nhưng chất_lượng vẫn có lớp mỏng dính xấu mua về làm_quà là xong',\n",
       " 'sản_phẩm lần này tệ hơn lần trước',\n",
       " 'quần mỏng quá chắc_chắn là mặc hở hang chắc mặc đi ngủ chứ không dám ra đường',\n",
       " 'vải mỏng mình thấy quần_rẻ mà chất_lượng như thế_này mặc không được',\n",
       " 'quần mỏng quá chắc_chắn là mặc hở hang chắc mặc đi ngủ chứ không dám ra đường',\n",
       " 'màu_sắc hoàn_toàn không giống trong ảnh máy mình chụp hơi tối nhưng màu bên ngoài sáng hơn và nhãn_size vẫn in bên ngoài',\n",
       " 'dây thun hơi mỏng và màu_sắc khác hoàn_toàn với hình trên shope màu nâu nhìn ghê quá hàng rất khác so với ảnh mẫu và mô_tả nhưng giá lại rẻ nên mua thôi mọi người không nên mua',\n",
       " 'tôi đã rất thất_vọng trước_đây mình có mua một chiếc quần_đen của shop thấy chất_lượng dày dặn_ổn nên đặt thêm cái nữa nhưng quần được giao khác với quần cũ lần này vải có lớp mỏng và giá quá cao không biết là do sale hay do sale mà cửa_hàng gửi cho mình quần_giả nhìn_chung tôi không khuyên bạn nên mua tôi đã tin_tưởng họ một lần và mua lại nhưng tôi rất thất_vọng rõ_ràng quần đen lần trước vải dày nhưng chất_lượng tốt nhưng lần này lại có một lớp mỏng và xấu mình mua làm_quà nhưng giờ hết rồi',\n",
       " 'huhu cứ tưởng quần sẽ mỏng nhưng không ngờ lúc nhận hàng lại mỏng thế_này tôi không muốn nói_chuyện nữa biết giá rẻ nhưng cửa_hàng làm quần_dày hơn và khum lại một_chút áo_mỏng thì cũng được nhưng quần mỏng thế_này mà nhìn thấy được mọi thứ bên trong',\n",
       " 'sai sản_phẩm sai màu sai chất_liệu không đáng tiền với mặt_hàng này mua nhiều rồi bán như_vậy có được không',\n",
       " 'sai màu mỏng nhiều sợi nói_chung là rất tệ không mua thì phí tiền',\n",
       " 'tại_sao màu xám lại xanh như_vậy',\n",
       " 'rất tệ màu_sắc không đúng mô_tả đường chỉ bị lỏng vải rất mỏng mua một lần là sẽ già',\n",
       " 'tôi thề quần không giống ảnh chút nào đúng là thời nay không nên tin ảnh trên mạng toàn hàng giả hình_thức không giống nhau chất_liệu thì tệ mỏng như lá lúa chán lắm hãy cẩn_thận khi mua đừng đánh mất chất_lượng sản_phẩm vì giá rẻ',\n",
       " 'quần siêu xấu đặt nhầm của một thương_hiệu trên tiktok với giá k nhưng chất_lượng hoàn_toàn khác mình đặt món mà cửa_hàng_không phản_hồi bực_mình quá',\n",
       " 'chất vải mỏng như lưới vẫn có_thể nhìn xuyên qua được nói_chung là giống nhau',\n",
       " 'màu bên ngoài không giống hình_chút nào mình tưởng màu xám giống hình nhưng bên ngoài lại xanh_nhạt át cả da mà không có chút xám nào cả thất_vọng quá',\n",
       " 'rất xấu không như quảng_cáo chất_lượng kém cho sao cho size xin_lỗi nhưng lại bé như size m',\n",
       " 'hình_thức xấu mình mua quần trên tiktok giá tương_đương nhưng hình_thức đẹp hơn nhiều quần_hơi chật',\n",
       " 'xấu từ thiết_kế đến đường may khác với ảnh cửa_hàng đăng',\n",
       " 'cảm_ơn cửa_hàng đã hỗ_trợ đổi size hình_như cửa_hàng_không muốn khách đổi size 😓',\n",
       " 'bán đồ là rất tệ mọi người đừng mua nhé đó là sản_phẩm của cửa_hàng mal rải_rác thôi',\n",
       " 'quần mỏng màu không giống ảnh',\n",
       " 'vải mỏng chất_liệu và form_dáng quần không giống mẫu đường may ẩu xấu',\n",
       " 'chất vải thun mỏng đường may xấu không hài_lòng về chất_lượng sản_phẩm',\n",
       " 'cửa_hàng phản_hồi nhiệt_tình giao hàng siêu nhanh chất_lượng sản_phẩm tuyệt_vời vải thoáng mát mặc đi ngủ hay đi chơi đều đẹp dễ phối_hợp sẽ khả_năng quay lại ủng_hộ cửa_hàng nhiều hơn ❤ ️',\n",
       " 'đã nhận được hàng khá hài_lòng_đường may_ổn không lỗi_lầm chất_liệu phù_hợp với giá tiền mặc khá vừa_vặn với vóc_dáng giao hàng nhanh',\n",
       " 'với mức giá trên k thì mình rất ưng_ý với chiếc quần này còn rẻ hơn nếu bạn ra chợ mua với giá này quần này có_thể kết_hợp với áo_polo để đi cafe',\n",
       " 'giá rẻ nhưng quần đẹp mặc rất thích rất tốt với mức giá này',\n",
       " 'lần đầu mua hàng tại shop nói_chung điểm độ dài rất phù_hợp chất_lượng ổn',\n",
       " 'sản_phẩm chất_lượng tốt vừa vặn không quá chật nên mình đã mua',\n",
       " 'giao hàng siêu nhanh đóng_gói đẹp giá rẻ mình mua cho con nên bé rất hài_lòng nên mua nhé mọi người cảm_ơn cửa_hàng nhiều',\n",
       " 'chất_lượng sản_phẩm quá kém mọi người chú_ý nhé ‼ ️_‼ ️',\n",
       " 'mình sẽ không khả_năng quay lại mua lần thứ quần mỏng quá nhìn thấy cả quần_lót bên trong vải không được tốt lắm lần đầu_tiên và lần cuối_cùng sẽ không khả_năng quay lại',\n",
       " 'quần rẻ và rách nhưng vẫn bán được vải xấu đường chỉ bị lỗi và có vết bẩn khắp quần mặt_hàng này chỉ xứng_đáng là rác và không nên bán trong cửa_hàng làm sạch giá rẻ thậm_chí không có giá_trị từ khi nào mà shope lại dán nhãn những cái cửa_hàng vớ_vẩn này là mal vậy',\n",
       " 'quần đang bán với giá k bạn có nghĩ chúng được trộn với vải vụn không',\n",
       " 'thất_vọng cảm_thấy sai_lầm khi mua một chiếc quần như thế_này',\n",
       " 'quần quá bụi và bẩn có nhiều đường chỉ thừa cửa_hàng_không tôn_trọng khách_hàng khi để sản_phẩm vào tay người mua một_cách bất_cẩn thiếu trách_nhiệm chất_lượng quần cũng tệ_tóm_lại là sản_phẩm vừa xấu vừa bẩn thật may_mắn khi sản_phẩm như thế_này được sao lẽ_ra không được sao nào 👎 🏻_👎 🏻_👎 🏻',\n",
       " 'quần rẻ nên chất_lượng quần cũng rất rẻ nhé mọi người có rất nhiều vải thừa nếu bạn để quần rộng ra vải sẽ bay theo gió đường may rất tệ_túi quần trước khi mặc lần đầu đường may sơ_sài túi rách hoàn_toàn như chưa hề bị rách lúc nhận quần mình nghĩ với tầm giá này thì mặc một thời_gian là ổn tuy_nhiên nếu bạn làm đúng ngay lần đầu_tiên bạn sẽ không còn tuyệt_vọng nữa chốt deal thôi đừng mua nhé mọi người mọi người có nhu_cầu mua giẻ lau nhà thì nên cân_nhắc chiếc quần này',\n",
       " 'chất_lượng quần_áo lần này thực_sự rất tệ lần đầu đã sai lần thứ hài vẫn sai tuy_nhiên tôi vẫn mua sản_phẩm của công_ty này chủ_yếu vì dịch_vụ khách_hàng tốt trả_lời nhanh và nhiệt_tình cardina nên chú_ý hơn và nâng cao chất_lượng',\n",
       " 'mình mới nhận hàng của shop mua mấy lần rồi nhưng lần này không hài_lòng vì chất_liệu lụa xù_xì không mát_bộ lụa dài vừa_rồi mình mua ở ảnh của cửa_hàng mềm mịn_mát lắm mua bộ này thất_vọng quá chuyển phát nhanh',\n",
       " 'giao hàng nhanh hình_dáng và màu_sắc giống mẫu tuy_nhiên chất_lượng nhìn có_vẻ mát_mẻ khi mặc nhưng thực_tế không phải vậy nó nóng_bỏng và bí_mật tôi mặc nó vào một ngày mưa mát_mẻ nhưng trời vẫn nóng khó_chịu và tôi không_thể mặc tiếp được chưa kể khi nhận hàng rồi giặt lần đầu khi phơi khô vẫn còn nếp gấp trên toàn_bộ trang_phục thất_vọng với bộ_đồ này 😑',\n",
       " 'mặc lần là hỏng',\n",
       " 'đặt một loại giao hàng khác cũng không nhận được bất_kỳ phản_hồi nào từ sop trước đó',\n",
       " 'lần đầu mua hàng của shop_tưởng cửa_hàng gửi nên yên_tâm nhưng khi nhận hàng thì thấy quần bị thủng một lỗ màu không tươi_như trong hình chất_liệu ổn',\n",
       " 'vải nhăn màu tối mẫu có màu trắng và vàng nhưng bên ngoài có màu ngà và đục nói_chung là rất xấu_may quá mình mua được_giá k nếu không giá đầy_đủ không có giá_trị',\n",
       " 'có nhiều sợi thừa màu_sắc không giống ảnh chút nào mở sản_phẩm ra thất_vọng quá cứ tưởng như mình bị lừa 😭',\n",
       " 'mình nhận hàng_không kiểm_tra kỹ nên giặt ngay giặt tay nhẹ_nhàng và chỉ dành cho bộ này khi khô và gấp lại thì thấy quần bị rách như trong hình chất_liệu cực_kỳ nóng màu xỉn không đẹp như hình nói_chung là mua rồi để đó không dùng được',\n",
       " 'vừa giặt xong đã thấy bị rách',\n",
       " 'mỗi bộ quần_áo có mũi khâu dài có độ dài bằng chính_xác chiều dài của quần và áo không biết mặc thế_nào shop cảm_giác như mua hàng cũ 🤔_sao vì bất_cẩn',\n",
       " 'sản_phẩm quá tệ so với giá khi mới nhìn vào lụa có cảm_giác mát_mẻ nhưng khi mặc vào lại rất nóng và khó_chịu mua áo_k ngoài chợ còn chất_lượng hơn bạn không nên mua sản_phẩm này tôi thực_sự khuyên bạn',\n",
       " 'chất_lượng ổn nhưng quần quá nhỏ size_l nhưng mặc như size s bảng thông_số không có vòng_eo nên chọn thế_nào',\n",
       " 'đừng bỏ ra k để mua sản_phẩm này nó chỉ đáng_giá k thôi shopmal chăm_sóc tệ quá',\n",
       " 'những loại quần_áo nói_chung là tôi không thích nó chút nào',\n",
       " 'sản_phẩm bình_thường không hài_lòng lắm với cách đổi hàng của',\n",
       " 'mình mua nhiều rồi nhưng lần này thất_vọng quá',\n",
       " 'sau khi đặt_hàng tôi muốn đổi sang màu khác nhưng cửa_hàng_không đổi cho tôi điều này gây khó_khăn cho khách_hàng chắc lần sau sẽ không mua nữa',\n",
       " 'không_thể chấp_nhận được vải xấu có danh_tiếng của mail cửa_hàng nhưng quần_áo bị cắt không_thể mặc được',\n",
       " 'lần đầu_tiên đánh_giá sao cho một đơn hàng nhưng nhận hàng rất thất_vọng vải nóng và xấu form quá rộng nhìn rất thô có_lẽ kiểu các mẹ mặc không hợp',\n",
       " 'vải nóng quá 😐',\n",
       " 'không hài_lòng với giá_cả cổ_áo quá rộng chất_lượng kém không nên mua',\n",
       " 'cửa_hàng hết size nên gửi size khác và nhắn_tin cho cửa_hàng nhưng cửa_hàng cũng không trả_lời 😩',\n",
       " 'vải nóng',\n",
       " 'quần short ngắn cũng không khác_gì quần short',\n",
       " ...]"
      ]
     },
     "execution_count": 42,
     "metadata": {},
     "output_type": "execute_result"
    }
   ],
   "source": [
    "all_tweets = df['word_tokenize']\n",
    "all_tweets = [str(t) if not isinstance(t, str) else t for t in all_tweets]\n",
    "all_tweets"
   ]
  },
  {
   "cell_type": "code",
   "execution_count": 43,
   "metadata": {
    "id": "nN5T_hTSkT33"
   },
   "outputs": [],
   "source": [
    "all_tweets_processed = [process_tweet(tweet) for tweet in all_tweets]"
   ]
  },
  {
   "cell_type": "code",
   "execution_count": 44,
   "metadata": {
    "colab": {
     "base_uri": "https://localhost:8080/"
    },
    "executionInfo": {
     "elapsed": 9,
     "status": "ok",
     "timestamp": 1734288064930,
     "user": {
      "displayName": "Nguyễn Trương Hoàng",
      "userId": "04971599599493899416"
     },
     "user_tz": -420
    },
    "id": "sWTbm_-1kT33",
    "outputId": "ede677dc-272c-4447-80fc-5d6526353932"
   },
   "outputs": [
    {
     "name": "stdout",
     "output_type": "stream",
     "text": [
      "There are 832 sentences for training.\n",
      "There are 832 labels for training.\n",
      "\n",
      "There are 208 sentences for validation.\n",
      "There are 208 labels for validation.\n"
     ]
    }
   ],
   "source": [
    "# prompt: Tạo mảng x lưu trữ các giá trị trong cột word_tokenize và mảng y lưu trữ giá trị trong cột sentiment\n",
    "\n",
    "x = all_tweets_processed\n",
    "y = df['sentiment'].values\n",
    "\n",
    "from sklearn.model_selection import train_test_split\n",
    "train_x, val_x, train_y, val_y = train_test_split(x, y, test_size = 0.2, random_state = 42)\n",
    "\n",
    "print(f\"There are {len(train_x)} sentences for training.\")\n",
    "print(f\"There are {len(train_y)} labels for training.\\n\")\n",
    "print(f\"There are {len(val_x)} sentences for validation.\")\n",
    "print(f\"There are {len(val_y)} labels for validation.\")"
   ]
  },
  {
   "cell_type": "code",
   "execution_count": 45,
   "metadata": {
    "colab": {
     "base_uri": "https://localhost:8080/"
    },
    "executionInfo": {
     "elapsed": 8,
     "status": "ok",
     "timestamp": 1734288064930,
     "user": {
      "displayName": "Nguyễn Trương Hoàng",
      "userId": "04971599599493899416"
     },
     "user_tz": -420
    },
    "id": "eEom-o8ckT33",
    "outputId": "0d4d4904-d835-476a-a17b-258fe465fb2b"
   },
   "outputs": [
    {
     "name": "stdout",
     "output_type": "stream",
     "text": [
      "Vocabulary contains 1831 words\n",
      "\n",
      "{'': 0, '[UNK]': 1, 'giao': 2, 'hàng': 3, 'đúng': 4, 'túi': 5, 'có': 6, 'khóa': 7, 'kéo': 8, 'tiện_lợi': 9, 'để': 10, 'đựng': 11, 'điện_thoại': 12, 'vừa': 13, 'vặn': 14, 'và': 15, 'chất_lượng': 16, 'chuẩn_bị': 17, 'mất': 18, 'nhiều': 19, 'thời_gian': 20, '😡 __hủy': 21, 'hàng_không': 22, 'nhận': 23, 'thì': 24, 'làm_sao': 25, 'kinh_doanh': 26, 'được': 27, '🖕': 28, 'không': 29, 'giống': 30, 'mẫu': 31, 'đẹp': 32, 'mô_tả': 33, 'lần': 34, 'sau': 35, 'sẽ': 36, 'mua': 37, 'tiếp': 38, 'giá': 39, 'rẻ': 40, 'nên': 41, 'áo': 42, 'ấn_tượng': 43, 'chất': 44, 'vải': 45, 'mỏng_mát': 46, 'mùa': 47, 'hè': 48, 'nhưng': 49, 'quần': 50, 'mỏng': 51, 'quá': 52, 'lộ': 53, 'cả': 54, 'bên': 55, 'trong': 56, 'đường': 57, 'may_cẩu_thả': 58, 'giặt': 59, 'cẩn_thận': 60, 'có_thể': 61, 'dễ_dàng': 62, 'khiến': 63, 'sợi': 64, 'chỉ': 65, 'bị': 66, 'bung': 67, 'ra': 68, 'bộ': 69, 'này': 70, 'có_lẽ': 71, 'bền': 72, 'hơn': 73, 'nếu': 74, 'bạn': 75, 'tay': 76, 'cửa_hàng': 77, 'nhanh_chóng': 78, 'loại': 79, 'mà': 80, 'tổ_tiên': 81, 'anh': 82, 'mặc': 83, 'rất': 84, 'mát': 85, 'hình_ảnh': 86, 'mang': 87, 'tính_chất': 88, 'chấp_nhận': 89, 'tiền': 90, 'xu': 91, 'nhanh': 92, 'sản_phẩm': 93, 'ổn': 94, 'thất_vọng': 95, 'cảm_thấy': 96, 'sai_lầm': 97, 'khi': 98, 'một': 99, 'chiếc': 100, 'như': 101, 'thế_này': 102, 'nhầm': 103, 'thiếu': 104, 'màu': 105, 'xám': 106, 'trắng': 107, 'xanh': 108, 'be': 109, 'tặng': 110, 'quà': 111, 'chưa': 112, 'hình': 113, 'chất_liệu': 114, 'gì': 115, 'phàn_nàn': 116, 'kim': 117, 'tệ_cm': 118, 'mũi': 119, 'thưa': 120, 'cọ_xát': 121, 'rách': 122, 'những': 123, 'vắt': 124, 'sổ': 125, 'nữa': 126, 'size': 127, 'nhỏ': 128, 'mình': 129, 'quần_size': 130, 'xl': 131, 'vẫn': 132, 'chật_kiểu_dáng': 133, 'mới': 134, 'gầy': 135, 'lâu': 136, 'sai': 137, 'thấm': 138, 'mồ_hôi': 139, 'về': 140, 'trừ': 141, 'kiểu_dáng': 142, 'hứa': 143, 'trả': 144, 'lại': 145, 'tết': 146, 'thay_đổi_kích_thước': 147, 'nhắn_tin': 148, 'trả_lời': 149, 'cửa_hàng_không': 150, 'đáng': 151, 'tin_cậy': 152, 'thấy': 153, 'nó': 154, 'thôi': 155, 'người': 156, 'bán': 157, 'cho_phép': 158, 'tệ': 159, 'tốt': 160, 'đã': 161, 'hài_lòng': 162, 'ủng_hộ': 163, 'thêm': 164, 'từ': 165, 'shop': 166, 'săn': 167, 'sale': 168, 'cực': 169, 'nhé': 170, 'mọi': 171, 'đóng_gói': 172, 'khá': 173, 'đến': 174, 'body': 175, 'đều': 176, 'đang': 177, 'nhiệt_tình': 178, 'ghé': 179, 'tip': 180, 'tôi': 181, 'yêu': 182, 'các': 183, 'tùy': 184, 'chọn': 185, 'màu_sắc': 186, 'sẵn_hoàn_hảo': 187, 'cho': 188, 'việc': 189, 'tập': 190, 'gym': 191, 'hoặc': 192, 'chạy': 193, 'thiết_kế': 194, 'tuyệt_vời': 195, 'phù_hợp': 196, 'thể_thao': 197, 'quần_short': 198, 'thời_trang': 199, 'phong_cách': 200, 'gọi': 201, 'điện': 202, 'cũng': 203, 'thoáng': 204, 'dày_dặn': 205, 'đặt': 206, 'm': 207, 'là': 208, 'xin_lỗi': 209, 'quần_dài': 210, 'rộng': 211, 'áo_dày_dặn': 212, 'thích': 213, 'hình_in': 214, 'nóng': 215, 'đây': 216, 'đầu_tiên': 217, 'ở': 218, 'thực_sự': 219, 'lâu_dài': 220, '😋': 221, 'trai': 222, 'hoàn_hảo': 223, 'hình_thức': 224, 'ngay': 225, 'cần': 226, 'đắn_đo': 227, 'tờ': 228, 'giấy': 229, 'mỏng_xl': 230, 'chắc_chắn': 231, 'l': 232, 'cực_kỳ_tệ': 233, 'quần_áo': 234, 'cổ_áo': 235, 'lỗi': 236, '😐': 237, 'tê': 238, 'tìm': 239, 'với': 240, 'ấm_áp': 241, 'bí_mật': 242, 'vào': 243, 'hơi': 244, 'xấu': 245, 'nhìn': 246, 'con': 247, 'z': 248, 'lụa': 249, 'ok': 250, 'giải_quyết': 251, 'vấn_đề': 252, 'short': 253, 'sẵn': 254, 'thoải_mái': 255, 'phòng': 256, 'tập_thể_dục': 257, 'chính_xác': 258, 'trước_đây': 259, 'tư_vấn': 260, '😊 __quần': 261, 'lắm': 262, '🤩': 263, 'may': 264, 'lên': 265, 'mua_sắm': 266, 'tại_sao': 267, 'giao_nhầm': 268, 'đặt_hàng': 269, 'đen': 270, 'trắng_sao': 271, 'nâu': 272, 'vậy': 273, 'mong': 274, 'so': 275, 'cảm_giác_mát_mẻ': 276, 'khó_chịu': 277, 'áo_k': 278, 'ngoài': 279, 'chợ': 280, 'còn': 281, 'khuyên': 282, 'biết': 283, 'coi_thường': 284, 'khách_hàng': 285, 'lấy': 286, 'kích_thước': 287, 'vứt': 288, 'đi': 289, 'của': 290, 'hãng': 291, 'nói': 292, 'video': 293, 'xu_thông_cảm': 294, 'th': 295, 'thế_giới': 296, 'rộng_lớn': 297, 'hãy': 298, 'tiêu_dùng': 299, 'thông_thái': 300, 'quần_đen': 301, 'dày': 302, 'quần_mỏng': 303, 'sai_kích_thước': 304, 'bong': 305, 'tróc': 306, 'rồi': 307, 'mát_kế': 308, 'tuyệt_hợp': 309, 'chơi_thể': 310, 'thaocó_túi': 311, 'bình_thường_xin_lỗi': 312, 'chật': 313, 'vừa_phải': 314, 'chủ': 315, 'trích': 316, 'kém': 317, 'để_ý': 318, '‼': 319, '_ ️': 320, '__ ‼': 321, '️': 322, 'thứ': 323, 'dễ_chịu': 324, 'chuyển': 325, 'phát': 326, 'khả_năng': 327, 'quay': 328, 'sao': 329, 'hình_dáng': 330, 'tuy_nhiên': 331, 'có_vẻ_mát_mẻ': 332, 'thực_tế': 333, 'phải': 334, 'nóng_bỏng': 335, 'ngày': 336, 'mưa': 337, 'mát_mẻ': 338, 'trời': 339, 'nóng_khó_chịu': 340, 'không_thể': 341, 'kể': 342, 'đầu': 343, 'phơi': 344, 'khô': 345, 'nếp': 346, 'gấp': 347, 'trên': 348, 'toàn_bộ': 349, 'trang_phục': 350, 'bộ_đồ': 351, '😑': 352, 'k': 353, 'theo': 354, 'nhà_sản_xuất': 355, 'trở_lại': 356, 'vỡ_mộng': 357, 'gửi': 358, 'báo': 359, 'trước': 360, 'tự_ý': 361, 'đổi': 362, 'ảnh': 363, 'khác': 364, 'nhau': 365, 'hic': 366, 'tồi_tệ_bộ': 367, 'bây_giờ': 368, 'lít': 369, 'xin': 370, 'giờ': 371, 'kĩ': 372, 'chán': 373, 'ml': 374, 'dưới': 375, 'mức': 376, 'bình_thường': 377, 'quảng_cáo': 378, 'thành': 379, 'điều': 380, 'duy_nhất': 381, 'một_chiều': 382, 'quần_xl': 383, 'kg': 384, 'cháu': 385, 'thoáng_mát': 386, 'thích_hợp': 387, 'cơ_hội': 388, 'tiếp_tục': 389, 'ngẫu_nhiên': 390, 'khen_ngợi_quán': 391, 'cao': 392, 'mà_lại': 393, 'cực_kỳ': 394, 'nơi': 395, 'điểm': 396, 'cuối_cùng': 397, 'toàn': 398, 'đồ': 399, '😍': 400, 'đó': 401, 'trò': 402, 'lừa_đảo': 403, 'đơn': 404, 'chính': 405, 'đánh_giá': 406, 'giả': 407, 'nhận_xét': 408, 'áp_dụng': 409, 'ý_kiến_ \\u200b': 410, 'vòng': 411, 'vài': 412, 'viền': 413, 'đáy': 414, 'phồng': 415, 'cảm_ơn': 416, 'đơn_vị': 417, 'vận_chuyển': 418, 'dây': 419, 'buộc': 420, 'đeo': 421, 'quanh': 422, 'bụng': 423, 'tập_gym': 424, 'mềm_mại': 425, 'vừa_vặn': 426, 'nóng_chấp_nhận': 427, 'tầm': 428, 'nặng': 429, 'hướng_dẫn': 430, 'ơi': 431, 'đẹp_dày_dặn_bộ': 432, 'tv': 433, 'đừng': 434, 'bỏ': 435, 'đáng_giá': 436, 'shopmal': 437, 'chăm_sóc_tệ': 438, 'chơi': 439, 'thể_thao_túi': 440, '🖲': 441, '__ ️': 442, '💵': 443, 'mịn': 444, 'chắc': 445, 'co_giãn': 446, 'nhẹ': 447, 'nhăn': 448, 'thẳng': 449, 'cần_ủi': 450, 'giữ': 451, 'nilon': 452, 'cực_hot': 453, 'nước': 454, 'bí': 455, 'dễ_thương': 456, 'form': 457, 'chúng': 458, 'trông': 459, 'cắt': 460, 'phía': 461, 'dễ_thương_bộ': 462, 'như_vậy': 463, 'đòi_hỏi': 464, 'mặt': 465, 'thẩm_mỹ_sản_phẩm': 466, 'dành': 467, 'xóa': 468, 'tốn': 469, 'sửa': 470, 'giá_cả': 471, 'nói_chung': 472, 'nam': 473, 'gái': 474, 'không_thể_tả': 475, 'mẹ': 476, 'thương_hiệu': 477, 'nghĩ': 478, 'quầng': 479, 'thâm': 480, 'bọng': 481, 'mắt': 482, 'điều_trị': 483, 'từng': 484, 'stres': 485, 'vì': 486, 'đôi': 487, 'thâm_quầng': 488, 'bọng_mắt': 489, 'khủng_khiếp': 490, 'sinh': 491, 'mắc': 492, 'bệnh': 493, 'ngủ': 494, 'sớm': 495, 'gây': 496, 'ra_mắt_lúc_nào': 497, 'đen__ 😞': 498, 'khó': 499, 'thử': 500, 'kem': 501, 'nọ': 502, 'bôi': 503, 'hiệu_quả': 504, 'đi_nữa': 505, 'bác_sĩ': 506, 'quyết_tâm': 507, 'chữa': 508, 'khỏi': 509, 'yên_tâm': 510, 'may_mắn': 511, 'giới_thiệu': 512, 'phòng_khám': 513, 'nhung': 514, 'kết_quả': 515, 'tháng': 516, 'coi': 517, 'thành_công': 518, 'trọn_vẹn': 519, 'khâu': 520, 'thường_xuyên': 521, '😙': 522, 'mát_mẻ_túi khóa': 523, 'túi_khóa': 524, 'sành_điệu': 525, 'bóc': 526, 'cân_nhắc': 527, 'nào': 528, 'vô_cùng': 529, 'jbagy': 530, 'nổi_tiếng': 531, 'thị_trường': 532, 'ai': 533, 'hợp_lý': 534, 'xịn': 535, 'ít': 536, 'tỉ_mỉ': 537, 'chu_đáo': 538, '❤': 539, 'mềm': 540, 'quần_rẻ': 541, 'muốn': 542, 'kích_cỡ': 543, 'tiếc': 544, 'thun': 545, 'mát_dáng': 546, 'dễ': 547, 'món': 548, 'mong_cửa_hàng': 549, 'im_lặng': 550, 'đâu': 551, '🙂': 552, 'thích_mát': 553, 'chút': 554, 'kén': 555, 'làm': 556, 'vui': 557, 'lớn': 558, 'ca_ngợi': 559, 'một_cách': 560, 'vô_ích': 561, 'mặt_hàng': 562, 'ok_mát': 563, 'tại': 564, 'trung_tâm': 565, 'yên_tâm_điểm': 566, 'thời_tiết': 567, 'nóng_bức': 568, 'cùng': 569, 'chị': 570, 'tưởng': 571, 'mấy': 572, 'cái': 573, 'to': 574, 'dài': 575, 'ngắn': 576, 'hích': 577, 'siêu': 578, 'luôn': 579, 'váy': 580, 'kiểu_mẫu': 581, 'hoa_sắc': 582, 'nét': 583, 'may_ổn': 584, 'thừa': 585, 'nhãn': 586, 'mác_túi': 587, 'đầy_đủ': 588, 'nhãn_hiệu': 589, 'thùng': 590, 'rác': 591, 'ôm': 592, 'dù': 593, 'tăng': 594, 'cảm_giác': 595, 'mong_đợi': 596, 'thổi_lực': 597, 'set': 598, 'buồn': 599, 'sẵn_ảnh': 600, 'tính_chất_minh': 601, 'họa': 602, 'phông': 603, 'chữ': 604, 'kiểu': 605, 'giảm': 606, 'xấu_xí': 607, '😡': 608, 'bẩn': 609, 'thỉu': 610, 'chuẩn_chất_liệu': 611, 'vải_thun': 612, 'lạnh': 613, 'siêu_mỏng_rách': 614, 'rách_trải_nghiệm': 615, 'siêu_tệ': 616, 'mẫu_mã': 617, 'nhìn_chung': 618, 'dịp': 619, 'độ': 620, 'đàn': 621, 'hồi': 622, 'giày': 623, 'ta': 624, 'tất_cả': 625, 'tốt_quần': 626, 'hiện_đại': 627, 'quần_phù_hợp': 628, 'áo_quần': 629, 'thậm_chí': 630, 'học': 631, 'bố': 632, 'cao_cm_hình': 633, 'in': 634, 'hút': 635, 'thời_trang_túi khóa': 636, 'sing': 637, 'khó_khăn': 638, 'gói': 639, 'hộp': 640, 'đàng_hoàng': 641, 'thể_hiện': 642, 'sự': 643, 'tôn_trọng': 644, 'đối_với': 645, 'chờ': 646, 'xem': 647, 'như_thế_nào': 648, 'mát_bạn': 649, 'dùng': 650, 'sinh_viên': 651, 'đ': 652, 'quần_t': 653, 'rộng_rãi': 654, 'di_chuyển': 655, 'thoải_mái_hoàn_hảo': 656, 'tỉnh': 657, 'size_bộ_đồ': 658, 'bằng': 659, 'vải_lanh': 660, 'size_l': 661, 'sau_này': 662, 'nói_chuyện': 663, 'mở': 664, 'nhỏ_xíu': 665, 'khác_gì': 666, 'nữ': 667, 'cộng': 668, 'hôm': 669, 'thân_thiện': 670, 'xong': 671, 'lem_nhem': 672, 'nhằm': 673, 'mục_đích': 674, 'qua': 675, 'chế_biến': 676, 'ngâm': 677, 'bột': 678, 'giống_hình': 679, 'dự_kiến': 680, '\\u200b': 681, '👌': 682, 'thoáng_khí': 683, 'phải_chăng': 684, 'ủng_hộ_cửa_hàng': 685, 'quần_rách': 686, 'cổ': 687, 'uốn_cong': 688, 'xa_hình': 689, 'quần_nam': 690, 'mát_quần_short thoải_mái': 691, 'thích_bộ': 692, 'hỏng': 693, 'bộ_hoàn_hảo': 694, 'lựa_chọn': 695, 'thế': 696, 'khen_cửa_hàng': 697, 'shiper': 698, 'cám_ơn': 699, 'chiều': 700, 'cân': 701, 'miễn_phí': 702, 'vận_chuyển_giao': 703, 'dịch_vụ': 704, 'đề_nghị': 705, 'tích_cực': 706, 'khác_biệt': 707, 'xứng_đáng': 708, 'thoải_mái_túi': 709, 'giao_sai_bộ': 710, 'bảo': 711, 'làm_bộ': 712, 'yêu_cầu': 713, 'vui_lòng': 714, 'kiểm_tra': 715, 'giá_trị': 716, 'chỗ': 717, 'hủy_hoại_danh_tiếng': 718, 'quan_tâm': 719, 'ôi': 720, 'chúa': 721, 'hối_hận': 722, 'nhân_viên': 723, 'siêu_nhiệt_tình': 724, 'thấm_mồ_hôi': 725, 'nhét': 726, 'trơn': 727, 'đẹp_lộn_xộn': 728, 'không_thể_yêu_cầu': 729, 'thay_đổi': 730, 'coment': 731, 'tui': 732, 'ziper': 733, 'anh_chàng': 734, 'ngầu': 735, 'chẳng': 736, 'đống': 737, 'giẻ': 738, 'tay_áo': 739, 'số_lượng': 740, 'chủng_loại': 741, 'cách': 742, 'lúc': 743, 'áo_dài': 744, 'áo_ngắn': 745, 'zip': 746, 'thường': 747, 'dự_đoán': 748, 'bền_màu': 749, 'hay': 750, 'hết': 751, 'quần_hơi': 752, '😅': 753, 'khắp': 754, 'thề': 755, 'thời': 756, 'nay': 757, 'tin': 758, 'mạng': 759, 'giả_hình_thức': 760, 'lá': 761, 'lúa': 762, 'đánh': 763, 'chất_lượng_sản_phẩm': 764, 'chất_lượng_tuyệt_vời': 765, 'nhà': 766, 'vết': 767, 'mực': 768, 'bao_bì': 769, 'cũ': 770, 'ố': 771, 'vàng': 772, 'nhắn_tin_trao_đổi': 773, 'ấy': 774, 'tránh': 775, 'bao_giờ': 776, 'rác_rưởi': 777, 'phí': 778, 'kia': 779, 'cm': 780, 'ngốc': 781, 'sơ_mi': 782, 'thế_là': 783, 'liền': 784, 'khăn': 785, '😁': 786, 'giao_thiếu': 787, 'chủ_quan': 788, 'edit': 789, 'bình_luận': 790, 'tiếp_tục_ủng_hộ': 791, 'rõ': 792, 'tạm': 793, 'tốt_hàng_phù_hợp': 794, 'hời': 795, 'hình_ảnh_tuyệt_vời': 796, 'ưng_ý': 797, 'shop_chúc': 798, 'cung_cấp': 799, 'tay_nghề': 800, 'gọn_gàng': 801, 'nhanh_bọc': 802, 'uy_tín': 803, 'tiêu_chuẩn': 804, 'màu_sắc_đẹp': 805, 'hấp_dẫn': 806, 'ca': 807, 'vui_vẻ': 808, 'quần_đẹp': 809, 'khen': 810, 'đăng': 811, 'bộ_vừa_vặn': 812, 'hỏi': 813, '☺ __': 814, '️ _yêu': 815, 'chào_mừng': 816, 'khay': 817, 'nhớ': 818, 'gboard': 819, 'văn_bản': 820, 'sao_chép': 821, 'lưu': 822, 'đóng_gói sizesẽ_khả_năng': 823, 'saucác': 824, 'bó': 825, 'mờ': 826, 'hài_lòng_tiếc': 827, 'cụ_thể': 828, 'nma': 829, '\\U0001fae8': 830, 'nằm': 831, 'hẹn': 832, 'gặp': 833, 'ghi': 834, 'số': 835, 'đặt_hàng_không': 836, 'ngơ_ngác': 837, 'hiểu': 838, 'viết': 839, 'hài_lòng_đường_may_ổn': 840, 'lỗi_lầm': 841, 'vóc_dáng': 842, 'tính': 843, 'tham_khảo': 844, 'phom_dáng': 845, 'rủ': 846, 'phong_cách_hàn_quốc': 847, 't': 848, 'chất_lượng tuyệt_vời_hoàn_hảo': 849, 'thể_thao_hoàn_hảo': 850, 'ah': 851, 'có_giá': 852, 'danh_tiếng': 853, 'mail': 854, 'phô_trương_hình_dáng': 855, 'mùi': 856, 'thơm': 857, 'may_tỉ_mỉ': 858, 'mjk': 859, 'ngon_bổ': 860, '👍': 861, 'cơ_thể': 862, 'mông': 863, 'đậm': 864, 'hình_thêu': 865, 'bất_cứ': 866, 'giảm_giá': 867, 'hehe': 868, 'hơn_nữa': 869, 'nhà_cung_cấp': 870, 'sàn': 871, 'thương_mại_điện_tử': 872, 'sử_dụng': 873, 'haiz': 874, 'bướng': 875, 'kỹ': 876, 'nhẹ_nhàng': 877, 'hình_chất_liệu': 878, 'xỉn': 879, 'hình_nói_chung': 880, 'tương_xứng': 881, 'kỳ_vọng': 882, 'tối': 883, 'ngà': 884, 'đục': 885, 'xấu_may': 886, 'được_giá_k': 887, 'mặc_mát': 888, 'gọn': 889, 'trực_tiếp': 890, 'được_giá': 891, 'mã': 892, 'tiktok': 893, 'chất_lượng_hoàn_toàn': 894, 'phản_hồi': 895, 'bực_mình': 896, 'xám_nhạt': 897, 'quần_ok': 898, 'hề': 899, 'nhăn_chút': 900, 'lựa_chọn_màu_sắc': 901, 'mát_chất': 902, 'hàngv': 903, 'đời': 904, 'xinh': 905, 'tốt_đáng': 906, 'a': 907, 'nóng_mặc': 908, 'xa': 909, 'mực_thừa': 910, 'hình_mặt': 911, 'che': 912, 'tuổi': 913, 'làm_việc': 914, 'trái_tim': 915, 's': 916, 'ra_lệnh': 917, 'tương_tự': 918, 'hài': 919, 'tin_tưởng': 920, 'bóng': 921, 'hở': 922, 'hang': 923, 'chứ': 924, 'dám': 925, 'khoảng': 926, 'quán': 927, 'h': 928, 'mềm_mịn_form': 929, 'giống_hệt': 930, 'dao_giống_hệt': 931, 'hạt_dẻ': 932, 'lười': 933, 'lòi': 934, 'miếng': 935, 'thật': 936, 'lãng_phí': 937, 'tiền_bạc': 938, 'tuy': 939, 'hai': 940, 'hương': 941, 'tạm_thời': 942, 'hình_nhìn_chung': 943, 'ạ': 944, 'siêu_rõ_ràng': 945, 'thu': 946, '🥰': 947, 'nhạt': 948, 'dần': 949, 'lan': 950, 'phần': 951, 'tuyệt_mình': 952, 'xuất_sắc': 953, 'tới': 954, '♡': 955, 'tổng_cộng': 956, 'chồng_chất': 957, 'dáng': 958, 'xù': 959, 'lông': 960, 'chồng': 961, 'quần_chất_lượng': 962, 'sản_phẩm_nào_tệ': 963, 'thanh_text': 964, 'tự_động': 965, 'xuất_hiện': 966, 'trượt_mục': 967, 'hoa_văn': 968, 'hoàn_toàn': 969, 'shope': 970, 'ghê': 971, 'thấp': 972, 'cứ': 973, 'thắt': 974, 'nơ': 975, 'rành': 976, 'thế_nào': 977, 'bù': 978, 'tự': 979, 'đơn_giản': 980, 'sang_trọng': 981, 'làm_quà': 982, 'yêu_thương': 983, 'thoải_mái size_l': 984, 'một_chút': 985, 'đẹp_sờ': 986, 'áo_phông': 987, 'siêu_đẹp': 988, 'luôn_luôn': 989, 'xù_xì': 990, 'mát_bộ_lụa': 991, 'vừa_rồi': 992, 'mềm_mịn_mát': 993, 'bao_nhiêu': 994, 'cần_câu': 995, 'câu': 996, 'tối_hôm_qua': 997, 'ít_nhất': 998, 'nhắn': 999, 'mô_tả_vải_bền': 1000, 'ok_giá': 1001, 'dặn': 1002, 'sờ': 1003, 'mát_tạo': 1004, 'co_dãn': 1005, 'hài_lòng_chất': 1006, 'mịn_mặc vô_cùng_thoải_mái': 1007, 'kết_hợp': 1008, 'tối_đa': 1009, 'hóa': 1010, 'ping': 1011, 'thư_cảm_ơn': 1012, 'chân_thật': 1013, 'cao_cm': 1014, 'thùng_thình': 1015, 'size_mặc': 1016, 'y_như': 1017, '😂 _chất_lượng': 1018, 'chê': 1019, '😂': 1020, 'đưa': 1021, 'quần_áovải': 1022, 'nt': 1023, 'đền_bù': 1024, 'hàng_không trả_lời_tin_nhắn': 1025, 'khách': 1026, 'làm_ăn_tệ': 1027, 'hỗ_trợ': 1028, 'kẻ': 1029, 'vô_trách_nhiệm': 1030, 'hủy_đơn': 1031, 'bồi_thường': 1032, 'hình_kích_thước': 1033, 'trọng_lượng': 1034, 'đạt': 1035, 'máy': 1036, 'luộm_thuộm': 1037, 'thô_thật_sự': 1038, 'đợi': 1039, 'nửa': 1040, 'xuống': 1041, 'tận': 1042, 'nách': 1043, 'sop': 1044, 'thương_sóc': 1045, 'toàn_diện': 1046, 'ưu_đãi': 1047, 'đặc_biệt': 1048, 'mừng': 1049, 'lễ_hội': 1050, 'lazada': 1051, 'chăm_sóc': 1052, '💸': 1053, 'tặng_mã': 1054, '🚚': 1055, 'chính_sách': 1056, 'combo': 1057, 'giặt_viên': 1058, 'omo': 1059, 'gia_vị': 1060, 'có_hạn': 1061, '✔': 1062, 'xả': 1063, 'pure': 1064, 'natural': 1065, 'comfort': 1066, 'fresh': 1067, 'lily': 1068, 'of_the': 1069, 'valey_kiwi': 1070, 'hương_thơm_nhẹ_nhàng': 1071, 'hoa': 1072, 'trái_cây': 1073, 'chuyên_gia': 1074, 'chọn_lọc': 1075, 'kỹ_càng': 1076, 'lưu_hương': 1077, 'comfort_soft': 1078, 'and_soft': 1079, 'thành_phần': 1080, 'thực_vật': 1081, 'chiết': 1082, 'xuất': 1083, 'yến_mạch': 1084, 'nuôi_dưỡng': 1085, 'làn': 1086, 'da': 1087, 'matic': 1088, 'hương_hoa': 1089, 'oải_hương': 1090, 'thư_giãn': 1091, 'cửa': 1092, 'tác_dụng_kép': 1093, 'sạch': 1094, 'bảo_vệ_lồng_giặt': 1095, 'hoạt_chất': 1096, 'tẩy_rửa': 1097, 'nguồn_gốc': 1098, 'giúp': 1099, 'loại_bỏ': 1100, 'công_nghệ': 1101, 'proclea': 1102, 'kaka': 1103, 'bàn_cãi': 1104, 'quần_nữ': 1105, 'diễn_tả': 1106, 'đợt': 1107, 'giỏ': 1108, 'bấy_lâu_nay': 1109, 'cầm': 1110, 'gia_đình': 1111, 'bạn_bè': 1112, 'xấu_hổ': 1113, 'dư_thừa': 1114, 'thái_độ': 1115, 'có_vẻ': 1116, 'hy_vọng': 1117, 'người_yêu': 1118, 'ehe': 1119, 'coin': 1120, 'tiếp_tục_hỗ_trợ': 1121, 'nhu_cầu': 1122, 'đầu_gối': 1123, 'cửa_hàng_mix_size': 1124, 'đồng_xu': 1125, 'bao_bì_chắc_chắn': 1126, 'nắng_nóng': 1127, 'thô': 1128, 'họ': 1129, 'sạch_sẽ': 1130, 'xảy': 1131, 'đơn_đặt_hàng': 1132, 'dính': 1133, 'dầu_máy': 1134, 'nhàu': 1135, 'nhất': 1136, 'công_nhân': 1137, 'bộ_phận': 1138, 'xuân_mặc_quần': 1139, 'nha': 1140, '⭐': 1141, 'dao': 1142, 'vương_miện': 1143, 'size_xl': 1144, 'hình_in_sắc': 1145, 'coton': 1146, 'nóng_chút': 1147, 'nghi_ngờ': 1148, 'công_ty': 1149, 'gió': 1150, 'mát_giá': 1151, 'chuẩn': 1152, 'lý_do': 1153, 'nóng_nực': 1154, 'đoán': 1155, 'suy_nghĩ_lại xin_lỗi_cửa_hàng': 1156, 'sự_thật': 1157, 'takaki': 1158, '諸伏_高明': 1159, 'đọc': 1160, 'bật': 1161, 'âm_phát_âm': 1162, 'kanji': 1163, 'dựa': 1164, 'phát_âm': 1165, 'tiếng': 1166, 'trung': 1167, 'shofuku': 1168, 'koumei': 1169, 'gần': 1170, 'tiếng_nhật': 1171, 'gia_cát_lượng': 1172, 'cát_lượng': 1173, 'góp_công': 1174, 'xây_dựng': 1175, 'nền_móng': 1176, 'vững_chắc': 1177, 'thục thời_tam_quốc_đúng': 1178, 'tên': 1179, 'góp_phần': 1180, 'nagano': 1181, 'rơi': 1182, 'lực_lượng': 1183, 'thám_tử': 1184, 'tokyo': 1185, '👀': 1186, 'cố_tình': 1187, 'râu': 1188, 'khong_minh': 1189, 'thời_điểm': 1190, 'anh_em': 1191, '😌': 1192, 'chạm': 1193, 'hấp': 1194, 'rằng': 1195, 'khuôn_mặt': 1196, 'em': 1197, 'cố_gắng': 1198, 'trở_nên': 1199, 'mạnh_mẽ': 1200, 'sức_mạnh': 1201, 'cạnh': 1202, 'trêu': 1203, 'chọc': 1204, 'siết': 1205, 'chặt': 1206, 'nghe': 1207, 'chuyện': 1208, 'tâm_trí': 1209, 'tận_tâm': 1210, 'phục_vụ': 1211, 'lớp': 1212, 'lót': 1213, 'đỏ': 1214, 'trắng_bộ': 1215, 'cạp_quần_trông': 1216, 'ngoại_cỡ': 1217, 'tuần': 1218, 'hủy': 1219, 'biết_điều': 1220, 'áo_mưa': 1221, 'dcd': 1222, 'haha': 1223, '🥲': 1224, 'nam_túi_khóa': 1225, 'cô': 1226, 'đứt': 1227, 'hẳn': 1228, 'thở_dài': 1229, 'hình_chất_lượng': 1230, 'thoải_mái_túi khóa': 1231, 'uy_tín_': 1232, '⭐ _': 1233, 'utc': 1234, 'khái_niệm': 1235, 'nhắc': 1236, 'lĩnh_vực': 1237, 'điện_tử': 1238, 'quan_trọng_nói_chung': 1239, 'hôm_qua': 1240, 'tuyệt_khi': 1241, 'giây': 1242, 'siêu_dễ_thương': 1243, 'quần_thậm_chí': 1244, 'bà': 1245, 'nhận_dạng': 1246, 'xu_đánh_giá': 1247, 'giá_thành': 1248, 'xu_học_giả': 1249, 'cày': 1250, 'đất': 1251, 'nước_mắt': 1252, 'thay': 1253, 'địa_phương': 1254, 'đảm_bảo': 1255, 'bao_lâu_chúc': 1256, 'tốt_lành': 1257, 'liên_hệ': 1258, 'lưu_ý': 1259, 'chú_ý': 1260, 'c': 1261, 'buồn_tẻ': 1262, 'okila': 1263, 'chất_lượng_túi': 1264, 'đá': 1265, 'tổ': 1266, 'ong': 1267, 'mát_logo': 1268, 'mềm_giặt': 1269, 'form_dáng': 1270, 'shop_tưởng': 1271, 'phát_hiện': 1272, 'thủng': 1273, 'lỗ': 1274, 'tươi': 1275, 'thước_hơi': 1276, 'kế_cao_cân': 1277, 'suy_nghĩ': 1278, 'cuộc_sống': 1279, 'thình_': 1280, 'size_có_vẻ': 1281, '😓': 1282, 'chật_tặng': 1283, '_ 👍': 1284, '__ 👍': 1285, '👍 __': 1286, '👍 _': 1287, '👍 👍': 1288, 'hình_chất': 1289, 'cân_nhắc_ 🙂': 1290, 'silip': 1291, 'siêu_siêu_mỏng': 1292, 'xuyên': 1293, 'thấu': 1294, 'khoe': 1295, 'nội_y': 1296, 'áo_có_thể': 1297, 'như_thế': 1298, 'đắt': 1299, 'tào_lao': 1300, 'dày_mát': 1301, 'áo_polo': 1302, 'cafe': 1303, 'short_thoải_mái': 1304, 'thời_mềm_mại': 1305, 'thoải_gói': 1306, 'cẩn_kế': 1307, 'thể_short': 1308, 'toàn_mại': 1309, 'giặt_omo': 1310, 'thơm_gian': 1311, 'of_the valey_kiwi_tươi': 1312, 'chọn_lọc_lưu_hương': 1313, '✔ __': 1314, 'comfort_gentle': 1315, 'xuất_yến_mạch': 1316, 'tác_động_kép': 1317, 'nóng_nực_túi': 1318, 'thơm_áo': 1319, 'tốt_dáng': 1320, 'hình_săn': 1321, 'áo_chất_lượng': 1322, 'thực_sự_chán': 1323, 'nhờ': 1324, 'lót_nỉ': 1325, 'bông': 1326, 'bay': 1327, 'nhiệt_chất_lượng': 1328, 'rõ_ràng': 1329, 'kéo_dài': 1330, 'nhắn_tin_hỏi_thăm': 1331, 'hình_quần': 1332, 'cùi': 1333, 'đồ_tệ': 1334, 'wow': 1335, 'bảng': 1336, 'chảnh': 1337, 'thoa': 1338, 'ánh': 1339, 'lấp_lánh': 1340, 'xinh_đẹp_lấp_lánh': 1341, 'cực_kì': 1342, 'thừa_màu_sắc': 1343, 'lừa': 1344, '😭': 1345, 'thân_thiện_quần': 1346, 'thời_trang_thiết_kế': 1347, 'sữa': 1348, 'tắm': 1349, 'hương_dưỡng': 1350, 'ẩm': 1351, 'dẫn': 1352, 'ướt_cơ_thể': 1353, 'lượng': 1354, 'lòng': 1355, 'tạo': 1356, 'bọt': 1357, 'mềm_masage': 1358, 'toàn_thân': 1359, 'dây_chuyền_phút': 1360, 'đổ': 1361, 'rửa': 1362, 'tiếp_xúc': 1363, 'ngừng': 1364, 'dấu_hiệu': 1365, 'bất_thường': 1366, 'khô_tránh': 1367, 'ánh_sáng': 1368, 'nhiệt_độ': 1369, 'trẻ_em': 1370, 'tâm': 1371, 'làm_ăn': 1372, 'any': 1373, 'sẵn_túi': 1374, 'vượt': 1375, 'coton_mềm': 1376, 'mát_kích_thước': 1377, 'súp': 1378, 'bí_ngô': 1379, 'xương': 1380, 'không_chỉ': 1381, 'dinh_dưỡng': 1382, 'mà_còn': 1383, 'ngon': 1384, 'nấu': 1385, 'bí_đỏ': 1386, 'bữa': 1387, 'cơm': 1388, '·': 1389, 'quần_quần': 1390, 'túi_giá': 1391, 'tư_vấn_nhiệt_tình': 1392, 'quần_ống': 1393, 'bagy': 1394, 'nhé_chúc': 1395, 'ngày_càng': 1396, 'phát_triển': 1397, 'thịnh_vượng': 1398, 'ống': 1399, 'bó_sát': 1400, 'quần_thích_hợp': 1401, 'đi_học': 1402, 'mong_muốn': 1403, '😩': 1404, 'bất_ngờ': 1405, 'ngọt': 1406, 'nặng_nề': 1407, 'em_trai': 1408, 'áp_mã': 1409, 'cạp': 1410, 'đai': 1411, 'điều_chỉnh': 1412, 'lịch_sự': 1413, 'vải_mát': 1414, 'tủ_đồ': 1415, 'hầu_hết': 1416, 'quần_hợp': 1417, 'gò_bó': 1418, 'mặc_quần': 1419, 'danh_sách': 1420, 'ghi_nhận': 1421, 'bao_gồm': 1422, 'liên_quan': 1423, 'khoản': 1424, 'dày_kích_thước': 1425, 'phẳng': 1426, 'tệ_quần_áo': 1427, 'mãi': 1428, '👎': 1429, 'thông_thường': 1430, 'sót': 1431, 'hôm_nay': 1432, 'nổi_bộ_k': 1433, 'cong': 1434, 'sờn': 1435, 'chất_sờ': 1436, 'cảm_giác_hơi': 1437, 'mát không_chỉ_thừa': 1438, 'lỏng': 1439, 'may_sơ_sài': 1440, 'rách_thất_vọng': 1441, 'khách_hàng_không': 1442, 'quá_dáng': 1443, 'thoải_mái_phù_hợp': 1444, 'thấm_hút': 1445, 'dặn_ổn': 1446, 'do': 1447, 'quần_giả': 1448, 'quần_áo_giống_hệt': 1449, 'nhất_thiết': 1450, 'lỏng_lẻo': 1451, 'hợp_lý_phù_hợp': 1452, 'nx': 1453, 'nóng quần_short_thời_trang': 1454, 'mèo': 1455, 'nôn_quảng_cáo': 1456, 'đòi': 1457, 'thèm': 1458, 'mở_miệng': 1459, 'vớ_vẩn': 1460, 'mê': 1461, 'có_điều': 1462, 'đẹp_phí': 1463, 'oke': 1464, 'thừa_tưởng': 1465, 'mal': 1466, '🙄': 1467, 'siêu_xinh': 1468, 'gu': 1469, 'đấy': 1470, 'kim_mũi': 1471, 'đẹp_mắt': 1472, 'hài_hước': 1473, 'ngài': 1474, '💚': 1475, '💙': 1476, 'thúy': 1477, 'tinh_ly': 1478, 'thủy': 1479, 'tinh_bọc': 1480, 'da sang_trọng_bán_k': 1481, 'mỗi': 1482, 'kbộ': 1483, 'cốc': 1484, 'thước_tích': 1485, 'liệu': 1486, 'nắp': 1487, 'đậy': 1488, 'kín': 1489, 'nội_thất_bọc': 1490, 'uống': 1491, 'lo': 1492, 'đồng_tiền': 1493, 'lời': 1494, 'khuyên_thú_vị': 1495, 'kích_thước mjk_phù_hợp': 1496, 'bản': 1497, 'vốn': 1498, 'eo_thon': 1499, 'bé': 1500, 'lưng': 1501, 'okela': 1502, 'dày_dặn_thoáng': 1503, 'eo_chắc_chắn': 1504, 'ngồi': 1505, 'hông': 1506, 'ngay_lập_tức_tát': 1507, 'cửa_hàng_tư_vấn': 1508, '✌': 1509, 'mịn_màng': 1510, 'tuyệt': 1511, '😄': 1512, 'trà': 1513, 'tương_đương': 1514, 'chụp': 1515, 'sáng': 1516, 'nhãn_size': 1517, 'cửa_hàng_tệ': 1518, 'hoàn_tiền': 1519, 'phức_tạp': 1520, 'bán_tưởng_uy_tín': 1521, 'chịu': 1522, 'nổi': 1523, 'kỹ_lưỡng': 1524, 'rẻ_quần': 1525, 'trẻ': 1526, 'trung_chất_liệu': 1527, 'polo_chất': 1528, 'mềm_mát': 1529, 'vàng_mã': 1530, 'mỏng_mặc_dù': 1531, 'xấu_nhắn_tin': 1532, 'quần_lót': 1533, 'quê': 1534, 'biển': 1535, 'thuốc_trừ_sâu': 1536, 'cọ': 1537, 'đỏ_bừng': 1538, 'chất_lượng_quần': 1539, 'tệ_túi_quần': 1540, 'sơ_sài': 1541, 'rách_hoàn_toàn': 1542, 'tuyệt_vọng': 1543, 'chốt': 1544, 'deal': 1545, 'lau': 1546, 'thẻ': 1547, 'ngứa_ngáy': 1548, 'hoàn': 1549, 'sợ': 1550, 'giá_cả phải_chăng_hài_lòng': 1551, 'trưa': 1552, 'nhiệt_tình_ok': 1553, 'xấu_thừa': 1554, 'quần_ổn': 1555, 'tầm_giá': 1556, 'bóp': 1557, 'chỉnh_sửa': 1558, 'hình_dạng': 1559, 'ngay_lập_tức': 1560, 'dép': 1561, 'bộ_chỉ': 1562, 'bỏ_qua': 1563, 'dạo': 1564, 'lố_bịch': 1565, 'nói_dối': 1566, 'may_kém': 1567, 'cứng': 1568, 'tôn': 1569, 'đủ': 1570, 'nhanh_cửa_hàng': 1571, 'bức': 1572, 'thông_cảm': 1573, 'hình_tuy_nhiên': 1574, 'quần_đùi': 1575, 'mặc_dù': 1576, 'trạng_thái': 1577, 'online': 1578, 'mặc_bộ': 1579, 'cún': 1580, 'im': 1581, 'bạn_đọc': 1582, 'giận': 1583, 'quỳ': 1584, 'lạy': 1585, '🙌': 1586, '🏻': 1587, 'hình_chút': 1588, 'xanh_nhạt': 1589, 'át': 1590, 'ghét': 1591, 'kho': 1592, 'lũ': 1593, 'khốn': 1594, 'lâu_ai_ngờ': 1595, 'inbox': 1596, 'đại_diện': 1597, '😢': 1598, 'góc': 1599, 'cảnh_báo': 1600, '❌': 1601, 'may_chắc_chắn': 1602, 'quần_ngắn': 1603, 'quần_trông': 1604, 'áo_nỉ': 1605, 'thông_minh': 1606, 'bất_cẩn': 1607, 'thông_số': 1608, 'vòng_eo': 1609, '🤔 __sao': 1610, 'form_dáng_quần': 1611, 'ẩu': 1612, 'mỏng_chất_lượng kém': 1613, 'bận_tâm': 1614, 'mát_co': 1615, 'giãn': 1616, 'ông': 1617, 'nóng_tí': 1618, 'tồi_tệ': 1619, 'ủi': 1620, 'mát_hoàn_hảo': 1621, 'shopoi': 1622, 'hợp': 1623, 'nhỏmỗi': 1624, 'quần_rộng_rãi': 1625, '😇': 1626, 'khuyến_khích': 1627, 'thông_tin': 1628, 'mềm_mặc_mát': 1629, 'cực_sắc': 1630, 'mát_túi': 1631, 'hài_cái': 1632, 'kinh_doanh_tệ': 1633, 'huhu': 1634, 'ngờ': 1635, 'quần_dày': 1636, 'khum': 1637, 'một_chút_áo_mỏng': 1638, 'tiếp_theo': 1639, 'rách_cửa_hàng': 1640, 'vk': 1641, 'tươi_sáng': 1642, 'trẻ_trung': 1643, 'vợ_minh': 1644, 'plus_size': 1645, 'bình': 1646, 'dân_nghèo': 1647, 'hot': 1648, 'thêu_sắc': 1649, 'xl_tóm_lại': 1650, 'khả_năng thấm_hút_mồ_hôi': 1651, 'đặc_tính': 1652, 'giải_pháp': 1653, 'phái': 1654, 'mạnh': 1655, 'việt_nam': 1656, 'mỏng_nhẹ': 1657, 'pha': 1658, 'bụi': 1659, 'trách_nhiệm': 1660, 'tệ_tóm_lại': 1661, 'lẽ_ra': 1662, '👎 🏻': 1663, '__ 👎': 1664, '_ 🏻': 1665, 'đường_cong': 1666, 'chi_tiết': 1667, 'hoàn_thiện': 1668, 'đường_nét': 1669, 'bắt': 1670, 'đa_dạng': 1671, 'tóm_lại': 1672, 'tiết_kiệm': 1673, 'chi_phí': 1674, 'xinh_đẹp': 1675, 'tệ_phí': 1676, 'flash': 1677, 'cá': 1678, 'thanks': 1679, 'quan_đơn_giản': 1680, 'nhỉ': 1681, 'giao_nhắn_tin': 1682, 'trl': 1683, 'lưới': 1684, 'phai': 1685, 'thanh_toán_bộ': 1686, 'trộn': 1687, 'vụn': 1688, 'chủ_đề': 1689, 'gãy': 1690, 'gấu quần_đũng': 1691, 'quần_tay_áo': 1692, 'sành_điệu_túi': 1693, 'chi_trả': 1694, 'ống_quần': 1695, 'thời_trang_hoàn_hảo': 1696, 'sạc': 1697, 'ncl': 1698, 'unisex': 1699, 'v': 1700, 'mặc_quần_âu': 1701, 'quần_bagy': 1702, 'ghép': 1703, 'trưng_bày': 1704, 'hoa_bách_hợp': 1705, 'giá_cả_phải_chăng': 1706, 'giới_hạn': 1707, 'giới_thiệu_bộ': 1708, 'siêu_siêu': 1709, 'kỳ_lạ': 1710, 'quần_áo_dài': 1711, 'kèm': 1712, 'ghi_chú': 1713, 'mát_quần_short thời_trang': 1714, 'tôn_dáng': 1715, 'áo_đơn_giản': 1716, 'mát_bộ': 1717, 'xăng': 1718, 'mac': 1719, 'đẹp_hình': 1720, 'mát_mẻ_túi': 1721, 'công_nhận': 1722, 'mô_hình': 1723, 'lo_lắng': 1724, 'bốt': 1725, 'đến_nỗi': 1726, 'ngày_mai': 1727, 'nhàu_nát': 1728, 'tệ_may_mắn': 1729, 'giảm_giá_k': 1730, 'gốc': 1731, 'quần_tiếc': 1732, 'quốc_tế cửa_hàng_chất_lượng': 1733, 'vn': 1734, 'đáng_giá_quần_áo': 1735, 'sọc': 1736, 'thêu': 1737, 'ép': 1738, 'chú': 1739, 'sốc': 1740, 'vặn__ 🥲': 1741, 'ý': 1742, 'sai_sót': 1743, '🥲 __quần': 1744, 'dày_dặn_form': 1745, 'đo': 1746, 'sản_phẩm_ổn': 1747, 'hoàn_hảorất': 1748, 'okhoàn': 1749, 'hảo': 1750, 'kích_cỡ_nho': 1751, 'nêu': 1752, 'phong_cách_vừa_vặn': 1753, 'thương_mại': 1754, 'uy_tín_súp': 1755, 'quần_xám': 1756, 'dày_dặn co_giãn_thoải_mái': 1757, 'đáp': 1758, 'size_phù_hợp': 1759, '😀': 1760, 'trung_năng_động_phù_hợp': 1761, 'hoàn_cảnh': 1762, 'cập_nhật': 1763, 'xu_hướng': 1764, 'lộn': 1765, 'ngược': 1766, 'màu_sắc_phù_hợp': 1767, 'giới': 1768, 'hiện_nay': 1769, 'vải_thoáng': 1770, 'mát_mềm_mại': 1771, 'việt': 1772, 'hit': 1773, 'nhỏ_nhắn': 1774, 'thô_có_lẽ': 1775, 'vui_vẻ tư_vấn_mát': 1776, 'cực_nhẹ': 1777, 'tương_ứng': 1778, 'slim': 1779, 'quần_bơi': 1780, 'trị_giá': 1781, 'đồng': 1782, 'cao_chất': 1783, 'tiệm': 1784, 'một_vài': 1785, 'mát_thiết_kế': 1786, 'bờ': 1787, 'vai': 1788, 'may_bền': 1789, 'mát_áo': 1790, 'trang_facebok': 1791, 'thế_mà': 1792, '🥹 __xl': 1793, 'chị_em': 1794, 'cười': 1795, 'hơi_chát': 1796, 'giải': 1797, 'phong_cách_hoàn_hảo': 1798, 'hình_mặc': 1799, 'ủng_hộ_shop': 1800, 'xấu_form': 1801, 'mộc_mạc': 1802, 'logo': 1803, 'bền_lười': 1804, 'quất': 1805, 'đai_ẩn': 1806, 'vừa_phải_thích_hợp': 1807, 'rải_rác': 1808, 'chủ_yếu': 1809, 'cardina': 1810, 'nâng': 1811, 'cẩu_thả': 1812, 'video_mag': 1813, 'tính_năng': 1814, 'đẹp_màu_sắc': 1815, 'da_cá_dày': 1816, 'mát_size_chuẩn': 1817, 'tự_nhiên': 1818, 'vật_dụng': 1819, 'sản_xuất': 1820, 'thời_trang_nam': 1821, 'ưa_chuộng': 1822, 'giao_quần_mỏng': 1823, 'phút': 1824, 'phối_đồ': 1825, 'lúng_túng': 1826, 'tốt_tiện_lợi': 1827, 'chất_lượng_ổn': 1828, 'kết_bạn': 1829, 'camon': 1830}\n"
     ]
    }
   ],
   "source": [
    "vocab = build_vocabulary(train_x)\n",
    "num_words = len(vocab)\n",
    "print(f\"Vocabulary contains {num_words} words\\n\")\n",
    "print(vocab)"
   ]
  },
  {
   "cell_type": "code",
   "execution_count": 46,
   "metadata": {
    "colab": {
     "base_uri": "https://localhost:8080/"
    },
    "executionInfo": {
     "elapsed": 6,
     "status": "ok",
     "timestamp": 1734288064930,
     "user": {
      "displayName": "Nguyễn Trương Hoàng",
      "userId": "04971599599493899416"
     },
     "user_tz": -420
    },
    "id": "uZaOyWwykT34",
    "outputId": "24dad315-88d0-4a1c-a4b1-668688603c9a"
   },
   "outputs": [
    {
     "name": "stdout",
     "output_type": "stream",
     "text": [
      "The length of the longest tweet is 150 tokens.\n"
     ]
    }
   ],
   "source": [
    "max_len = max_length(train_x, val_x)\n",
    "print(f'The length of the longest tweet is {max_len} tokens.')"
   ]
  },
  {
   "cell_type": "code",
   "execution_count": 47,
   "metadata": {
    "id": "fHoutv_lkT38"
   },
   "outputs": [],
   "source": [
    "train_x_padded = [padded_sequence(x, vocab, max_len) for x in train_x]\n",
    "val_x_padded = [padded_sequence(x, vocab, max_len) for x in val_x]"
   ]
  },
  {
   "cell_type": "markdown",
   "metadata": {
    "id": "IScUunK-kT38"
   },
   "source": [
    "### ___5.3. Mô hình học máy - Logistic regression___"
   ]
  },
  {
   "cell_type": "code",
   "execution_count": 48,
   "metadata": {
    "colab": {
     "base_uri": "https://localhost:8080/",
     "height": 1000
    },
    "executionInfo": {
     "elapsed": 25338,
     "status": "ok",
     "timestamp": 1734288572850,
     "user": {
      "displayName": "Nguyễn Trương Hoàng",
      "userId": "04971599599493899416"
     },
     "user_tz": -420
    },
    "id": "qdlnQerskT3-",
    "outputId": "98c70abe-2670-435b-cdd4-2e1201875b70"
   },
   "outputs": [
    {
     "name": "stderr",
     "output_type": "stream",
     "text": [
      "c:\\Users\\Nguyen_Thanh_Vinh\\anaconda3\\envs\\RP_Env\\Lib\\site-packages\\sklearn\\linear_model\\_sag.py:349: ConvergenceWarning: The max_iter was reached which means the coef_ did not converge\n",
      "  warnings.warn(\n",
      "c:\\Users\\Nguyen_Thanh_Vinh\\anaconda3\\envs\\RP_Env\\Lib\\site-packages\\sklearn\\linear_model\\_sag.py:349: ConvergenceWarning: The max_iter was reached which means the coef_ did not converge\n",
      "  warnings.warn(\n",
      "c:\\Users\\Nguyen_Thanh_Vinh\\anaconda3\\envs\\RP_Env\\Lib\\site-packages\\sklearn\\linear_model\\_sag.py:349: ConvergenceWarning: The max_iter was reached which means the coef_ did not converge\n",
      "  warnings.warn(\n",
      "c:\\Users\\Nguyen_Thanh_Vinh\\anaconda3\\envs\\RP_Env\\Lib\\site-packages\\sklearn\\linear_model\\_sag.py:349: ConvergenceWarning: The max_iter was reached which means the coef_ did not converge\n",
      "  warnings.warn(\n",
      "c:\\Users\\Nguyen_Thanh_Vinh\\anaconda3\\envs\\RP_Env\\Lib\\site-packages\\sklearn\\linear_model\\_sag.py:349: ConvergenceWarning: The max_iter was reached which means the coef_ did not converge\n",
      "  warnings.warn(\n",
      "c:\\Users\\Nguyen_Thanh_Vinh\\anaconda3\\envs\\RP_Env\\Lib\\site-packages\\sklearn\\linear_model\\_sag.py:349: ConvergenceWarning: The max_iter was reached which means the coef_ did not converge\n",
      "  warnings.warn(\n",
      "c:\\Users\\Nguyen_Thanh_Vinh\\anaconda3\\envs\\RP_Env\\Lib\\site-packages\\sklearn\\linear_model\\_sag.py:349: ConvergenceWarning: The max_iter was reached which means the coef_ did not converge\n",
      "  warnings.warn(\n",
      "c:\\Users\\Nguyen_Thanh_Vinh\\anaconda3\\envs\\RP_Env\\Lib\\site-packages\\sklearn\\linear_model\\_sag.py:349: ConvergenceWarning: The max_iter was reached which means the coef_ did not converge\n",
      "  warnings.warn(\n",
      "c:\\Users\\Nguyen_Thanh_Vinh\\anaconda3\\envs\\RP_Env\\Lib\\site-packages\\sklearn\\linear_model\\_sag.py:349: ConvergenceWarning: The max_iter was reached which means the coef_ did not converge\n",
      "  warnings.warn(\n",
      "c:\\Users\\Nguyen_Thanh_Vinh\\anaconda3\\envs\\RP_Env\\Lib\\site-packages\\sklearn\\linear_model\\_sag.py:349: ConvergenceWarning: The max_iter was reached which means the coef_ did not converge\n",
      "  warnings.warn(\n",
      "c:\\Users\\Nguyen_Thanh_Vinh\\anaconda3\\envs\\RP_Env\\Lib\\site-packages\\sklearn\\linear_model\\_sag.py:349: ConvergenceWarning: The max_iter was reached which means the coef_ did not converge\n",
      "  warnings.warn(\n",
      "c:\\Users\\Nguyen_Thanh_Vinh\\anaconda3\\envs\\RP_Env\\Lib\\site-packages\\sklearn\\linear_model\\_sag.py:349: ConvergenceWarning: The max_iter was reached which means the coef_ did not converge\n",
      "  warnings.warn(\n",
      "c:\\Users\\Nguyen_Thanh_Vinh\\anaconda3\\envs\\RP_Env\\Lib\\site-packages\\sklearn\\linear_model\\_sag.py:349: ConvergenceWarning: The max_iter was reached which means the coef_ did not converge\n",
      "  warnings.warn(\n",
      "c:\\Users\\Nguyen_Thanh_Vinh\\anaconda3\\envs\\RP_Env\\Lib\\site-packages\\sklearn\\linear_model\\_sag.py:349: ConvergenceWarning: The max_iter was reached which means the coef_ did not converge\n",
      "  warnings.warn(\n",
      "c:\\Users\\Nguyen_Thanh_Vinh\\anaconda3\\envs\\RP_Env\\Lib\\site-packages\\sklearn\\linear_model\\_sag.py:349: ConvergenceWarning: The max_iter was reached which means the coef_ did not converge\n",
      "  warnings.warn(\n",
      "c:\\Users\\Nguyen_Thanh_Vinh\\anaconda3\\envs\\RP_Env\\Lib\\site-packages\\sklearn\\linear_model\\_sag.py:349: ConvergenceWarning: The max_iter was reached which means the coef_ did not converge\n",
      "  warnings.warn(\n",
      "c:\\Users\\Nguyen_Thanh_Vinh\\anaconda3\\envs\\RP_Env\\Lib\\site-packages\\sklearn\\linear_model\\_sag.py:349: ConvergenceWarning: The max_iter was reached which means the coef_ did not converge\n",
      "  warnings.warn(\n",
      "c:\\Users\\Nguyen_Thanh_Vinh\\anaconda3\\envs\\RP_Env\\Lib\\site-packages\\sklearn\\linear_model\\_sag.py:349: ConvergenceWarning: The max_iter was reached which means the coef_ did not converge\n",
      "  warnings.warn(\n",
      "c:\\Users\\Nguyen_Thanh_Vinh\\anaconda3\\envs\\RP_Env\\Lib\\site-packages\\sklearn\\linear_model\\_sag.py:349: ConvergenceWarning: The max_iter was reached which means the coef_ did not converge\n",
      "  warnings.warn(\n",
      "c:\\Users\\Nguyen_Thanh_Vinh\\anaconda3\\envs\\RP_Env\\Lib\\site-packages\\sklearn\\linear_model\\_sag.py:349: ConvergenceWarning: The max_iter was reached which means the coef_ did not converge\n",
      "  warnings.warn(\n",
      "c:\\Users\\Nguyen_Thanh_Vinh\\anaconda3\\envs\\RP_Env\\Lib\\site-packages\\sklearn\\linear_model\\_sag.py:349: ConvergenceWarning: The max_iter was reached which means the coef_ did not converge\n",
      "  warnings.warn(\n",
      "c:\\Users\\Nguyen_Thanh_Vinh\\anaconda3\\envs\\RP_Env\\Lib\\site-packages\\sklearn\\linear_model\\_sag.py:349: ConvergenceWarning: The max_iter was reached which means the coef_ did not converge\n",
      "  warnings.warn(\n",
      "c:\\Users\\Nguyen_Thanh_Vinh\\anaconda3\\envs\\RP_Env\\Lib\\site-packages\\sklearn\\linear_model\\_sag.py:349: ConvergenceWarning: The max_iter was reached which means the coef_ did not converge\n",
      "  warnings.warn(\n",
      "c:\\Users\\Nguyen_Thanh_Vinh\\anaconda3\\envs\\RP_Env\\Lib\\site-packages\\sklearn\\linear_model\\_sag.py:349: ConvergenceWarning: The max_iter was reached which means the coef_ did not converge\n",
      "  warnings.warn(\n",
      "c:\\Users\\Nguyen_Thanh_Vinh\\anaconda3\\envs\\RP_Env\\Lib\\site-packages\\sklearn\\linear_model\\_sag.py:349: ConvergenceWarning: The max_iter was reached which means the coef_ did not converge\n",
      "  warnings.warn(\n",
      "c:\\Users\\Nguyen_Thanh_Vinh\\anaconda3\\envs\\RP_Env\\Lib\\site-packages\\sklearn\\linear_model\\_sag.py:349: ConvergenceWarning: The max_iter was reached which means the coef_ did not converge\n",
      "  warnings.warn(\n"
     ]
    },
    {
     "name": "stdout",
     "output_type": "stream",
     "text": [
      "Best hyperparameters (Logistic regression): {'solver': 'saga', 'penalty': 'l2', 'C': 100}\n",
      "Best score (Logistic regression): 0.632191039607532\n",
      "Best Logistic regression Accuracy: 0.6009615384615384\n",
      "Best Logistic regression Precision: 0.7477477477477478\n",
      "Best Logistic regression Recall: 0.6014492753623188\n",
      "Best Logistic regression AUC: 0.5903687192346987\n",
      "\n",
      "Classification Report:  LogisticRegression\n",
      "              precision    recall  f1-score   support\n",
      "\n",
      "           0       0.60      0.43      0.50        97\n",
      "           1       0.60      0.75      0.67       111\n",
      "\n",
      "    accuracy                           0.60       208\n",
      "   macro avg       0.60      0.59      0.58       208\n",
      "weighted avg       0.60      0.60      0.59       208\n",
      "\n",
      "ROC_AUC_SCORE is  0.5903687192346987\n"
     ]
    },
    {
     "data": {
      "image/png": "[encoded data removed]",
      "text/plain": [
       "<Figure size 640x480 with 1 Axes>"
      ]
     },
     "metadata": {},
     "output_type": "display_data"
    },
    {
     "data": {
      "image/png": "[encoded data removed]",
      "text/plain": [
       "<Figure size 640x480 with 2 Axes>"
      ]
     },
     "metadata": {},
     "output_type": "display_data"
    }
   ],
   "source": [
    "logreg_results = MLT.tune_logistic_regression(train_x_padded, train_y, val_x_padded, val_y)"
   ]
  },
  {
   "cell_type": "code",
   "execution_count": 49,
   "metadata": {
    "id": "DuWudaKnkT3-"
   },
   "outputs": [],
   "source": [
    "best_logreg_model_split = logreg_results[0]"
   ]
  },
  {
   "cell_type": "markdown",
   "metadata": {
    "id": "xiZNL9n3kT3-"
   },
   "source": [
    "### ___5.4. Mô hình học máy - Random forest___"
   ]
  },
  {
   "cell_type": "code",
   "execution_count": 50,
   "metadata": {
    "colab": {
     "base_uri": "https://localhost:8080/",
     "height": 1000
    },
    "executionInfo": {
     "elapsed": 18492,
     "status": "ok",
     "timestamp": 1734288385068,
     "user": {
      "displayName": "Nguyễn Trương Hoàng",
      "userId": "04971599599493899416"
     },
     "user_tz": -420
    },
    "id": "KoQE4tQbkT3_",
    "outputId": "29eca870-5dd4-4ef1-e464-58894c1f067f"
   },
   "outputs": [
    {
     "name": "stderr",
     "output_type": "stream",
     "text": [
      "c:\\Users\\Nguyen_Thanh_Vinh\\anaconda3\\envs\\RP_Env\\Lib\\site-packages\\sklearn\\model_selection\\_validation.py:540: FitFailedWarning: \n",
      "25 fits failed out of a total of 50.\n",
      "The score on these train-test partitions for these parameters will be set to nan.\n",
      "If these failures are not expected, you can try to debug them by setting error_score='raise'.\n",
      "\n",
      "Below are more details about the failures:\n",
      "--------------------------------------------------------------------------------\n",
      "25 fits failed with the following error:\n",
      "Traceback (most recent call last):\n",
      "  File \"c:\\Users\\Nguyen_Thanh_Vinh\\anaconda3\\envs\\RP_Env\\Lib\\site-packages\\sklearn\\model_selection\\_validation.py\", line 888, in _fit_and_score\n",
      "    estimator.fit(X_train, y_train, **fit_params)\n",
      "  File \"c:\\Users\\Nguyen_Thanh_Vinh\\anaconda3\\envs\\RP_Env\\Lib\\site-packages\\sklearn\\base.py\", line 1466, in wrapper\n",
      "    estimator._validate_params()\n",
      "  File \"c:\\Users\\Nguyen_Thanh_Vinh\\anaconda3\\envs\\RP_Env\\Lib\\site-packages\\sklearn\\base.py\", line 666, in _validate_params\n",
      "    validate_parameter_constraints(\n",
      "  File \"c:\\Users\\Nguyen_Thanh_Vinh\\anaconda3\\envs\\RP_Env\\Lib\\site-packages\\sklearn\\utils\\_param_validation.py\", line 95, in validate_parameter_constraints\n",
      "    raise InvalidParameterError(\n",
      "sklearn.utils._param_validation.InvalidParameterError: The 'max_features' parameter of RandomForestClassifier must be an int in the range [1, inf), a float in the range (0.0, 1.0], a str among {'log2', 'sqrt'} or None. Got 'auto' instead.\n",
      "\n",
      "  warnings.warn(some_fits_failed_message, FitFailedWarning)\n",
      "c:\\Users\\Nguyen_Thanh_Vinh\\anaconda3\\envs\\RP_Env\\Lib\\site-packages\\sklearn\\model_selection\\_search.py:1102: UserWarning: One or more of the test scores are non-finite: [0.67189236        nan        nan 0.68992136 0.68632855 0.67070918\n",
      "        nan        nan 0.67672607        nan]\n",
      "  warnings.warn(\n"
     ]
    },
    {
     "name": "stdout",
     "output_type": "stream",
     "text": [
      "Best hyperparameters (RandomForestClassifier): {'max_depth': 37, 'max_features': 'log2', 'min_samples_leaf': 2, 'min_samples_split': 9, 'n_estimators': 73}\n",
      "Best score (RandomForestClassifier): 0.6899213620950869\n",
      "Best Random Forest Accuracy: 0.7259615384615384\n",
      "Best Random Forest Precision: 0.8738738738738738\n",
      "Best Random Forest Recall: 0.6928571428571428\n",
      "Best Random Forest AUC: 0.7152874524008545\n",
      "Classification Report:  RandomForestClassifier\n",
      "              precision    recall  f1-score   support\n",
      "\n",
      "           0       0.79      0.56      0.65        97\n",
      "           1       0.69      0.87      0.77       111\n",
      "\n",
      "    accuracy                           0.73       208\n",
      "   macro avg       0.74      0.72      0.71       208\n",
      "weighted avg       0.74      0.73      0.72       208\n",
      "\n",
      "ROC_AUC_SCORE is  0.7152874524008545\n"
     ]
    },
    {
     "data": {
      "image/png": "[encoded data removed]",
      "text/plain": [
       "<Figure size 640x480 with 1 Axes>"
      ]
     },
     "metadata": {},
     "output_type": "display_data"
    },
    {
     "data": {
      "image/png": "[encoded data removed]",
      "text/plain": [
       "<Figure size 640x480 with 2 Axes>"
      ]
     },
     "metadata": {},
     "output_type": "display_data"
    }
   ],
   "source": [
    "rf_results = MLT.tune_random_forest(train_x_padded, train_y, val_x_padded, val_y)"
   ]
  },
  {
   "cell_type": "code",
   "execution_count": 51,
   "metadata": {
    "id": "XcgZlHyBkT3_"
   },
   "outputs": [],
   "source": [
    "best_rf_model_split = rf_results[0]"
   ]
  },
  {
   "cell_type": "markdown",
   "metadata": {
    "id": "uhvM9EZykT3_"
   },
   "source": [
    "### ___5.5. Mô hình học máy - Navie Bayes___"
   ]
  },
  {
   "cell_type": "code",
   "execution_count": 52,
   "metadata": {
    "colab": {
     "base_uri": "https://localhost:8080/",
     "height": 1000
    },
    "executionInfo": {
     "elapsed": 1129,
     "status": "ok",
     "timestamp": 1734288597627,
     "user": {
      "displayName": "Nguyễn Trương Hoàng",
      "userId": "04971599599493899416"
     },
     "user_tz": -420
    },
    "id": "xMpB8dIDkT3_",
    "outputId": "505c4b7e-ef80-4a33-cf5f-a821fb48565c"
   },
   "outputs": [
    {
     "name": "stdout",
     "output_type": "stream",
     "text": [
      "Best hyperparameters (MultinomialNB): {'alpha': 9.756545571902027}\n",
      "Best score (MultinomialNB): 0.556640934997475\n",
      "Best Navie Bayes Accuracy: 0.5673076923076923\n",
      "Best Naive Bayes Precision: 0.38738738738738737\n",
      "Best Navie Bayes Recall: 0.6615384615384615\n",
      "Best Naive Bayes AUC: 0.5802916318380237\n",
      "Classification Report:  MultinomialNB\n",
      "              precision    recall  f1-score   support\n",
      "\n",
      "           0       0.52      0.77      0.62        97\n",
      "           1       0.66      0.39      0.49       111\n",
      "\n",
      "    accuracy                           0.57       208\n",
      "   macro avg       0.59      0.58      0.56       208\n",
      "weighted avg       0.60      0.57      0.55       208\n",
      "\n",
      "ROC_AUC_SCORE is  0.5802916318380237\n"
     ]
    },
    {
     "data": {
      "image/png": "[encoded data removed]",
      "text/plain": [
       "<Figure size 640x480 with 1 Axes>"
      ]
     },
     "metadata": {},
     "output_type": "display_data"
    },
    {
     "data": {
      "image/png": "[encoded data removed]",
      "text/plain": [
       "<Figure size 640x480 with 2 Axes>"
      ]
     },
     "metadata": {},
     "output_type": "display_data"
    }
   ],
   "source": [
    "nb_results = MLT.tune_multinomial_nb(train_x_padded, train_y, val_x_padded, val_y)"
   ]
  },
  {
   "cell_type": "code",
   "execution_count": 53,
   "metadata": {
    "id": "jix9VQ-ikT4A"
   },
   "outputs": [],
   "source": [
    "best_nb_results_split = nb_results[0]"
   ]
  },
  {
   "cell_type": "markdown",
   "metadata": {
    "id": "2QqXf7B5kT4A"
   },
   "source": [
    "### ___5.6. Mô hình học sâu - LSTM___"
   ]
  },
  {
   "cell_type": "code",
   "execution_count": 54,
   "metadata": {
    "id": "dhCH4JS1kT4A"
   },
   "outputs": [],
   "source": [
    "train_x_prepared = np.array(train_x_padded)\n",
    "val_x_prepared = np.array(val_x_padded)\n",
    "\n",
    "train_y_prepared = np.array(train_y)\n",
    "val_y_prepared = np.array(val_y)"
   ]
  },
  {
   "cell_type": "code",
   "execution_count": 76,
   "metadata": {
    "id": "ZJHb6ItBkT4A"
   },
   "outputs": [
    {
     "name": "stdout",
     "output_type": "stream",
     "text": [
      "Trial 5 Complete [00h 01m 16s]\n",
      "val_accuracy: 0.5336538553237915\n",
      "\n",
      "Best val_accuracy So Far: 0.9471153616905212\n",
      "Total elapsed time: 00h 06m 07s\n"
     ]
    }
   ],
   "source": [
    "base_dir = r'sentiment_NK3'\n",
    "project_name = 'intro_to_kt3'\n",
    "directory = os.path.join(base_dir, project_name)\n",
    "\n",
    "if not os.path.exists(directory):\n",
    "    os.makedirs(directory)\n",
    "    print(f\"Created directory: {directory}\")\n",
    "else:\n",
    "    print(f\"Directory already exists: {directory}\")\n",
    "\n",
    "tuner = kt.RandomSearch(\n",
    "    build_model,\n",
    "    objective='val_accuracy',\n",
    "    max_trials=5,\n",
    "    executions_per_trial=1,\n",
    "    directory=base_dir,\n",
    "    project_name=project_name\n",
    ")\n",
    "\n",
    "# Tiến hành tìm kiếm siêu tham số\n",
    "tuner.search(train_x_prepared, train_y_prepared, epochs=10, validation_data=(val_x_prepared, val_y_prepared))"
   ]
  },
  {
   "cell_type": "code",
   "execution_count": 77,
   "metadata": {},
   "outputs": [
    {
     "name": "stdout",
     "output_type": "stream",
     "text": [
      "Best hyperparameters found:\n",
      "LSTM units: 64\n",
      "Number of LSTM layers: 1\n",
      "Learning rate: 0.0022261711101035104\n"
     ]
    }
   ],
   "source": [
    "# Lấy các siêu tham số tốt nhất\n",
    "best_hps = tuner.get_best_hyperparameters(num_trials=1)[0]\n",
    "print(\"Best hyperparameters found:\")\n",
    "print(f\"LSTM units: {best_hps.get('lstm_units')}\")\n",
    "print(f\"Number of LSTM layers: {best_hps.get('num_lstm_layers')}\")\n",
    "print(f\"Learning rate: {best_hps.get('learning_rate')}\")"
   ]
  },
  {
   "cell_type": "markdown",
   "metadata": {
    "id": "314U5IYEkT4B"
   },
   "source": [
    "# __6. Phân tích đánh giá câu ngắn - data split__"
   ]
  },
  {
   "cell_type": "markdown",
   "metadata": {
    "id": "1ZeMxMQFkT4B"
   },
   "source": [
    "### ___6.1. Đọc và tiền xử lý dữ liệu___"
   ]
  },
  {
   "cell_type": "code",
   "execution_count": 56,
   "metadata": {
    "colab": {
     "base_uri": "https://localhost:8080/"
    },
    "executionInfo": {
     "elapsed": 2415,
     "status": "ok",
     "timestamp": 1734288687688,
     "user": {
      "displayName": "Nguyễn Trương Hoàng",
      "userId": "04971599599493899416"
     },
     "user_tz": -420
    },
    "id": "6ZPPxvx3kT4B",
    "outputId": "09d02249-6e6d-4bcf-b870-219a19e606f3"
   },
   "outputs": [
    {
     "name": "stdout",
     "output_type": "stream",
     "text": [
      "   Unnamed: 0                                            comment  \\\n",
      "0         3.0                                           thun dày   \n",
      "1         4.0                                    túi có khóa kéo   \n",
      "2         NaN  mỗi lần size nhỏ nhắn cửa hàng đổi size to hơn...   \n",
      "3         8.0                                           quần dày   \n",
      "4         9.0                                  đã nhận được hàng   \n",
      "\n",
      "   sentiment_manual                                      word_tokenize  \n",
      "0                 1                                           thun dày  \n",
      "1                 1                                    túi có khóa kéo  \n",
      "2                 0  mỗi lần size nhỏ_nhắn cửa_hàng đổi size to hơn...  \n",
      "3                 1                                           quần dày  \n",
      "4                 1                                  đã nhận được hàng  \n"
     ]
    }
   ],
   "source": [
    "file_path1 = r'C:\\\\Users\\\\Nguyen_Thanh_Vinh\\\\Downloads\\\\NopThay\\\\preprocessed_data1.xlsx'\n",
    "df1 = pd.read_excel(file_path1)\n",
    "print(df1.head())"
   ]
  },
  {
   "cell_type": "markdown",
   "metadata": {
    "id": "B89JZfHCkT4C"
   },
   "source": [
    "### ___6.2. text vectorizer - word index - split___"
   ]
  },
  {
   "cell_type": "code",
   "execution_count": 57,
   "metadata": {
    "id": "0hiIlgW1kT4C"
   },
   "outputs": [],
   "source": [
    "all_tweets1 = df1['word_tokenize']\n",
    "all_tweets1 = [str(t) if not isinstance(t, str) else t for t in all_tweets1]"
   ]
  },
  {
   "cell_type": "code",
   "execution_count": 58,
   "metadata": {
    "id": "UjQxrO9gkT4C"
   },
   "outputs": [],
   "source": [
    "all_tweets_processed1 = [process_tweet(tweet) for tweet in all_tweets1]"
   ]
  },
  {
   "cell_type": "code",
   "execution_count": 59,
   "metadata": {
    "colab": {
     "base_uri": "https://localhost:8080/"
    },
    "executionInfo": {
     "elapsed": 17,
     "status": "ok",
     "timestamp": 1734288717446,
     "user": {
      "displayName": "Nguyễn Trương Hoàng",
      "userId": "04971599599493899416"
     },
     "user_tz": -420
    },
    "id": "SEvC9QuhkT4C",
    "outputId": "675f3a8b-f7a0-4e21-b9ea-b05e3e43c0e3"
   },
   "outputs": [
    {
     "name": "stdout",
     "output_type": "stream",
     "text": [
      "There are 6788 sentences for training.\n",
      "There are 6788 labels for training.\n",
      "\n",
      "There are 1697 sentences for validation.\n",
      "There are 1697 labels for validation.\n"
     ]
    }
   ],
   "source": [
    "# prompt: Tạo mảng x lưu trữ các giá trị trong cột word_tokenize và mảng y lưu trữ giá trị trong cột sentiment\n",
    "\n",
    "x1 = all_tweets_processed1\n",
    "y1 = df1['sentiment_manual'].values\n",
    "\n",
    "\n",
    "from sklearn.model_selection import train_test_split\n",
    "train_x1, val_x1, train_y1, val_y1 = train_test_split(x1, y1, test_size = 0.2, random_state = 42)\n",
    "\n",
    "print(f\"There are {len(train_x1)} sentences for training.\")\n",
    "print(f\"There are {len(train_y1)} labels for training.\\n\")\n",
    "print(f\"There are {len(val_x1)} sentences for validation.\")\n",
    "print(f\"There are {len(val_y1)} labels for validation.\")\n"
   ]
  },
  {
   "cell_type": "code",
   "execution_count": 60,
   "metadata": {
    "colab": {
     "base_uri": "https://localhost:8080/"
    },
    "executionInfo": {
     "elapsed": 15,
     "status": "ok",
     "timestamp": 1734288717446,
     "user": {
      "displayName": "Nguyễn Trương Hoàng",
      "userId": "04971599599493899416"
     },
     "user_tz": -420
    },
    "id": "t5zR2GKskT4C",
    "outputId": "072cfd56-368d-4c98-c469-98968d89bd6e"
   },
   "outputs": [
    {
     "name": "stdout",
     "output_type": "stream",
     "text": [
      "Vocabulary contains 1977 words\n",
      "\n",
      "{'': 0, '[UNK]': 1, 'tôi': 2, 'phải': 3, 'mua': 4, 'một': 5, 'chiếc': 6, 'áo': 7, 'khác': 8, 'để': 9, 'mặc': 10, 'túi': 11, 'khóa': 12, 'kéo': 13, 'tiện_lợi': 14, 'đựng': 15, 'điện_thoại': 16, 'mình': 17, 'nghĩ': 18, 'thêu': 19, 'thì': 20, 'đẹp': 21, 'hơn': 22, 'gói': 23, 'hàng': 24, 'cẩn_thận': 25, 'sale': 26, 'giá': 27, 'tốt': 28, 'cảm_giác': 29, 'như': 30, 'đồ': 31, 'cũ': 32, 'vậy': 33, '🤔 __sao': 34, 'vì': 35, 'sự': 36, 'bất_cẩn': 37, 'lại': 38, 'rẻ': 39, 'bất_ngờ': 40, 'lãng_phí': 41, 'tiền': 42, 'nhưng_mà': 43, 'nó': 44, 'chỉ': 45, 'là': 46, 'sản_phẩm': 47, 'may_đo': 48, 'thôi': 49, 'cửa_hàng': 50, 'tư_vấn': 51, 'chọn': 52, 'size': 53, 'vừa': 54, 'vặn': 55, 'áp_dụng': 56, 'mã': 57, 'đừng': 58, 'mà': 59, 'mất': 60, 'chất_lượng': 61, 'đặt': 62, 'xin_lỗi': 63, 'nhưng': 64, 'nhận': 65, 'được': 66, 'xl': 67, 'đã': 68, 'bị': 69, 'xóa': 70, 'thành': 71, 'giao': 72, 'đúng': 73, 'mẫu': 74, 'và': 75, 'rất': 76, 'đáng': 77, 'ở': 78, 'nhà': 79, 'cũng': 80, 'ổn': 81, 'luôn': 82, 'đi': 83, 'chơi': 84, 'học': 85, 'cảm_thấy': 86, 'hài_lòng': 87, 'với': 88, 'này': 89, 'mặc_dù': 90, 'chật': 91, 'đ': 92, 'in': 93, 'sắc': 94, 'nét': 95, 'form': 96, 'màu': 97, 'giống': 98, 'mịn': 99, 'không': 100, 'sẽ': 101, 'tiếp_tục': 102, 'ủng_hộ': 103, 'dài_dài': 104, 'trong': 105, 'tương_lai': 106, 'quá': 107, 'chồng': 108, 'trông': 109, 'thật': 110, 'tuyệt': 111, 'đóng_gói': 112, 'phù_hợp': 113, 'sờ': 114, 'vào': 115, 'thích': 116, 'vải': 117, 'mềm_mại': 118, 'thoải_mái': 119, 'ảnh': 120, 'của': 121, 'thấy': 122, 'mặt': 123, 'sau': 124, 'nên': 125, 'biết': 126, 'nhiều': 127, 'lần': 128, 'rồi': 129, 'cần': 130, 'nói': 131, 'từ': 132, 'trường_chinh': 133, 'đến': 134, 'tây': 135, 'sơn': 136, 'ngày': 137, 'mới': 138, 'chiều': 139, 'cao': 140, 'cân': 141, 'nặng': 142, 'phần': 143, 'cạp': 144, 'quần': 145, 'có': 146, 'thắt_lưng': 147, 'dễ': 148, 'điều_chỉnh': 149, 'nhanh': 150, 'trả': 151, 'màu_sắc': 152, 'tiêu_chuẩn': 153, 'khá': 154, 'thất_vọng': 155, 'hơi': 156, 'có_điều': 157, 'tệ': 158, 'thân_thiện': 159, 'bộ_đồ': 160, 'tặng': 161, 'hợp_lý': 162, 'làm': 163, 'bằng': 164, 'coton': 165, 'chất_liệu': 166, 'nâu': 167, 'còn': 168, 'cổ': 169, 'co_giãn': 170, 'tại_sao': 171, 'bạn': 172, 'quần_đen': 173, 'sơ_mi': 174, 'trắng': 175, 'họ': 176, 'đen': 177, 'mát': 178, 'hộp': 179, 'đầy_đủ': 180, 'hy_vọng': 181, 'cải_thiện': 182, 'tới': 183, 'mua_sắm': 184, 'các': 185, 'nylon': 186, 'cho': 187, 'lỗi': 188, 'bảo': 189, 'giặt': 190, 'sạch': 191, 'săn': 192, 'k': 193, 'thế_này': 194, 'tuyệt_vời': 195, 'gửi': 196, 'nhìn': 197, 'tươi_sáng': 198, 'trẻ_trung': 199, 'đây': 200, 'đầu_tiên': 201, 'khi': 202, 'mở': 203, 'ra': 204, 'thực_sự': 205, 'nhăn': 206, 'giá_cả': 207, 'hình_dáng': 208, 'dày': 209, 'dặn': 210, 'co': 211, 'giãn': 212, 'nói_chung': 213, 'đầu': 214, 'làm_quà': 215, 'sang_trọng': 216, 'thiết_kế': 217, 'đánh_giá': 218, 'quần_short': 219, 'hoàn_hảo': 220, 'thời_tiết': 221, 'nóng_bức': 222, 'rộng': 223, 'năng_động': 224, 'nóng_xíu': 225, '🤣': 226, 'mốc': 227, 'thứ': 228, 'nếu': 229, 'nhấn': 230, 'phản_hồi': 231, 'bố': 232, 'hẹn': 233, '👌': 234, 'ghé': 235, 'tip': 236, 'quà': 237, 'sing': 238, 'chảnh': 239, 'vẫn': 240, 'dính': 241, 'cơ_thể': 242, 'ngay': 243, 'cả': 244, 'gì': 245, 'sai_sót': 246, 'short': 247, 'thời_trang': 248, 'tiếc': 249, 'bẩn': 250, 'chỗ': 251, 'lắm': 252, '👏': 253, 'thoạt': 254, 'góc': 255, 'cảnh_báo': 256, '❌ __bạn': 257, 'phải_chăng': 258, 'mềm': 259, 'cảm_ơn': 260, '😘': 261, 'vài': 262, 'thành_công': 263, '❤': 264, '️': 265, 'cổ_áo': 266, 'nóng': 267, 'quần_áo': 268, 'mưa': 269, 'hình_chút': 270, 'nào': 271, 'nấy': 272, 'như_vậy': 273, 'hoa': 274, 'trên': 275, 'hình': 276, 'nhìn_chung': 277, 'có_thể': 278, 'ngủ': 279, 'sao': 280, 'nhé': 281, 'tiết_lộ': 282, 'thông_tin': 283, 'khách_hàng': 284, 'nhẹ': 285, 'mức': 286, 'quay': 287, 'so': 288, 'mọi': 289, 'người': 290, '😍': 291, 'xứng_đáng': 292, 'nhỏ': 293, 'ml': 294, 'ơi': 295, 'thể_thao': 296, 'viền': 297, 'khâu': 298, 'hồng': 299, 'nữa': 300, 'm': 301, 'ghi': 302, 'kg': 303, 'con': 304, 'trai': 305, 'hãy': 306, 'tiêu_dùng': 307, 'thông_thái': 308, 'đổi': 309, 'ngoại_trừ': 310, 'hình_ảnh': 311, 'mỏng': 312, 'lá': 313, 'lúa': 314, 'tay': 315, 'hay': 316, 'đó': 317, 'uy_tín': 318, 'theo': 319, 'mãi': 320, 'hey': 321, 'gu': 322, 'màn_hình': 323, 'sang_trọng_siêu': 324, 'dễ_thương': 325, 'miếng': 326, 'giẻ': 327, 'rách': 328, 'áo_dài': 329, 'thậm_chí': 330, 'kém': 331, 'đàn': 332, 'hồi': 333, 'dịch_vụ': 334, 'áo_phông': 335, 'riêng': 336, 'thư': 337, 'muốn': 338, 'tăng': 339, 'lên': 340, 'trở': 341, 'xuống': 342, 'đủ': 343, 'dịp': 344, 'lem': 345, 'khắp': 346, 'bó': 347, 'chặt': 348, 'ngắn': 349, 'dùng': 350, 'xấu': 351, 'cỡ': 352, 'quan_tâm': 353, 'bộ': 354, 'chờ': 355, 'lâu': 356, 'không_thể': 357, 'giải_quyết': 358, 'vấn_đề': 359, 'dài': 360, 'lấy': 361, 'hehe': 362, 'hỗ_trợ': 363, 'tìm': 364, 'áo_khoác': 365, 'đùi': 366, 'tùy': 367, 'sẵn': 368, 'phục_vụ': 369, 'thái_độ': 370, 'chu_đáo': 371, 'dễ_chịu': 372, 'cứ': 373, 'xem': 374, 'thư_cảm_ơn': 375, 'thêm': 376, 'basic': 377, 'chống': 378, 'thấm': 379, 'nước': 380, 'chưa': 381, 'thử': 382, 'phòng': 383, 'tập_thể_dục': 384, 'hoặc': 385, 'chạy': 386, 'mong_đợi': 387, 'dự_kiến': 388, 'mát_mẻ': 389, 'thùng': 390, 'thình_': 391, '🥲': 392, 'chất': 393, 'bao_bì': 394, 'nhắn': 395, 'bao_nhiêu': 396, 'tin': 397, 'ai': 398, 'trả_lời': 399, 'cung_cấp': 400, 'túi_tiền': 401, 'đường': 402, 'may': 403, 'cực': 404, 'anh': 405, 'đưa': 406, 'cái': 407, 'hóa': 408, 'núm_vú': 409, 'hở': 410, 'thời_buổi': 411, 'tin_hình': 412, 'mạng': 413, 'áo_mềm': 414, 'thu_hồi_không_thể': 415, 'váy': 416, 'bán': 417, 'điều': 418, 'xám': 419, 'xanh': 420, 'thoáng_khí': 421, 'kiểm_tra': 422, 'trước': 423, 'tiếp': 424, 'mùa': 425, 'hè': 426, 'năm': 427, 'sợi': 428, 'thừa': 429, 'năm_ngoái': 430, 'thun': 431, 'lo': 432, 'tuyệt_vọng': 433, 'đều': 434, 'khen': 435, 'đâu': 436, 'thế': 437, 'mal': 438, 'cao_cấp': 439, 'gọi': 440, 'điện': 441, 'năn_nỉ': 442, 'công_bằng': 443, 'trung_thực': 444, 'cùng': 445, 'phân_khúc': 446, 'dưới': 447, 'lựa_chọn': 448, 'những_ai': 449, 'đang': 450, 'tìm_kiếm': 451, 'trực_tuyến': 452, 'giảm_giá': 453, 'khoảng': 454, 'mát_mẻ_phù_hợp': 455, 'vừa_vặn': 456, 'dây': 457, 'đeo': 458, 'lỏng': 459, 'giờ': 460, 'tuần': 461, 'nhắn_tin': 462, 'im_mồm': 463, 'nhàu_nát': 464, '😌 __tránh': 465, 'xa': 466, 'nhầm_lẫn': 467, 'duy_trì': 468, 'hình_thức': 469, 'kích_thước': 470, 'haha': 471, 'hút': 472, 'mồ_hôi': 473, 'gọn_gàng': 474, 'mẫu_mã': 475, 'chuẩn': 476, 'ủi': 477, 'phía': 478, 'giả_mạo': 479, 'đặt_hàng': 480, 'lúng_túng': 481, 'hiểu': 482, 'mục_đích': 483, 'a': 484, 'bắt': 485, 'bóng': 486, 'cắt': 487, 'vui_lòng': 488, 'thu_hè': 489, 'thoáng': 490, 'xác_nhận': 491, 'siêu': 492, 'đắt': 493, 'nhất': 494, 'số_lượng': 495, 'sjop': 496, 'chắc_chắn': 497, 'sử_dụng': 498, 'mùi': 499, 'thơm': 500, 'nhiệt_tình': 501, 'thêu_sắc': 502, 'nilon': 503, 'sezi': 504, 'to': 505, 'rác': 506, 'phong_cách': 507, 'số': 508, 'đo': 509, 'tham_khảo': 510, 'đầu_gối': 511, 'lớn': 512, 'định': 513, 'nhờ': 514, 'viết': 515, 'giúp': 516, 'tấm': 517, 'thiệp': 518, 'bỏ': 519, 'thời_gian': 520, 'loại': 521, 'phai': 522, 'ngày_tháng': 523, 'gấp': 524, 'mẹ': 525, 'loang': 526, 'cầm': 527, 'chần_chừ': 528, 'đơn_giản': 529, 'sạch_sẽ': 530, 'kinh_khủng': 531, 'sinh_viên': 532, 'hướng_dẫn': 533, 'cực_kỳ': 534, 'thật_sự': 535, 'người_yêu': 536, 'tin_tưởng': 537, 'vai': 538, 'bụng': 539, 'to__ 🤣': 540, 'thường_xuyên': 541, '😙': 542, 'tỏ_tình': 543, 'sản_phẩm_ổn': 544, 'chậm': 545, 'ox': 546, 'một_chút': 547, 'nhầm': 548, 'thình': 549, 'lít': 550, 'gấu_quần': 551, 'mong': 552, 'hơn_nữa': 553, 'có_lẽ': 554, 'đối_với': 555, 'cửa_hàng_nghìn': 556, 'mỗi': 557, 'đơn': 558, 'hề': 559, 'bực': 560, 'ạ': 561, 'tiếp_tục_ủng_hộ': 562, 'cơ_hội': 563, 'siêu_sắc': 564, 'tỉ_mỉ': 565, 'tê_liệt': 566, 'sốc': 567, 'tốc_độ': 568, 'vặn_thoải_mái': 569, 'mô_tả': 570, 'chính_xác': 571, 'pha_trộn': 572, 'yêu_cầu': 573, '🥰': 574, 'tông': 575, 'tờ': 576, 'giấy': 577, 'em_trai': 578, 'lớp': 579, 'việc': 580, 'giỏi': 581, 'thắt': 582, 'người_thân': 583, 'chuyển': 584, 'phát': 585, 'tôn_dáng': 586, 'vàng': 587, 'chủ': 588, 'hàng_không': 589, 'siêu_đẹp': 590, 'chứng_nhận': 591, 'vận_chuyển': 592, 'l': 593, 'khuyến_mãi': 594, 'phối': 595, 'cơ_bản': 596, 'thương_hiệu': 597, '🖲': 598, '__ ️': 599, '💵': 600, 'vui_vẻ': 601, 'cửa_hàng_không': 602, 'thường': 603, 'tạm_thời': 604, 'quản_lý': 605, 'khuyên': 606, 'chà_xát': 607, 'sành_điệu': 608, 'xong': 609, 'nhăn_nhúm': 610, 'bao_giờ': 611, 'dịch_vụ_tệ': 612, 'chị_em': 613, 'giây': 614, 'chật_mặc_dù': 615, 'làm_ăn_tệ': 616, 'về': 617, 'cửa_hàng_tệ': 618, 'hoàn_tiền': 619, 'phức_tạp': 620, 'hôm_qua': 621, 'thương_hiệu_giảm_giá': 622, 'quần_hơi': 623, 'quá_trình': 624, 'lộ': 625, 'suýt': 626, 'lừa': 627, 'đổ': 628, 'ướt': 629, 'chút': 630, 'xinh': 631, 'nhãn': 632, 'mác': 633, 'cách': 634, 'được_giá': 635, 'kịp': 636, 'tết': 637, 'ôm': 638, 'sát': 639, 'chặt_chẽ': 640, 'ap': 641, 'kcái': 642, 'điểm': 643, 'cập_nhật': 644, 'xu_hướng': 645, 'hà_nội': 646, 'tuyên_quang': 647, 'nhãn_mác': 648, 'giao_bộ': 649, 'làm_bộ': 650, 'mẹo': 651, 'vạt': 652, 'phụ_nữ': 653, '🤩': 654, 'công_ty': 655, 'chi_tiết': 656, 'hoàn_thiện': 657, 'chất_lượng_thế_này': 658, 'cong': 659, 'trang_phục': 660, 'qua': 661, 'shope_mal': 662, '😎': 663, 'tiktok': 664, 'mảnh': 665, 'bung': 666, 'khỏi': 667, 'rơi': 668, 'khắp_nơi': 669, 'bên': 670, 'giao_đến_nơi': 671, 'nhau': 672, 'bền': 673, 'phông': 674, 'thành_phố': 675, 'vô_trách_nhiệm': 676, 'xvnvc': 677, 'cực_hot': 678, 'mà_lại': 679, 'bí': 680, 'vô_cùng': 681, 'bao': 682, 'bì_hộp': 683, 'quên': 684, 'chụp': 685, 'video': 686, 'nơi': 687, 'tông_làm_quà': 688, 'nan': 689, 'lúc': 690, 'chuyên_nghiệp': 691, 'cm': 692, 'giảm': 693, 'chấp_nhận': 694, 'cầu_kỳ': 695, 'lưng': 696, 'thông_cảm': 697, 'lâu_dài': 698, 'ah': 699, 'bộ_phận': 700, 'ivy': 701, 'tính': 702, 'thanh_xuân': 703, 'cầu': 704, '❤ _': 705, '_chúc': 706, 'may_mắn': 707, 'bán_chạy': 708, 'than': 709, 'nhóm': 710, 'khoe': 711, 'otp': 712, 'giả': 713, 'dày_dặn': 714, 'ngoài': 715, 'sai': 716, 'ấy': 717, 'bất_kỳ': 718, 'chính': 719, 'hãng': 720, 'thẻ_game': 721, 'giải_thưởng': 722, 'hôm': 723, 'z': 724, 'phí': 725, 'đám': 726, 'đông': 727, 'kiểu': 728, 'nhà_sản_xuất': 729, 'size_xin_lỗi': 730, 'giữ': 731, 'ấm': 732, 'chun': 733, 'suy_nghĩ': 734, 'như_thế_nào': 735, 'chuẩn_bị': 736, 'đợt': 737, 'đứt': 738, 'hẳn': 739, 'phủ': 740, 'kín': 741, 'hoàn_toàn': 742, 'vòng': 743, 'eo_chắc': 744, 'kiểu_dáng': 745, 'hình_in': 746, 'saco': 747, 'lạ': 748, 'quần_xám': 749, 'tránh': 750, 'dám': 751, 'hoa_văn': 752, 'shope': 753, 'nhậu': 754, 'bạn_bè': 755, 'kem': 756, 'chăn': 757, 'hài': 758, 'ngồi': 759, 'cười': 760, 'khó': 761, 'áo_chất_lượng': 762, 'bảng': 763, 'mắt': 764, 'làm_việc': 765, 'bình_thường': 766, 'tập': 767, 'tạ': 768, 'đồng_tiền': 769, 'chúng': 770, 'thô': 771, 'tưởng': 772, 'hiệu': 773, 'nửa': 774, 'triệu': 775, 'cơ_': 776, 'ngày_càng': 777, 'vì_vậy': 778, 'buồn': 779, 'lịch_sự': 780, 'tháo': 781, 'thì_có': 782, 'vết': 783, 'chữ': 784, 'xé': 785, 'toạc': 786, 'xáo_trộn': 787, 'y_như': 788, 'ga': 789, 'món': 790, 'dành': 791, 'những': 792, 'nặng_nề': 793, 'quan_trọng': 794, 'hết': 795, 'xem_lại': 796, 'ehe': 797, 'mấy': 798, 'toàn': 799, 'chán': 800, 'bó_sát_cơ_thể': 801, 'hoàn_cảnh': 802, 'mại': 803, 'đặc_biệt': 804, 'hương': 805, 'ngờ': 806, 'tiếp_theo': 807, 'dịch_bệnh': 808, 'sửa': 809, '\\u200b': 810, 'làm_ăn': 811, 'ố_vàng': 812, 'khuyến_mại': 813, 'tạm': 814, 'tầm_sắc': 815, 'yêu_kế': 816, 'ca': 817, 'x': 818, 'phát_triển': 819, 'mạnh_mẽ': 820, 'chất_tẩy': 821, 'rửa': 822, 'hỏi': 823, 'chứ': 824, 'áo_sơ_mi': 825, 'ngả': 826, 'lừa_đảo': 827, 'quần_ba_ba': 828, 'tổ': 829, 'ong': 830, 'da': 831, 'cá': 832, 'cất': 833, 'tủ': 834, 'tháng': 835, 'ful': 836, 'color': 837, 'bàn_cãi': 838, 'vote': 839, 'phàn_nàn': 840, 'lưu_ý': 841, 'sớm': 842, 'quê': 843, 'thiếu': 844, 'khí': 845, 'kinh_hoàng': 846, 'đáng_giá': 847, 'tâm': 848, 'mang': 849, 'tự_động': 850, 'hủy': 851, 'mặt_hàng': 852, 'nhận_dạng': 853, 'xu': 854, 'tóm_lại': 855, 'đóng_gói_cẩn_thận': 856, 'cố': 857, 'cân_nhắc': 858, 'đọc': 859, 'sai_lầm': 860, 'tay_áo': 861, 'max': 862, 'hình_dáng_hộp': 863, 'hiện_đại': 864, 'quái': 865, 'thiếu_hụt': 866, 'do': 867, 'chủ_quan': 868, 'chỉnh_sửa': 869, 'bình_luận': 870, 'bong': 871, 'ống': 872, 'thề': 873, 'ngoài_ra': 874, 'thế_nào': 875, 'siêu_mát': 876, 'vải_thun': 877, 'lạnh': 878, 'áo_vest': 879, 'hời': 880, 'chết': 881, 'tiệt': 882, 'cảm_giác_mềm': 883, 'sờn': 884, 'l_vừa_vặn': 885, 'vừa_phải': 886, 'mát_đẹp': 887, 'thoáng_mát': 888, 'máy': 889, 'giống_hệt_hình': 890, 'có_vẻ': 891, 'hư_hỏng': 892, 'tỉnh': 893, 'kỹ': 894, 'bạnu': 895, 'đỏ': 896, 'đậm': 897, 'thẩm_mỹ': 898, 'kia': 899, 'mực': 900, 'ngạc_nhiên': 901, 'ngọt_ngào': 902, 'khô': 903, 'trò': 904, 'chợ': 905, 'dập': 906, 'nổi': 907, '🧡': 908, 'dệt_nhuộm': 909, 'im_lặng': 910, '🙂': 911, '👍': 912, 'tuy_nhiên': 913, 'gò': 914, 'giặt_là': 915, 'thở_dài': 916, 'giá_cả_phải_chăng': 917, 'nhanh_chóng': 918, 'mỡ': 919, 'tan': 920, 'bà': 921, 'già': 922, 'lười': 923, 'capman': 924, 'yan': 925, 'thương': 926, 'deal': 927, 'chú_ý': 928, 'rộng_rãi': 929, 'em': 930, 'kinh_doanh': 931, 'gần': 932, '😤': 933, 'size_xl': 934, '😗': 935, 'thấm_hút': 936, 'thích_hợp': 937, 'chênh_lệch': 938, 'áo_k': 939, 'tầng': 940, 'khác_gì': 941, 'mớ': 942, 'nghe': 943, 'quần_nam': 944, '😂': 945, 'tệ_thế': 946, 'loang_lổ': 947, 'nhà_cung_cấp': 948, 'chắc': 949, 'lời': 950, 'cần_thiết': 951, 'kén': 952, 'dán': 953, 'vớ_vẩn': 954, 'trơn': 955, 'coi': 956, 'bỏ_qua': 957, 'lau': 958, 'kể': 959, 'bây_giờ': 960, 'body': 961, 'carton': 962, 'logo': 963, 'chúc': 964, 'data_shet': 965, 'eo': 966, 'bạc_màu': 967, 'cứng_cáp': 968, 'ủng_hộ_cửa_hàng': 969, 'chủ_nhân': 970, 'gió': 971, 'ưng_ý': 972, 'trước_đây': 973, 'cuối_cùng': 974, 'trực_tiếp': 975, 'tại': 976, 'khó_chịu': 977, 'dạo': 978, 'phố': 979, 'tôn_trọng': 980, 'một_cách': 981, 'cẩu_thả': 982, 'cụ_thể': 983, 'nóng_mặc': 984, 'liên_hệ': 985, 'khác_biệt': 986, 'rõ': 987, 'vỡ': 988, 'áo_bền': 989, 'gặp': 990, 'đòi_hỏi': 991, 'mjk': 992, 'dầu': 993, 'rằng': 994, 'hình_dạng': 995, 'thông_minh': 996, 'đóng_hộp': 997, 'khách': 998, 'trung_tâm_thương_mại': 999, 'chốt': 1000, 'tiền_bạc': 1001, 'bận_tâm': 1002, 'khoảng_cách': 1003, 'quần_đẹp': 1004, 'kích_cỡ': 1005, 'style': 1006, 'hàn_quốc': 1007, 'đa_dạng': 1008, 'sót': 1009, 'phơi_bày': 1010, 'hoàn': 1011, 'quần_ống': 1012, 'nam': 1013, 'đoán': 1014, 'bất_cứ': 1015, 'giao__': 1016, '🤦 🏻': 1017, '__ \\u200d': 1018, '_ ♀': 1019, 'vô_cớ': 1020, 'một_số': 1021, 'crop_top': 1022, 'tối': 1023, 'trời': 1024, 'đời': 1025, 'quả': 1026, 'thỏa': 1027, 'mãn': 1028, 'luộm_thuộm': 1029, 'xấu_xí': 1030, 'quán': 1031, 'thứ_hài': 1032, 'hạnh': 1033, 'thông_tây': 1034, 'gái': 1035, 'sáng': 1036, 'bảo_mẫu': 1037, 'mũm': 1038, 'mĩm': 1039, 'trải_nghiệm': 1040, 'đền_bù': 1041, 'sho': 1042, 'nhãn_hiệu': 1043, 'áo_hiệu': 1044, 'clip': 1045, 'sâu': 1046, 'nông': 1047, 'quần_mát': 1048, 'mực_thừa': 1049, '😐': 1050, 'nhất_thiết': 1051, 'trích': 1052, 'giày': 1053, 'tiết_kiệm': 1054, 'bọc': 1055, 'cap': 1056, 'quần_phù_hợp': 1057, 'tổng_thể': 1058, 'rõ_ràng': 1059, '😇': 1060, 'hihi': 1061, '😩': 1062, 'ngưỡng_mộ': 1063, 'ảo': 1064, 'thực_chất': 1065, 'gốc': 1066, 'kèm': 1067, '😄': 1068, 'trách_nhiệm': 1069, 'nhân_viên': 1070, 'học_sinh': 1071, 'chạm': 1072, 'thuốc_nhuộm': 1073, 'huỳnh_quang': 1074, 'video_mag': 1075, 'tính_năng': 1076, 'công_nhận': 1077, 'thay': 1078, 'quần_xl': 1079, '😡': 1080, 'đơn_vị': 1081, '😓': 1082, 'nhắn_tn': 1083, 'phút': 1084, 'tn': 1085, '😅': 1086, 'cứng_đầu': 1087, 'độ': 1088, 'tiệm': 1089, 'phô': 1090, 'mai': 1091, 'que': 1092, 'pha': 1093, 'đáp_ứng': 1094, 'điều_kiện': 1095, 'lỗ': 1096, 'thủng': 1097, 'lụa': 1098, 'đá': 1099, 'shiper': 1100, 'siêu_tôn_dáng': 1101, 'khẩu_trang': 1102, 'chăm_sóc': 1103, 'tận_tâm': 1104, 'đồng_ý': 1105, 'cứng': 1106, 'ber': 1107, 'de': 1108, 'dong': 1109, 'leng': 1110, 'việt_nam': 1111, 'hot': 1112, 'hit': 1113, 'giao_sản_phẩm': 1114, 'liên_lạc': 1115, 'thích_dáng': 1116, 'tốt_lành': 1117, 'áo_dày': 1118, 'giới_thiệu': 1119, 'nội_thành': 1120, 'hóa_tệ': 1121, 'như_thế': 1122, 'lỏng_lẻo': 1123, 'nơ': 1124, 'xám_nhạt': 1125, 'size_l': 1126, 'nhỏ_xíu': 1127, 'mối': 1128, 'quan_hệ': 1129, 'tư_vấn_nhiệt_tình': 1130, 'tốn': 1131, 'một_nửa': 1132, 'điều_kiện_trả': 1133, 'chính_sách_đổi_ý': 1134, 'nhu_cầu': 1135, 'sau_này': 1136, 'yên_tâm': 1137, 'nữ': 1138, '⭐': 1139, 'chất_liệu_lụa': 1140, 'xù': 1141, 'khả_năng': 1142, 'thông_báo': 1143, 'ý': 1144, 'ngẫu_nhiên': 1145, 'khen_cửa_hàng': 1146, 'buộc': 1147, 'quanh': 1148, 'mặt_nạ_hiệu': 1149, 'ngực': 1150, 'trung_bình': 1151, 'tôn': 1152, 'mịn_màng': 1153, 'trừ': 1154, 'sợ': 1155, 'bé': 1156, 'đứng': 1157, 'xệ': 1158, 'rẻ_tiền': 1159, 'ngại_ngùng': 1160, 'thưa': 1161, 'lựa_chọn_màu_sắc': 1162, 'điền': 1163, 'đốm': 1164, 'một_vài_điểm': 1165, 'ố': 1166, 'gấu': 1167, 'giao_váy': 1168, 'tay_không': 1169, 'tính_chất': 1170, 'người_mẫu': 1171, '🏻': 1172, 'siêu_siêu': 1173, 'tuổi': 1174, 'che': 1175, 'mông': 1176, 'thực': 1177, 'xinh_xắn': 1178, 'đặc_tính': 1179, 'phụ_thuộc': 1180, 'xử_lý': 1181, 'vỏ': 1182, 'tuyệt_thước': 1183, 'tiêu_sắc_kế': 1184, 'hấp_dẫn': 1185, 'trọng_lượng': 1186, 'háo_hức_chờ_đợi': 1187, 'mệt_mỏi': 1188, 'chờ_đợi': 1189, 'cô': 1190, 'nàng': 1191, 'tự_ý': 1192, 'báo': 1193, 'baby': 1194, 'he': 1195, 'oi': 1196, 'hộp_siêu': 1197, 'lãng_phí_tiền_bạc': 1198, 'diễn_tả': 1199, 'không_chỉ': 1200, 'đóng': 1201, 'dấu_hiệu': 1202, 'móp': 1203, 'cháo': 1204, 'nay': 1205, 'thanh_lịch': 1206, 'trung_tâm': 1207, 'thương_mại': 1208, 'dù': 1209, 'nhét': 1210, 'thành_phẩm': 1211, 'cần_tính': 1212, 'áp_dụng_mã': 1213, 'cần_câu': 1214, 'tối_qua': 1215, 'câu': 1216, 'bổ_dưỡng': 1217, 'nồng': 1218, 'hồn': 1219, 'c_size_l': 1220, 'be': 1221, 'rêu': 1222, 'coban': 1223, 'tự_nhiên': 1224, 'tận': 1225, 'điên': 1226, 'suôn_sẻ': 1227, '🤡 _nhắn_tin': 1228, '🙃': 1229, 'áp_mã': 1230, 'đành': 1231, 'trẻ': 1232, 'trung_năng_động': 1233, 'phân_biệt': 1234, 'miền': 1235, 'bắc': 1236, 'lông': 1237, 'làm_sao': 1238, '🖕': 1239, 'nguyên': 1240, 'tem': 1241, 'tag': 1242, 'hôm_nay': 1243, 'coi_thường': 1244, 'đợi': 1245, 'áp_dụng_mã giảm_giá': 1246, 'chi_nhánh': 1247, 'dao': 1248, 'đen_k': 1249, 'vương_miện': 1250, 'cổ_tròn': 1251, 'ngàn': 1252, 't': 1253, 'hài_bộ': 1254, 'cháu': 1255, 'anh_chàng': 1256, 'may_cẩu_thả': 1257, 'thích_bộ': 1258, 'có_giá': 1259, 'đô_la': 1260, 'thể_hiện': 1261, 'phơi': 1262, 'toàn_bộ': 1263, 'nếp': 1264, 'ngôi': 1265, 'miễn_phí': 1266, 'buồn_cười': 1267, 'tinh_tế': 1268, 'bát': 1269, 'gạo': 1270, '🥹': 1271, 's': 1272, 'quần_bó': 1273, 'bơi': 1274, 'suy_nghĩ_lại': 1275, 'sự_thật': 1276, 'tất_cả': 1277, 'xuất_sắc': 1278, 'rũ': 1279, 'áo_nỉ': 1280, '😊': 1281, 'toàn_thân': 1282, 'lớp_học_tập': 1283, 'đồ_ăn': 1284, 'ngon': 1285, 'chúng_tôi': 1286, 'địa_chỉ': 1287, 'lưới': 1288, 'xuyên': 1289, 'nhất_định': 1290, '❤ __': 1291, '️ _': 1292, '️ ❤': 1293, 'phiếu': 1294, 'bảo_hành': 1295, 'kèm_thư': 1296, 'house': 1297, 'nhuộm': 1298, 'nhắn_tin_đổi': 1299, 'tự': 1300, 'hạt_dẻ': 1301, 'hộ': 1302, 'ổn_áp': 1303, 'tầm_giá': 1304, 'thanh_toán': 1305, 'gập': 1306, 'tất_cả_quần_áo': 1307, 'nhàm': 1308, 'xỉn': 1309, 'ấn_tượng': 1310, 'tệ_': 1311, '😢': 1312, 'cũng_nên': 1313, 'lun': 1314, 'siêu_ổn': 1315, '✨': 1316, 'bền_màu': 1317, 'trắng_mới_tinh': 1318, 'chị_gái': 1319, 'ý_kiến_ \\u200b': 1320, 'liền': 1321, 'kinh_tởm': 1322, 'trắng_ủi': 1323, 'huhu': 1324, 'giới_hạn': 1325, 'báo_cáo': 1326, 'cửa_hàng_liên_hệ': 1327, 'xu_': 1328, '🫰': 1329, 'tốt_như_vậy': 1330, 'nma': 1331, '\\U0001fae8': 1332, 'từ_bỏ': 1333, '_ ️': 1334, '__ 💝': 1335, '🤗': 1336, 'thà': 1337, 'công_nhân': 1338, 'thức_ăn': 1339, 'shop': 1340, '…': 1341, 'regular': 1342, 'fit': 1343, 'vaiz': 1344, 'méo': 1345, 'kết_hợp': 1346, 'áo_polo': 1347, 'cafe': 1348, 'khách_hàng_không': 1349, 'hình_mình': 1350, 'trân_trọng': 1351, 'thực_sự_bất_ngờ': 1352, 'bực_mình': 1353, 'siêu_chu_đáo': 1354, '👌 __': 1355, 'mũ': 1356, 'facebok': 1357, 'check': 1358, 'mac': 1359, 'tả': 1360, 'tiêu_hao': 1361, 'nhiên_liệu': 1362, 'bao_gồm': 1363, 'minh_họa': 1364, '_ ❤': 1365, 'mơ_hồ': 1366, 'trưng_bày': 1367, 'thử_nghiệm': 1368, 'treo': 1369, 'dê': 1370, 'thịt': 1371, 'chó': 1372, 'yêu': 1373, 'giá_trị': 1374, 'tố_cáo': 1375, 'tầm': 1376, 'series': 1377, 'giao_dịch': 1378, 'cá_nhân': 1379, 'dáng': 1380, 'thị_trường': 1381, 'lượng': 1382, 'kết_bạn': 1383, 'quần_siêu': 1384, 'tương_xứng': 1385, 'mix_size': 1386, 'eo_thon': 1387, 'quần_t': 1388, 'nhiệt_chất_lượng': 1389, '😜': 1390, 'tin_cậy': 1391, 'tự_tin': 1392, 'mượt': 1393, 'rcm': 1394, 'đội_ngũ': 1395, 'cho_dù': 1396, 'thấp': 1397, 'áo sơ_mi_quảng_châu': 1398, 'nắng': 1399, 'chán_ngắt': 1400, 'cửa_hàng_ 🥰': 1401, 'up': 1402, 'tập_gym': 1403, 'ông': 1404, 'tâm_huyết': 1405, 'cảm_xúc': 1406, 'trà': 1407, 'sữa': 1408, 'ổn_định': 1409, 'quảng_cáo': 1410, 'chủng_loại': 1411, 'tvan': 1412, 'quần_trắng': 1413, 'may_sai': 1414, 'giải_thích': 1415, 'may_mà': 1416, 'size_nhiệt_tình': 1417, 'cạnh': 1418, 'hi': 1419, 'áo_hơi': 1420, 'mã_giảm_giá': 1421, 'thẻ_atm': 1422, 'tiếng': 1423, '🫶': 1424, '_ 🏻': 1425, '__ 🫶': 1426, 'vừa_mới': 1427, '🙄': 1428, 'anh_trai': 1429, '💚': 1430, '💙': 1431, 'ít': 1432, 'voan': 1433, 'xí': 1434, 'thích_hợp_mặc': 1435, 'đường_nét': 1436, 'quần_hợp': 1437, 'ba': 1438, 'bốn': 1439, 'sáu_bảy': 1440, 'tám': 1441, 'chín': 1442, 'mười': 1443, 'ma': 1444, 'khuyết_điểm': 1445, 'một_chiều': 1446, 'trang_nhã': 1447, 'nhớ': 1448, 'dự_đoán': 1449, 'ghét': 1450, 'giảm_giá_k': 1451, 'tin_nhắn': 1452, 'dcd': 1453, 'phép': 1454, 'thành_thật': 1455, 'lòi': 1456, 'hoạt_động': 1457, 'anh_chị': 1458, 'ahihi': 1459, 'tp': 1460, 'đến_nỗi': 1461, 'thùng_thình': 1462, 'bạc': 1463, 'kỳ_lạ': 1464, 'gầy': 1465, 'đề_xuất': 1466, 'khiếu_nại': 1467, 'giấu': 1468, 'chắp_vá': 1469, 'bí_bách': 1470, 'hình_ảnh_mẫu': 1471, 'gym': 1472, 'ưa_chuộng': 1473, 'ngứa': 1474, 'mặc_cực': 1475, 'vật_phẩm': 1476, 'lót_nỉ': 1477, 'bay': 1478, 'co_kế': 1479, 'chịu': 1480, '😭': 1481, 'cuối': 1482, 'bụi': 1483, '😃': 1484, 'quy_trình': 1485, 'hỏng': 1486, 'quốc_tế': 1487, 'quần_ngắn': 1488, 'tồi_tệ': 1489, 'áo_cm': 1490, 'mũi': 1491, '💯': 1492, 'kỹ_lưỡng': 1493, 'ghi_chú': 1494, 'ai_ngờ': 1495, 'lật': 1496, 'ngược': 1497, 'áo_mặc': 1498, 'cam': 1499, 'đất': 1500, 'nổi_bật': 1501, 'rep': 1502, '🌟': 1503, 'tuy': 1504, 'trận': 1505, 'kích_ứng': 1506, 'giống_hệt': 1507, 'vo': 1508, 'đồ_basic': 1509, 'shiper_hơi_ngại': 1510, 'thuốc': 1511, 'heheh': 1512, 'ngăn': 1513, 'cấu_trúc': 1514, 'thông_thoáng': 1515, 'gọi_là': 1516, 'wao': 1517, 'đề_nghị': 1518, 'vứt': 1519, 'may_chắc_chắn': 1520, 'hợp': 1521, 'điều_khó_chịu': 1522, 'bẩn_mặc_dù': 1523, 'hích': 1524, 'kẻ': 1525, 'màu_sắc_đẹp': 1526, 'háo_hức': 1527, 'lồn': 1528, 'động_thái': 1529, 'hiện_nay': 1530, 'sai_kích_thước': 1531, 'lúc_nào': 1532, 'ngâm': 1533, 'tung': 1534, 'quần_thậm_chí': 1535, '😌': 1536, 'sinh_nhật': 1537, 'kiểm_tra_sản_phẩm': 1538, 'kho': 1539, 'văn_phòng': 1540, 'tức_giận': 1541, 'thẻ': 1542, 'vật_liệu': 1543, 'cửa_hàng_cbi': 1544, 'silip': 1545, 'thắc_mắc': 1546, 'tươi_tắn': 1547, 'trễ': 1548, 'tổng_cộng': 1549, 'áo_fide': 1550, '🤢': 1551, 'chung': 1552, 'váy_tệ': 1553, 'vợ': 1554, 'nha_trang': 1555, 'dễ_phối': 1556, 'shopmal': 1557, 'chăm_sóc_tệ': 1558, 'bì_siêu': 1559, 'dãn': 1560, 'mát_giá_cả': 1561, 'bình_dân': 1562, 'mó': 1563, 'gò_bó': 1564, 'vận_động': 1565, 'để_ý': 1566, 'khăn_quàng': 1567, 'cổ_liên_tiếp': 1568, '😁': 1569, 'lộn': 1570, 'tróc': 1571, 'cộng': 1572, 'xác_thực': 1573, 'kỳ_vọng': 1574, 'phân_vân': 1575, 'hông': 1576, 'vải_lót': 1577, 'lót': 1578, 'cởi': 1579, 'tĩnh_điện': 1580, 'bánh': 1581, 'xe_bò': 1582, 'spandex': 1583, 'áo_coton': 1584, 'colmate': 1585, 'biến': 1586, 'thu': 1587, 'trắng_tinh': 1588, 'ngà': 1589, '😋': 1590, 'xinh_đẹp': 1591, 'siêu_dễ_thương': 1592, 'hôi': 1593, 'hám': 1594, 'đánh_giá_quần_bagy': 1595, 'sáp_thơm': 1596, 'ngửi': 1597, 'vội_vàng': 1598, 'tối_đa': 1599, 'ping': 1600, 'tương_tác': 1601, 'một_vài': 1602, 'nhỏ_giọt': 1603, 'hài_lớp': 1604, 'tào_lao': 1605, 'xước': 1606, '☺ __': 1607, 'đồng': 1608, 'áo_siêu': 1609, 'dép': 1610, 'band': 1611, 'haiz': 1612, 'thực_tế': 1613, '💓': 1614, 'hét': 1615, 'siêu_thoải_mái': 1616, 'nhỉ': 1617, 'đăng': 1618, 'bức': 1619, 'ghê': 1620, 'cuộc': 1621, 'đồ_lót': 1622, 'gấu_áo': 1623, 'cân_đối': 1624, 'thuốc_trừ_sâu': 1625, 'cọ': 1626, 'hình_thêu': 1627, 'ta': 1628, 'cử_động': 1629, 'đáy': 1630, 'khiến': 1631, 'quỳ': 1632, 'lạy': 1633, '🙌': 1634, 'lừa_dối': 1635, 'chê': 1636, '😆': 1637, 'chữ_viết': 1638, 'bó_sát': 1639, 'mặc_mát': 1640, 'kín_đáo': 1641, '😊 __quần': 1642, 'nghỉ_ngơi': 1643, 'phòng_chống': 1644, 'quan': 1645, 'danh_sách': 1646, 'bonus': 1647, 'tỏ_tình_thất_bại': 1648, 'khía_cạnh': 1649, 'nữ_sinh': 1650, 'trung_học': 1651, 'nhẹ_nhàng': 1652, 'nằm': 1653, 'phạm_vi': 1654, 'ngoại_hình': 1655, 'sọc': 1656, 'ghép': 1657, 'cardina': 1658, 'công_sở': 1659, 'dịu_dàng': 1660, 'bởi_vì': 1661, 'tư': 1662, '❤ ️': 1663, '__ ❤': 1664, 'nách': 1665, 'gian_dối': 1666, 'kiểu_mẫu': 1667, '🤝': 1668, 'vô_lý': 1669, 'súp': 1670, 'một_số_độ': 1671, 'sở_thích': 1672, 'keo_dán': 1673, 'kèm_phiếu': 1674, '😛': 1675, 'khó_khăn': 1676, 'ập': 1677, 'chúng_ta': 1678, 'ví_dụ': 1679, 'gây': 1680, 'hahaha': 1681, 'người_nhà': 1682, 'nói_chuyện': 1683, 'lỗi_có_thể': 1684, 'trùng': 1685, 'bách_hợp': 1686, 'lun_y': 1687, 'uho_cửa_hàng': 1688, 'máy_giặt': 1689, 'nguyên_vẹn': 1690, 'bà_già': 1691, '✌': 1692, 'cún': 1693, 'lộn_xộn': 1694, 'gỗ': 1695, 'nấu_ăn': 1696, 'ăn': 1697, 'cấm_kỵ': 1698, 'trường_học': 1699, 'lịch_sử': 1700, 'đô': 1701, 'đạt': 1702, 'thèm': 1703, 'trạng_thái': 1704, 'địa_phương': 1705, 'khắt_khe': 1706, 'máy_lạnh': 1707, 'thịnh_vượng': 1708, 'xin': 1709, 'siêng_năng': 1710, 'inbox': 1711, 'nhỏ_nhắn': 1712, 'có_thể_giặt': 1713, 'nhăn_tí': 1714, 'nhu_lok': 1715, 'áo_mặc_dù': 1716, 'sop': 1717, 'ngần_ngại': 1718, 'form_dáng': 1719, 'quần_lót': 1720, 'có_thể_phối': 1721, 'thích_chất_lượng': 1722, 'làm_lại': 1723, 'phát_hiện': 1724, 'tính_chất_minh': 1725, 'họa': 1726, 'khoản': 1727, 'cạp_quần': 1728, 'hầu_hết': 1729, 'bóc': 1730, 'box': 1731, 'flash': 1732, 'vượt': 1733, 'ráo': 1734, 'n': 1735, 'kaka': 1736, 'bàn': 1737, 'thẳng': 1738, 'thơm_nhẹ': 1739, 'thanh': 1740, 'lịch': 1741, 'jbagy': 1742, 'nổi_tiếng': 1743, 'yanme': 1744, 'bự': 1745, 'nền_tảng': 1746, 'thương_mại_điện_tử': 1747, 'áo_đóng_hộp': 1748, 'màng': 1749, 'xốp_khí': 1750, 'tạo': 1751, 'kèm_thiệp': 1752, 'xịn': 1753, 'cây': 1754, 'nhạt': 1755, 'lấn_át': 1756, 'màu_da': 1757, 'okila': 1758, 'đúng_mực': 1759, 'ngại': 1760, 'áo_đẹp': 1761, 'trái': 1762, 'gian_lận': 1763, 'bằng_chứng': 1764, 'nhái': 1765, 'lý_do': 1766, 'sự_việc': 1767, 'xảy': 1768, 'vải_lanh': 1769, 'rách_nát': 1770, 'thưởng': 1771, 'nào_tệ': 1772, 'phát_đạt': 1773, 'công_sức': 1774, 'kiếm': 1775, 'mèo': 1776, 'nôn': 1777, 'tông_màu': 1778, 'hài_hòa': 1779, 'dù_sao': 1780, 'tập_tạ': 1781, 'chất_lượng_quần': 1782, 'sống_sót': 1783, 'c': 1784, 'giao_hàng_không': 1785, 'nho': 1786, 'đề_cập': 1787, 'siêu_ưng_ý': 1788, 'cành': 1789, 'thể_thao_polo': 1790, 'any': 1791, 'cập_nhật_trạng_thái': 1792, 'vắng': 1793, 'cuộc_gọi': 1794, 'ít_nhất': 1795, 'may_tỉ_mỉ': 1796, 'mở_miệng': 1797, 'tương_đối': 1798, 'h': 1799, 'cbi': 1800, 'chàng': 1801, 'hủy_đơn': 1802, 'thấu': 1803, 'đen_trắng': 1804, 'trở_thành': 1805, 'thay_đổi': 1806, 'bóp': 1807, 'lãng_phí_thời_gian': 1808, 'chese': 1809, 'stick': 1810, 'mà_còn': 1811, '🤤': 1812, 'không_thể_giải_quyết': 1813, 'trông_gọn_gàng': 1814, 'bệnh': 1815, 'phong': 1816, '♡': 1817, 'thẩm_định': 1818, 'ngoại_cỡ': 1819, 'màu_sắc_phù_hợp': 1820, 'giới': 1821, 'ăn_mặc': 1822, '😀': 1823, 'buồn_tẻ': 1824, 'túi_khóa': 1825, 'nhằm': 1826, 'kế': 1827, 'mỏng_manh': 1828, 'mong_muốn': 1829, 'tải': 1830, 'quần_áo_dài': 1831, 'ra_mắt': 1832, 'buổi': 1833, 'làm_phiền': 1834, 'điên_đảo': 1835, 'ngu': 1836, 'ngốc': 1837, 'tv': 1838, 'phấn_khích': 1839, 'sắc_đẹp': 1840, 'sơ_xài': 1841, 'từng': 1842, 'đôi': 1843, 'quần_chất_lượng': 1844, 'chán_đời': 1845, 'hình_mẫu': 1846, 'dựng_đứng': 1847, 'da_cá_dày': 1848, 'riêng_biệt': 1849, 'ép': 1850, 'thân': 1851, 'hình_giá_cả': 1852, 'thi_đấu': 1853, 'đột_nhiên': 1854, 'gọn': 1855, 'gàng': 1856, 'quyết_định': 1857, 'opa': 1858, 'papa': 1859, 'rêu_hơi': 1860, 'set': 1861, 'vest': 1862, 'bảo_vệ': 1863, 'tổn_thất': 1864, 'đảm_bảo': 1865, 'thân_thiện_quần': 1866, 'nồi': 1867, 'shope_expres': 1868, 'áo_sơ': 1869, 'mi': 1870, 'do_dự': 1871, 'ống_quần': 1872, 'minh': 1873, 'rác_rưởi': 1874, 'trộn': 1875, 'vụn': 1876, 'thật_ra': 1877, 'kim_mũi': 1878, 'cuộc_sống': 1879, 'thông_thường': 1880, 'tư_vấn_viên': 1881, 'hài_hước': 1882, 'giỏ': 1883, 'bấy_lâu_nay': 1884, 'chứng_tỏ': 1885, 'nhấc': 1886, 'trứng': 1887, 'bông': 1888, 'cúng': 1889, 'mặc_size': 1890, 'bao_lâu': 1891, 'tách': 1892, 'bám': 1893, 'nóng_thế_này': 1894, 'hứa': 1895, 'sức': 1896, 'tưởng_tượng': 1897, 'kim': 1898, 'đỉnh': 1899, 'lah': 1900, 'chủ_yếu': 1901, 'dư_thừa': 1902, 'trả_phí': 1903, 'hài_chiều': 1904, '👍 _đánh_giá': 1905, '😜 __': 1906, 'giặt_bộ': 1907, 'lhamr': 1908, 'đắn_đo': 1909, 'mô_hình': 1910, 'ncl': 1911, 'unisex': 1912, 'bực_bội': 1913, 'khác_gì_quần': 1914, 'đặt_hàng_size_xl': 1915, 'shipo': 1916, 'sàn': 1917, 'thành_viên': 1918, 'mềm_mát': 1919, 'kêu_gọi': 1920, 'đồng_nghiệp': 1921, 'chia_sẻ': 1922, 'tỏ': 1923, 'trò_chơi': 1924, 'hỏi_thăm': 1925, 'kích_thước_phù_hợp': 1926, 'chị': 1927, 'sở_hữu': 1928, 'lũ': 1929, 'khốn_nạn': 1930, 'bọn': 1931, 'live': 1932, 'liên_quan': 1933, 'mờ': 1934, 'quần_dày': 1935, 'siêu_tệ': 1936, 'kiểm_tra_cẩn_thận': 1937, 'hỏng_danh_tiếng': 1938, 'sậy': 1939, 'giao_hài': 1940, 'polo': 1941, 'trend': 1942, 'ki': 1943, 'hcm': 1944, 'v': 1945, 'cao_': 1946, '😂 _cửa_hàng': 1947, 'xanh_rêu': 1948, 'combo': 1949, 'hoàn_chỉnh': 1950, 'siêu_cẩn_thận': 1951, 'yody': 1952, 'góp_ý': 1953, 'nước_hoa': 1954, 'thay_vì': 1955, 'ngoài_trời': 1956, 'nắng_nóng': 1957, '🥺': 1958, 'đục': 1959, 'nguy_hiểm': 1960, 'quần_ổn': 1961, '😑': 1962, 'cần_ủi': 1963, 'quần_mỏng': 1964, 'khăn': 1965, 'phối_đồ': 1966, 'rò_rỉ_thông_tin': 1967, 'tương_đương': 1968, 'đầy': 1969, 'tử_tế': 1970, 'có_vẻ_mát_mẻ': 1971, 'sản_xuất': 1972, 'thời_trang_nam': 1973, 'không_thể_chê': 1974, 'đánh_giá_sao': 1975, 'không_thể_trách': 1976}\n"
     ]
    }
   ],
   "source": [
    "vocab1 = build_vocabulary(train_x1)\n",
    "num_words1 = len(vocab1)\n",
    "print(f\"Vocabulary contains {num_words1} words\\n\")\n",
    "print(vocab1)"
   ]
  },
  {
   "cell_type": "code",
   "execution_count": 61,
   "metadata": {
    "colab": {
     "base_uri": "https://localhost:8080/"
    },
    "executionInfo": {
     "elapsed": 11,
     "status": "ok",
     "timestamp": 1734288717446,
     "user": {
      "displayName": "Nguyễn Trương Hoàng",
      "userId": "04971599599493899416"
     },
     "user_tz": -420
    },
    "id": "E5PsXqWjkT4D",
    "outputId": "fcb05fa4-b3b6-4e15-b5ac-1015d0c02275"
   },
   "outputs": [
    {
     "name": "stdout",
     "output_type": "stream",
     "text": [
      "The length of the longest tweet is 59 tokens.\n"
     ]
    }
   ],
   "source": [
    "max_len1 = max_length(train_x1, val_x1)\n",
    "print(f'The length of the longest tweet is {max_len1} tokens.')"
   ]
  },
  {
   "cell_type": "code",
   "execution_count": 62,
   "metadata": {
    "id": "cXxu_KDxkT4D"
   },
   "outputs": [],
   "source": [
    "train_x_padded1 = [padded_sequence(x, vocab1, max_len1) for x in train_x1]\n",
    "val_x_padded1 = [padded_sequence(x, vocab1, max_len1) for x in val_x1]"
   ]
  },
  {
   "cell_type": "markdown",
   "metadata": {
    "id": "6f6o9QPNkT4D"
   },
   "source": [
    "### ___6.3. Mô hình học máy - Logistic regression - split___"
   ]
  },
  {
   "cell_type": "code",
   "execution_count": 63,
   "metadata": {
    "colab": {
     "base_uri": "https://localhost:8080/",
     "height": 1000
    },
    "executionInfo": {
     "elapsed": 94877,
     "status": "ok",
     "timestamp": 1734288845694,
     "user": {
      "displayName": "Nguyễn Trương Hoàng",
      "userId": "04971599599493899416"
     },
     "user_tz": -420
    },
    "id": "KDrreU3ekT4E",
    "outputId": "207cf3da-ee9b-4c65-857b-88801f6b67ce"
   },
   "outputs": [
    {
     "name": "stderr",
     "output_type": "stream",
     "text": [
      "c:\\Users\\Nguyen_Thanh_Vinh\\anaconda3\\envs\\RP_Env\\Lib\\site-packages\\sklearn\\linear_model\\_sag.py:349: ConvergenceWarning: The max_iter was reached which means the coef_ did not converge\n",
      "  warnings.warn(\n",
      "c:\\Users\\Nguyen_Thanh_Vinh\\anaconda3\\envs\\RP_Env\\Lib\\site-packages\\sklearn\\linear_model\\_sag.py:349: ConvergenceWarning: The max_iter was reached which means the coef_ did not converge\n",
      "  warnings.warn(\n",
      "c:\\Users\\Nguyen_Thanh_Vinh\\anaconda3\\envs\\RP_Env\\Lib\\site-packages\\sklearn\\linear_model\\_sag.py:349: ConvergenceWarning: The max_iter was reached which means the coef_ did not converge\n",
      "  warnings.warn(\n",
      "c:\\Users\\Nguyen_Thanh_Vinh\\anaconda3\\envs\\RP_Env\\Lib\\site-packages\\sklearn\\linear_model\\_sag.py:349: ConvergenceWarning: The max_iter was reached which means the coef_ did not converge\n",
      "  warnings.warn(\n",
      "c:\\Users\\Nguyen_Thanh_Vinh\\anaconda3\\envs\\RP_Env\\Lib\\site-packages\\sklearn\\linear_model\\_sag.py:349: ConvergenceWarning: The max_iter was reached which means the coef_ did not converge\n",
      "  warnings.warn(\n",
      "c:\\Users\\Nguyen_Thanh_Vinh\\anaconda3\\envs\\RP_Env\\Lib\\site-packages\\sklearn\\linear_model\\_sag.py:349: ConvergenceWarning: The max_iter was reached which means the coef_ did not converge\n",
      "  warnings.warn(\n",
      "c:\\Users\\Nguyen_Thanh_Vinh\\anaconda3\\envs\\RP_Env\\Lib\\site-packages\\sklearn\\linear_model\\_sag.py:349: ConvergenceWarning: The max_iter was reached which means the coef_ did not converge\n",
      "  warnings.warn(\n",
      "c:\\Users\\Nguyen_Thanh_Vinh\\anaconda3\\envs\\RP_Env\\Lib\\site-packages\\sklearn\\linear_model\\_sag.py:349: ConvergenceWarning: The max_iter was reached which means the coef_ did not converge\n",
      "  warnings.warn(\n",
      "c:\\Users\\Nguyen_Thanh_Vinh\\anaconda3\\envs\\RP_Env\\Lib\\site-packages\\sklearn\\linear_model\\_sag.py:349: ConvergenceWarning: The max_iter was reached which means the coef_ did not converge\n",
      "  warnings.warn(\n",
      "c:\\Users\\Nguyen_Thanh_Vinh\\anaconda3\\envs\\RP_Env\\Lib\\site-packages\\sklearn\\linear_model\\_sag.py:349: ConvergenceWarning: The max_iter was reached which means the coef_ did not converge\n",
      "  warnings.warn(\n",
      "c:\\Users\\Nguyen_Thanh_Vinh\\anaconda3\\envs\\RP_Env\\Lib\\site-packages\\sklearn\\linear_model\\_sag.py:349: ConvergenceWarning: The max_iter was reached which means the coef_ did not converge\n",
      "  warnings.warn(\n",
      "c:\\Users\\Nguyen_Thanh_Vinh\\anaconda3\\envs\\RP_Env\\Lib\\site-packages\\sklearn\\linear_model\\_sag.py:349: ConvergenceWarning: The max_iter was reached which means the coef_ did not converge\n",
      "  warnings.warn(\n",
      "c:\\Users\\Nguyen_Thanh_Vinh\\anaconda3\\envs\\RP_Env\\Lib\\site-packages\\sklearn\\linear_model\\_sag.py:349: ConvergenceWarning: The max_iter was reached which means the coef_ did not converge\n",
      "  warnings.warn(\n",
      "c:\\Users\\Nguyen_Thanh_Vinh\\anaconda3\\envs\\RP_Env\\Lib\\site-packages\\sklearn\\linear_model\\_sag.py:349: ConvergenceWarning: The max_iter was reached which means the coef_ did not converge\n",
      "  warnings.warn(\n",
      "c:\\Users\\Nguyen_Thanh_Vinh\\anaconda3\\envs\\RP_Env\\Lib\\site-packages\\sklearn\\linear_model\\_sag.py:349: ConvergenceWarning: The max_iter was reached which means the coef_ did not converge\n",
      "  warnings.warn(\n",
      "c:\\Users\\Nguyen_Thanh_Vinh\\anaconda3\\envs\\RP_Env\\Lib\\site-packages\\sklearn\\linear_model\\_sag.py:349: ConvergenceWarning: The max_iter was reached which means the coef_ did not converge\n",
      "  warnings.warn(\n",
      "c:\\Users\\Nguyen_Thanh_Vinh\\anaconda3\\envs\\RP_Env\\Lib\\site-packages\\sklearn\\linear_model\\_sag.py:349: ConvergenceWarning: The max_iter was reached which means the coef_ did not converge\n",
      "  warnings.warn(\n",
      "c:\\Users\\Nguyen_Thanh_Vinh\\anaconda3\\envs\\RP_Env\\Lib\\site-packages\\sklearn\\linear_model\\_sag.py:349: ConvergenceWarning: The max_iter was reached which means the coef_ did not converge\n",
      "  warnings.warn(\n",
      "c:\\Users\\Nguyen_Thanh_Vinh\\anaconda3\\envs\\RP_Env\\Lib\\site-packages\\sklearn\\linear_model\\_sag.py:349: ConvergenceWarning: The max_iter was reached which means the coef_ did not converge\n",
      "  warnings.warn(\n",
      "c:\\Users\\Nguyen_Thanh_Vinh\\anaconda3\\envs\\RP_Env\\Lib\\site-packages\\sklearn\\linear_model\\_sag.py:349: ConvergenceWarning: The max_iter was reached which means the coef_ did not converge\n",
      "  warnings.warn(\n",
      "c:\\Users\\Nguyen_Thanh_Vinh\\anaconda3\\envs\\RP_Env\\Lib\\site-packages\\sklearn\\linear_model\\_sag.py:349: ConvergenceWarning: The max_iter was reached which means the coef_ did not converge\n",
      "  warnings.warn(\n",
      "c:\\Users\\Nguyen_Thanh_Vinh\\anaconda3\\envs\\RP_Env\\Lib\\site-packages\\sklearn\\linear_model\\_sag.py:349: ConvergenceWarning: The max_iter was reached which means the coef_ did not converge\n",
      "  warnings.warn(\n",
      "c:\\Users\\Nguyen_Thanh_Vinh\\anaconda3\\envs\\RP_Env\\Lib\\site-packages\\sklearn\\linear_model\\_sag.py:349: ConvergenceWarning: The max_iter was reached which means the coef_ did not converge\n",
      "  warnings.warn(\n",
      "c:\\Users\\Nguyen_Thanh_Vinh\\anaconda3\\envs\\RP_Env\\Lib\\site-packages\\sklearn\\linear_model\\_sag.py:349: ConvergenceWarning: The max_iter was reached which means the coef_ did not converge\n",
      "  warnings.warn(\n",
      "c:\\Users\\Nguyen_Thanh_Vinh\\anaconda3\\envs\\RP_Env\\Lib\\site-packages\\sklearn\\linear_model\\_sag.py:349: ConvergenceWarning: The max_iter was reached which means the coef_ did not converge\n",
      "  warnings.warn(\n",
      "c:\\Users\\Nguyen_Thanh_Vinh\\anaconda3\\envs\\RP_Env\\Lib\\site-packages\\sklearn\\linear_model\\_sag.py:349: ConvergenceWarning: The max_iter was reached which means the coef_ did not converge\n",
      "  warnings.warn(\n"
     ]
    },
    {
     "name": "stdout",
     "output_type": "stream",
     "text": [
      "Best hyperparameters (Logistic regression): {'solver': 'saga', 'penalty': 'l2', 'C': 100}\n",
      "Best score (Logistic regression): 0.743665800957887\n",
      "Best Logistic regression Accuracy: 0.7354154390100177\n",
      "Best Logistic regression Precision: 0.9713831478537361\n",
      "Best Logistic regression Recall: 0.7474006116207951\n",
      "Best Logistic regression AUC: 0.515304330191105\n",
      "\n",
      "Classification Report:  LogisticRegression\n",
      "              precision    recall  f1-score   support\n",
      "\n",
      "           0       0.42      0.06      0.10       439\n",
      "           1       0.75      0.97      0.84      1258\n",
      "\n",
      "    accuracy                           0.74      1697\n",
      "   macro avg       0.58      0.52      0.47      1697\n",
      "weighted avg       0.66      0.74      0.65      1697\n",
      "\n",
      "ROC_AUC_SCORE is  0.515304330191105\n"
     ]
    },
    {
     "data": {
      "image/png": "[encoded data removed]",
      "text/plain": [
       "<Figure size 640x480 with 1 Axes>"
      ]
     },
     "metadata": {},
     "output_type": "display_data"
    },
    {
     "data": {
      "image/png": "[encoded data removed]",
      "text/plain": [
       "<Figure size 640x480 with 2 Axes>"
      ]
     },
     "metadata": {},
     "output_type": "display_data"
    }
   ],
   "source": [
    "logreg_results = MLT.tune_logistic_regression(train_x_padded1, train_y1, val_x_padded1, val_y1)"
   ]
  },
  {
   "cell_type": "code",
   "execution_count": 64,
   "metadata": {
    "id": "9RoE7WlbkT4E"
   },
   "outputs": [],
   "source": [
    "best_logreg_model_split = logreg_results[0]"
   ]
  },
  {
   "cell_type": "markdown",
   "metadata": {
    "id": "M4KZZ3TtkT4E"
   },
   "source": [
    "### ___6.4. Mô hình học máy - Random forest - split___"
   ]
  },
  {
   "cell_type": "code",
   "execution_count": 65,
   "metadata": {
    "colab": {
     "base_uri": "https://localhost:8080/"
    },
    "executionInfo": {
     "elapsed": 49288,
     "status": "ok",
     "timestamp": 1734288908790,
     "user": {
      "displayName": "Nguyễn Trương Hoàng",
      "userId": "04971599599493899416"
     },
     "user_tz": -420
    },
    "id": "iVLNYmVOkT4E",
    "outputId": "349119c0-d542-4a54-cd3e-50c9e92ff4b1"
   },
   "outputs": [
    {
     "name": "stderr",
     "output_type": "stream",
     "text": [
      "c:\\Users\\Nguyen_Thanh_Vinh\\anaconda3\\envs\\RP_Env\\Lib\\site-packages\\sklearn\\model_selection\\_validation.py:540: FitFailedWarning: \n",
      "15 fits failed out of a total of 50.\n",
      "The score on these train-test partitions for these parameters will be set to nan.\n",
      "If these failures are not expected, you can try to debug them by setting error_score='raise'.\n",
      "\n",
      "Below are more details about the failures:\n",
      "--------------------------------------------------------------------------------\n",
      "15 fits failed with the following error:\n",
      "Traceback (most recent call last):\n",
      "  File \"c:\\Users\\Nguyen_Thanh_Vinh\\anaconda3\\envs\\RP_Env\\Lib\\site-packages\\sklearn\\model_selection\\_validation.py\", line 888, in _fit_and_score\n",
      "    estimator.fit(X_train, y_train, **fit_params)\n",
      "  File \"c:\\Users\\Nguyen_Thanh_Vinh\\anaconda3\\envs\\RP_Env\\Lib\\site-packages\\sklearn\\base.py\", line 1466, in wrapper\n",
      "    estimator._validate_params()\n",
      "  File \"c:\\Users\\Nguyen_Thanh_Vinh\\anaconda3\\envs\\RP_Env\\Lib\\site-packages\\sklearn\\base.py\", line 666, in _validate_params\n",
      "    validate_parameter_constraints(\n",
      "  File \"c:\\Users\\Nguyen_Thanh_Vinh\\anaconda3\\envs\\RP_Env\\Lib\\site-packages\\sklearn\\utils\\_param_validation.py\", line 95, in validate_parameter_constraints\n",
      "    raise InvalidParameterError(\n",
      "sklearn.utils._param_validation.InvalidParameterError: The 'max_features' parameter of RandomForestClassifier must be an int in the range [1, inf), a float in the range (0.0, 1.0], a str among {'log2', 'sqrt'} or None. Got 'auto' instead.\n",
      "\n",
      "  warnings.warn(some_fits_failed_message, FitFailedWarning)\n",
      "c:\\Users\\Nguyen_Thanh_Vinh\\anaconda3\\envs\\RP_Env\\Lib\\site-packages\\sklearn\\model_selection\\_search.py:1102: UserWarning: One or more of the test scores are non-finite: [       nan 0.74248727        nan        nan 0.74602351 0.74337125\n",
      " 0.74705422 0.74381362 0.74322365 0.75559967]\n",
      "  warnings.warn(\n"
     ]
    },
    {
     "name": "stdout",
     "output_type": "stream",
     "text": [
      "Best hyperparameters (RandomForestClassifier): {'max_depth': 42, 'max_features': 'log2', 'min_samples_leaf': 3, 'min_samples_split': 6, 'n_estimators': 197}\n",
      "Best score (RandomForestClassifier): 0.7555996670295191\n",
      "Best Random Forest Accuracy: 0.7690041249263406\n",
      "Best Random Forest Precision: 0.9705882352941176\n",
      "Best Random Forest Recall: 0.774746192893401\n",
      "Best Random Forest AUC: 0.5809660994238242\n",
      "Classification Report:  RandomForestClassifier\n",
      "              precision    recall  f1-score   support\n",
      "\n",
      "           0       0.69      0.19      0.30       439\n",
      "           1       0.77      0.97      0.86      1258\n",
      "\n",
      "    accuracy                           0.77      1697\n",
      "   macro avg       0.73      0.58      0.58      1697\n",
      "weighted avg       0.75      0.77      0.72      1697\n",
      "\n",
      "ROC_AUC_SCORE is  0.5809660994238242\n"
     ]
    },
    {
     "data": {
      "image/png": "[encoded data removed]",
      "text/plain": [
       "<Figure size 640x480 with 1 Axes>"
      ]
     },
     "metadata": {},
     "output_type": "display_data"
    },
    {
     "data": {
      "image/png": "[encoded data removed]",
      "text/plain": [
       "<Figure size 640x480 with 2 Axes>"
      ]
     },
     "metadata": {},
     "output_type": "display_data"
    }
   ],
   "source": [
    "rf_results = MLT.tune_random_forest(train_x_padded1, train_y1, val_x_padded1, val_y1)"
   ]
  },
  {
   "cell_type": "code",
   "execution_count": 66,
   "metadata": {
    "id": "BlmBPDG0kT4F"
   },
   "outputs": [],
   "source": [
    "best_rf_model_split = rf_results[0]"
   ]
  },
  {
   "cell_type": "markdown",
   "metadata": {
    "id": "U9-5EelvkT4F"
   },
   "source": [
    "### ___6.5. Mô hình học máy - Navie Bayes - split___"
   ]
  },
  {
   "cell_type": "code",
   "execution_count": 67,
   "metadata": {
    "colab": {
     "base_uri": "https://localhost:8080/"
    },
    "executionInfo": {
     "elapsed": 1707,
     "status": "ok",
     "timestamp": 1734288910491,
     "user": {
      "displayName": "Nguyễn Trương Hoàng",
      "userId": "04971599599493899416"
     },
     "user_tz": -420
    },
    "id": "5tXRHyGpkT4F",
    "outputId": "b79d2356-59ba-49a8-e0f9-7e5fddfb173f"
   },
   "outputs": [
    {
     "name": "stdout",
     "output_type": "stream",
     "text": [
      "Best hyperparameters (MultinomialNB): {'alpha': 6.114762302756431}\n",
      "Best score (MultinomialNB): 0.7225990147633554\n",
      "Best Navie Bayes Accuracy: 0.7189157336476134\n",
      "Best Naive Bayes Precision: 0.8839427662957074\n",
      "Best Navie Bayes Recall: 0.7706167706167706\n",
      "Best Naive Bayes AUC: 0.5649782168608377\n",
      "Classification Report:  MultinomialNB\n",
      "              precision    recall  f1-score   support\n",
      "\n",
      "           0       0.43      0.25      0.31       439\n",
      "           1       0.77      0.88      0.82      1258\n",
      "\n",
      "    accuracy                           0.72      1697\n",
      "   macro avg       0.60      0.56      0.57      1697\n",
      "weighted avg       0.68      0.72      0.69      1697\n",
      "\n",
      "ROC_AUC_SCORE is  0.5649782168608377\n"
     ]
    },
    {
     "data": {
      "image/png": "[encoded data removed]",
      "text/plain": [
       "<Figure size 640x480 with 1 Axes>"
      ]
     },
     "metadata": {},
     "output_type": "display_data"
    },
    {
     "data": {
      "image/png": "[encoded data removed]",
      "text/plain": [
       "<Figure size 640x480 with 2 Axes>"
      ]
     },
     "metadata": {},
     "output_type": "display_data"
    }
   ],
   "source": [
    "nb_results = MLT.tune_multinomial_nb(train_x_padded1, train_y1, val_x_padded1, val_y1)"
   ]
  },
  {
   "cell_type": "code",
   "execution_count": 68,
   "metadata": {
    "id": "Fx1JT9XqkT4F"
   },
   "outputs": [],
   "source": [
    "best_nb_results_split = nb_results[0]"
   ]
  },
  {
   "cell_type": "markdown",
   "metadata": {
    "id": "pCfi5xV5kT4F"
   },
   "source": [
    "### ___6.6. Mô hình học sâu - LSTM - split___"
   ]
  },
  {
   "cell_type": "code",
   "execution_count": 84,
   "metadata": {
    "id": "YeIHG0NYkT4F"
   },
   "outputs": [],
   "source": [
    "train_x_prepared1 = np.array(train_x_padded1)\n",
    "val_x_prepared1 = np.array(val_x_padded1)\n",
    "\n",
    "train_y_prepared1 = np.array(train_y1)\n",
    "val_y_prepared1 = np.array(val_y1)"
   ]
  },
  {
   "cell_type": "code",
   "execution_count": 85,
   "metadata": {},
   "outputs": [],
   "source": [
    "def build_model(hp):\n",
    "    model = Sequential()\n",
    "    embedding_dim = 16\n",
    "    model.add(Embedding(input_dim=num_words1, output_dim=embedding_dim, input_length=max_len1))\n",
    "\n",
    "    for _ in range(hp.Int('num_lstm_layers', 1, 3)):\n",
    "        model.add(LSTM(hp.Int('lstm_units', 32, 128, step=32), return_sequences=True))\n",
    "        model.add(Dropout(0.5))\n",
    "\n",
    "    model.add(GlobalAveragePooling1D())\n",
    "    model.add(Dense(1, activation='sigmoid'))\n",
    "\n",
    "    model.compile(\n",
    "        loss='binary_crossentropy',\n",
    "        optimizer=Adam(hp.Float('learning_rate', 1e-4, 1e-2, sampling='log')),\n",
    "        metrics=['accuracy']\n",
    "    )\n",
    "    return model"
   ]
  },
  {
   "cell_type": "code",
   "execution_count": 86,
   "metadata": {
    "colab": {
     "base_uri": "https://localhost:8080/",
     "height": 1000
    },
    "executionInfo": {
     "elapsed": 14917,
     "status": "error",
     "timestamp": 1734289834886,
     "user": {
      "displayName": "Nguyễn Trương Hoàng",
      "userId": "04971599599493899416"
     },
     "user_tz": -420
    },
    "id": "UQfXK6NwkT4G",
    "outputId": "0c0afa8e-c0c7-4d4d-dc23-35b6473df01b"
   },
   "outputs": [
    {
     "name": "stdout",
     "output_type": "stream",
     "text": [
      "Trial 5 Complete [00h 10m 30s]\n",
      "val_accuracy: 0.9033588767051697\n",
      "\n",
      "Best val_accuracy So Far: 0.9033588767051697\n",
      "Total elapsed time: 00h 24m 56s\n"
     ]
    }
   ],
   "source": [
    "base_dir = r'sentiment_NKK'\n",
    "project_name = 'intro_to_ktt'\n",
    "directory = os.path.join(base_dir, project_name)\n",
    "\n",
    "if not os.path.exists(directory):\n",
    "    os.makedirs(directory)\n",
    "    print(f\"Created directory: {directory}\")\n",
    "else:\n",
    "    print(f\"Directory already exists: {directory}\")\n",
    "\n",
    "tuner = kt.RandomSearch(\n",
    "    build_model,\n",
    "    objective='val_accuracy',\n",
    "    max_trials=5,\n",
    "    executions_per_trial=1,\n",
    "    directory=base_dir,\n",
    "    project_name=project_name\n",
    ")\n",
    "\n",
    "# Tiến hành tìm kiếm siêu tham số\n",
    "tuner.search(train_x_prepared1, train_y_prepared1, epochs=20, validation_data=(val_x_prepared1, val_y_prepared1))"
   ]
  },
  {
   "cell_type": "code",
   "execution_count": 87,
   "metadata": {},
   "outputs": [
    {
     "name": "stdout",
     "output_type": "stream",
     "text": [
      "Best hyperparameters found:\n",
      "LSTM units: 64\n",
      "Number of LSTM layers: 3\n",
      "Learning rate: 0.005300696019167498\n"
     ]
    }
   ],
   "source": [
    "# Lấy các siêu tham số tốt nhất\n",
    "best_hps = tuner.get_best_hyperparameters(num_trials=1)[0]\n",
    "print(\"Best hyperparameters found:\")\n",
    "print(f\"LSTM units: {best_hps.get('lstm_units')}\")\n",
    "print(f\"Number of LSTM layers: {best_hps.get('num_lstm_layers')}\")\n",
    "print(f\"Learning rate: {best_hps.get('learning_rate')}\")"
   ]
  },
  {
   "cell_type": "code",
   "execution_count": null,
   "metadata": {},
   "outputs": [],
   "source": []
  }
 ],
 "metadata": {
  "accelerator": "GPU",
  "colab": {
   "collapsed_sections": [
    "-9KxtLYUUmnf",
    "PBW8kS98vaCf",
    "Cvq-yKZvYfMv",
    "vO3cv1hOwXLC",
    "SvDeRvK0wGeH",
    "kSIfEROqJlak",
    "9Ewj1UVPImfs"
   ],
   "gpuType": "T4",
   "provenance": []
  },
  "kernelspec": {
   "display_name": "Python 3",
   "name": "python3"
  },
  "language_info": {
   "codemirror_mode": {
    "name": "ipython",
    "version": 3
   },
   "file_extension": ".py",
   "mimetype": "text/x-python",
   "name": "python",
   "nbconvert_exporter": "python",
   "pygments_lexer": "ipython3",
   "version": "3.11.9"
  }
 },
 "nbformat": 4,
 "nbformat_minor": 0
}
